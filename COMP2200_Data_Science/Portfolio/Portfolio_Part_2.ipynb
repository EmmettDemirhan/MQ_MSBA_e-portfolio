{
 "cells": [
  {
   "cell_type": "markdown",
   "id": "74bd35d7",
   "metadata": {},
   "source": [
    "## Portfolio Part 2"
   ]
  },
  {
   "cell_type": "markdown",
   "id": "4f26a330",
   "metadata": {},
   "source": [
    "Student Name: *Umut Demirhan* \n",
    "\n",
    "Student ID: *46739106*"
   ]
  },
  {
   "cell_type": "markdown",
   "id": "b154a46c",
   "metadata": {},
   "source": [
    "The goal of the second Portfolio task is to train linear regression models to predict users' ratings towards movies. This involves a standard Data Science workflow: exploring data, building models, making predictions, and evaluating results. In this task, we will explore the impacts of feature selections and different sizes of training/testing data on the model performance. We will continue using the movielens dataset provided in Portfolio task 1. "
   ]
  },
  {
   "cell_type": "markdown",
   "id": "2566945d",
   "metadata": {},
   "source": [
    "### Import Cleaned MovieLens Dataset\n",
    "Save the cleaned data (i.e., after removing missing values and outliers) in the Portfolio task 1 as a csv file named 'movielens_data_clean.csv'. You may need to use the Pandas method, i.e., `to_csv`, for doing this. After that, please import the csv file (i.e., 'movielens_data_clean') and print out its total length."
   ]
  },
  {
   "cell_type": "code",
   "execution_count": 1,
   "id": "77e7deaa",
   "metadata": {},
   "outputs": [],
   "source": [
    "# Importing necessary libraries and packages\n",
    "import pandas as pd\n",
    "import numpy as np\n",
    "import matplotlib.pyplot as plt\n",
    "import seaborn as sns\n",
    "from matplotlib import pyplot\n",
    "from sklearn.linear_model import LinearRegression\n",
    "from sklearn import metrics\n",
    "from sklearn.model_selection import train_test_split\n",
    "from sklearn import linear_model\n",
    "from sklearn.metrics import r2_score\n",
    "plt.rcParams['figure.figsize'] = 25,9\n",
    "%matplotlib inline"
   ]
  },
  {
   "cell_type": "code",
   "execution_count": 2,
   "id": "c81819ca",
   "metadata": {},
   "outputs": [
    {
     "name": "stdout",
     "output_type": "stream",
     "text": [
      "The length of data is  96854\n"
     ]
    }
   ],
   "source": [
    "# importing the dataframe and printing the lenght\n",
    "movielens_data_clean = pd.read_csv('files/movielens_data_clean.csv')\n",
    "print('The length of data is ',  len(movielens_data_clean))"
   ]
  },
  {
   "cell_type": "markdown",
   "id": "2a656b42",
   "metadata": {},
   "source": [
    "### Explore the Dataset\n",
    "\n",
    "* Use the methods, i.e., `head()` and `info()`, to have a rough picture about the data, e.g., how many columns, and the data types of each column. \n",
    "* As our goal is to predict ratings given other columns, please get the correlations between age/gender/genre/occupation and rating by using the `corr()` method.\n",
    "* To get the correlations between different features, you may need to first convert the categorical features (i.e., gender, genre and occupation) into numerial values. For doing this, you may need to import `OrdinalEncoder` from `sklearn.preprocessing` (refer to the useful exmaples [here](https://pbpython.com/categorical-encoding.html))\n",
    "* Please provide ___necessary explanations/analysis___ on the correlations, and figure out which are the ___most___ and ___least___ corrleated features regarding rating. Try to ___discuss___ how the correlation will affect the final prediction results, if we use these features to train a regression model for rating prediction. In what follows, we will conduct experiments to verify your hypothesis."
   ]
  },
  {
   "cell_type": "code",
   "execution_count": 3,
   "id": "b722522d",
   "metadata": {
    "scrolled": true
   },
   "outputs": [
    {
     "data": {
      "text/html": [
       "<div>\n",
       "<style scoped>\n",
       "    .dataframe tbody tr th:only-of-type {\n",
       "        vertical-align: middle;\n",
       "    }\n",
       "\n",
       "    .dataframe tbody tr th {\n",
       "        vertical-align: top;\n",
       "    }\n",
       "\n",
       "    .dataframe thead th {\n",
       "        text-align: right;\n",
       "    }\n",
       "</style>\n",
       "<table border=\"1\" class=\"dataframe\">\n",
       "  <thead>\n",
       "    <tr style=\"text-align: right;\">\n",
       "      <th></th>\n",
       "      <th>userId</th>\n",
       "      <th>age</th>\n",
       "      <th>gender</th>\n",
       "      <th>occupation</th>\n",
       "      <th>movieId</th>\n",
       "      <th>rating</th>\n",
       "      <th>genre</th>\n",
       "      <th>timestamp</th>\n",
       "    </tr>\n",
       "  </thead>\n",
       "  <tbody>\n",
       "    <tr>\n",
       "      <th>0</th>\n",
       "      <td>196</td>\n",
       "      <td>49.0</td>\n",
       "      <td>M</td>\n",
       "      <td>writer</td>\n",
       "      <td>242</td>\n",
       "      <td>3.0</td>\n",
       "      <td>Comedy</td>\n",
       "      <td>881250949</td>\n",
       "    </tr>\n",
       "    <tr>\n",
       "      <th>1</th>\n",
       "      <td>22</td>\n",
       "      <td>25.0</td>\n",
       "      <td>M</td>\n",
       "      <td>writer</td>\n",
       "      <td>377</td>\n",
       "      <td>1.0</td>\n",
       "      <td>Children</td>\n",
       "      <td>878887116</td>\n",
       "    </tr>\n",
       "    <tr>\n",
       "      <th>2</th>\n",
       "      <td>244</td>\n",
       "      <td>28.0</td>\n",
       "      <td>M</td>\n",
       "      <td>technician</td>\n",
       "      <td>51</td>\n",
       "      <td>2.0</td>\n",
       "      <td>Romance</td>\n",
       "      <td>880606923</td>\n",
       "    </tr>\n",
       "    <tr>\n",
       "      <th>3</th>\n",
       "      <td>298</td>\n",
       "      <td>44.0</td>\n",
       "      <td>M</td>\n",
       "      <td>executive</td>\n",
       "      <td>474</td>\n",
       "      <td>4.0</td>\n",
       "      <td>War</td>\n",
       "      <td>884182806</td>\n",
       "    </tr>\n",
       "    <tr>\n",
       "      <th>4</th>\n",
       "      <td>253</td>\n",
       "      <td>26.0</td>\n",
       "      <td>F</td>\n",
       "      <td>librarian</td>\n",
       "      <td>465</td>\n",
       "      <td>5.0</td>\n",
       "      <td>Adventure</td>\n",
       "      <td>891628467</td>\n",
       "    </tr>\n",
       "  </tbody>\n",
       "</table>\n",
       "</div>"
      ],
      "text/plain": [
       "   userId   age gender  occupation  movieId  rating      genre  timestamp\n",
       "0     196  49.0      M      writer      242     3.0     Comedy  881250949\n",
       "1      22  25.0      M      writer      377     1.0   Children  878887116\n",
       "2     244  28.0      M  technician       51     2.0    Romance  880606923\n",
       "3     298  44.0      M   executive      474     4.0        War  884182806\n",
       "4     253  26.0      F   librarian      465     5.0  Adventure  891628467"
      ]
     },
     "execution_count": 3,
     "metadata": {},
     "output_type": "execute_result"
    }
   ],
   "source": [
    "movielens_data_clean.head()"
   ]
  },
  {
   "cell_type": "code",
   "execution_count": 4,
   "id": "71432a65",
   "metadata": {
    "scrolled": true
   },
   "outputs": [
    {
     "name": "stdout",
     "output_type": "stream",
     "text": [
      "<class 'pandas.core.frame.DataFrame'>\n",
      "RangeIndex: 96854 entries, 0 to 96853\n",
      "Data columns (total 8 columns):\n",
      " #   Column      Non-Null Count  Dtype  \n",
      "---  ------      --------------  -----  \n",
      " 0   userId      96854 non-null  int64  \n",
      " 1   age         96854 non-null  float64\n",
      " 2   gender      96854 non-null  object \n",
      " 3   occupation  96854 non-null  object \n",
      " 4   movieId     96854 non-null  int64  \n",
      " 5   rating      96854 non-null  float64\n",
      " 6   genre       96854 non-null  object \n",
      " 7   timestamp   96854 non-null  int64  \n",
      "dtypes: float64(2), int64(3), object(3)\n",
      "memory usage: 5.9+ MB\n"
     ]
    }
   ],
   "source": [
    "movielens_data_clean.info()"
   ]
  },
  {
   "cell_type": "code",
   "execution_count": 5,
   "id": "e147f957",
   "metadata": {},
   "outputs": [
    {
     "data": {
      "text/html": [
       "<div>\n",
       "<style scoped>\n",
       "    .dataframe tbody tr th:only-of-type {\n",
       "        vertical-align: middle;\n",
       "    }\n",
       "\n",
       "    .dataframe tbody tr th {\n",
       "        vertical-align: top;\n",
       "    }\n",
       "\n",
       "    .dataframe thead th {\n",
       "        text-align: right;\n",
       "    }\n",
       "</style>\n",
       "<table border=\"1\" class=\"dataframe\">\n",
       "  <thead>\n",
       "    <tr style=\"text-align: right;\">\n",
       "      <th></th>\n",
       "      <th>userId</th>\n",
       "      <th>age</th>\n",
       "      <th>gender</th>\n",
       "      <th>occupation</th>\n",
       "      <th>movieId</th>\n",
       "      <th>rating</th>\n",
       "      <th>genre</th>\n",
       "      <th>timestamp</th>\n",
       "      <th>gender_code</th>\n",
       "      <th>occupation_code</th>\n",
       "      <th>genre_code</th>\n",
       "    </tr>\n",
       "  </thead>\n",
       "  <tbody>\n",
       "    <tr>\n",
       "      <th>0</th>\n",
       "      <td>196</td>\n",
       "      <td>49.0</td>\n",
       "      <td>M</td>\n",
       "      <td>writer</td>\n",
       "      <td>242</td>\n",
       "      <td>3.0</td>\n",
       "      <td>Comedy</td>\n",
       "      <td>881250949</td>\n",
       "      <td>1.0</td>\n",
       "      <td>19.0</td>\n",
       "      <td>4.0</td>\n",
       "    </tr>\n",
       "    <tr>\n",
       "      <th>1</th>\n",
       "      <td>22</td>\n",
       "      <td>25.0</td>\n",
       "      <td>M</td>\n",
       "      <td>writer</td>\n",
       "      <td>377</td>\n",
       "      <td>1.0</td>\n",
       "      <td>Children</td>\n",
       "      <td>878887116</td>\n",
       "      <td>1.0</td>\n",
       "      <td>19.0</td>\n",
       "      <td>3.0</td>\n",
       "    </tr>\n",
       "    <tr>\n",
       "      <th>2</th>\n",
       "      <td>244</td>\n",
       "      <td>28.0</td>\n",
       "      <td>M</td>\n",
       "      <td>technician</td>\n",
       "      <td>51</td>\n",
       "      <td>2.0</td>\n",
       "      <td>Romance</td>\n",
       "      <td>880606923</td>\n",
       "      <td>1.0</td>\n",
       "      <td>18.0</td>\n",
       "      <td>13.0</td>\n",
       "    </tr>\n",
       "    <tr>\n",
       "      <th>3</th>\n",
       "      <td>298</td>\n",
       "      <td>44.0</td>\n",
       "      <td>M</td>\n",
       "      <td>executive</td>\n",
       "      <td>474</td>\n",
       "      <td>4.0</td>\n",
       "      <td>War</td>\n",
       "      <td>884182806</td>\n",
       "      <td>1.0</td>\n",
       "      <td>6.0</td>\n",
       "      <td>16.0</td>\n",
       "    </tr>\n",
       "    <tr>\n",
       "      <th>4</th>\n",
       "      <td>253</td>\n",
       "      <td>26.0</td>\n",
       "      <td>F</td>\n",
       "      <td>librarian</td>\n",
       "      <td>465</td>\n",
       "      <td>5.0</td>\n",
       "      <td>Adventure</td>\n",
       "      <td>891628467</td>\n",
       "      <td>0.0</td>\n",
       "      <td>10.0</td>\n",
       "      <td>1.0</td>\n",
       "    </tr>\n",
       "  </tbody>\n",
       "</table>\n",
       "</div>"
      ],
      "text/plain": [
       "   userId   age gender  occupation  movieId  rating      genre  timestamp  \\\n",
       "0     196  49.0      M      writer      242     3.0     Comedy  881250949   \n",
       "1      22  25.0      M      writer      377     1.0   Children  878887116   \n",
       "2     244  28.0      M  technician       51     2.0    Romance  880606923   \n",
       "3     298  44.0      M   executive      474     4.0        War  884182806   \n",
       "4     253  26.0      F   librarian      465     5.0  Adventure  891628467   \n",
       "\n",
       "   gender_code  occupation_code  genre_code  \n",
       "0          1.0             19.0         4.0  \n",
       "1          1.0             19.0         3.0  \n",
       "2          1.0             18.0        13.0  \n",
       "3          1.0              6.0        16.0  \n",
       "4          0.0             10.0         1.0  "
      ]
     },
     "execution_count": 5,
     "metadata": {},
     "output_type": "execute_result"
    }
   ],
   "source": [
    "# impoting OrdinalEncoder from sklearn\n",
    "from sklearn.preprocessing import OrdinalEncoder\n",
    "# Using OrdinalEncoder to convert the related categorical features into numerial values\n",
    "ord_enc = OrdinalEncoder()\n",
    "movielens_data_clean[\"gender_code\"] = ord_enc.fit_transform(movielens_data_clean[[\"gender\"]])\n",
    "movielens_data_clean[\"occupation_code\"] = ord_enc.fit_transform(movielens_data_clean[[\"occupation\"]])\n",
    "movielens_data_clean[\"genre_code\"] = ord_enc.fit_transform(movielens_data_clean[[\"genre\"]])\n",
    "movielens_data_clean.head()"
   ]
  },
  {
   "cell_type": "code",
   "execution_count": 6,
   "id": "c12dba5c",
   "metadata": {},
   "outputs": [
    {
     "data": {
      "text/html": [
       "<div>\n",
       "<style scoped>\n",
       "    .dataframe tbody tr th:only-of-type {\n",
       "        vertical-align: middle;\n",
       "    }\n",
       "\n",
       "    .dataframe tbody tr th {\n",
       "        vertical-align: top;\n",
       "    }\n",
       "\n",
       "    .dataframe thead th {\n",
       "        text-align: right;\n",
       "    }\n",
       "</style>\n",
       "<table border=\"1\" class=\"dataframe\">\n",
       "  <thead>\n",
       "    <tr style=\"text-align: right;\">\n",
       "      <th></th>\n",
       "      <th>rating</th>\n",
       "      <th>gender_code</th>\n",
       "      <th>occupation_code</th>\n",
       "      <th>genre_code</th>\n",
       "      <th>age</th>\n",
       "    </tr>\n",
       "  </thead>\n",
       "  <tbody>\n",
       "    <tr>\n",
       "      <th>rating</th>\n",
       "      <td>1.000000</td>\n",
       "      <td>-0.007239</td>\n",
       "      <td>-0.033717</td>\n",
       "      <td>0.045250</td>\n",
       "      <td>0.051724</td>\n",
       "    </tr>\n",
       "    <tr>\n",
       "      <th>gender_code</th>\n",
       "      <td>-0.007239</td>\n",
       "      <td>1.000000</td>\n",
       "      <td>0.012117</td>\n",
       "      <td>-0.000509</td>\n",
       "      <td>0.037126</td>\n",
       "    </tr>\n",
       "    <tr>\n",
       "      <th>occupation_code</th>\n",
       "      <td>-0.033717</td>\n",
       "      <td>0.012117</td>\n",
       "      <td>1.000000</td>\n",
       "      <td>-0.011443</td>\n",
       "      <td>-0.370879</td>\n",
       "    </tr>\n",
       "    <tr>\n",
       "      <th>genre_code</th>\n",
       "      <td>0.045250</td>\n",
       "      <td>-0.000509</td>\n",
       "      <td>-0.011443</td>\n",
       "      <td>1.000000</td>\n",
       "      <td>0.027286</td>\n",
       "    </tr>\n",
       "    <tr>\n",
       "      <th>age</th>\n",
       "      <td>0.051724</td>\n",
       "      <td>0.037126</td>\n",
       "      <td>-0.370879</td>\n",
       "      <td>0.027286</td>\n",
       "      <td>1.000000</td>\n",
       "    </tr>\n",
       "  </tbody>\n",
       "</table>\n",
       "</div>"
      ],
      "text/plain": [
       "                   rating  gender_code  occupation_code  genre_code       age\n",
       "rating           1.000000    -0.007239        -0.033717    0.045250  0.051724\n",
       "gender_code     -0.007239     1.000000         0.012117   -0.000509  0.037126\n",
       "occupation_code -0.033717     0.012117         1.000000   -0.011443 -0.370879\n",
       "genre_code       0.045250    -0.000509        -0.011443    1.000000  0.027286\n",
       "age              0.051724     0.037126        -0.370879    0.027286  1.000000"
      ]
     },
     "execution_count": 6,
     "metadata": {},
     "output_type": "execute_result"
    }
   ],
   "source": [
    "# Calculating correlation coefficients between related features\n",
    "movielens_data_clean[['rating', 'gender_code', 'occupation_code', 'genre_code', 'age']].corr()"
   ]
  },
  {
   "cell_type": "markdown",
   "id": "7606c849",
   "metadata": {},
   "source": [
    "### Split Training and Testing Data\n",
    "* Machine learning models are trained to help make predictions for the future. Normally, we need to randomly split the dataset into training and testing sets, where we use the training set to train the model, and then leverage the well-trained model to make predictions on the testing set. \n",
    "* To further investigate whether the size of the training/testing data affects the model performance, please random split the data into training and testing sets with different sizes:\n",
    "    * Case 1: training data containing 10% of the entire data;\n",
    "    * Case 2: training data containing 90% of the entire data. \n",
    "* Print the shape of training and testing sets in the two cases. "
   ]
  },
  {
   "cell_type": "code",
   "execution_count": 7,
   "id": "f8eeeec6",
   "metadata": {},
   "outputs": [
    {
     "name": "stdout",
     "output_type": "stream",
     "text": [
      "(9685, 11)\n",
      "(87169, 11)\n"
     ]
    }
   ],
   "source": [
    "# Case 1: Creating a varieble that contains 10% of training data, randomly selected from the entire data;\n",
    "# the remain 90% data is the testing data\n",
    "train1, test1 = train_test_split(movielens_data_clean, train_size=0.1, random_state=43)\n",
    "print(train1.shape)\n",
    "print(test1.shape)\n"
   ]
  },
  {
   "cell_type": "code",
   "execution_count": 8,
   "id": "c105db15",
   "metadata": {},
   "outputs": [
    {
     "name": "stdout",
     "output_type": "stream",
     "text": [
      "(87168, 11)\n",
      "(9686, 11)\n"
     ]
    }
   ],
   "source": [
    "# Case 1: Creating a varieble that contains 90% of training data, randomly selected from the entire data;\n",
    "# the remain 10% data is the testing data\n",
    "train2, test2 = train_test_split(movielens_data_clean, train_size=0.9, random_state=43)\n",
    "print(train2.shape)\n",
    "print(test2.shape)"
   ]
  },
  {
   "cell_type": "markdown",
   "id": "14600224",
   "metadata": {},
   "source": [
    "### Train Linear Regression Models with Feature Selection under Cases 1 & 2\n",
    "* When training a machine learning model for prediction, we may need to select the most important/correlated input features for more accurate results. \n",
    "* To investigate whether feature selection affects the model performance, please select two most correlated features and two least correlated features regarding rating, respectively. \n",
    "* Train four linear regression models by following the conditions:\n",
    "    - (model-a) using the training/testing data in case 1 with two most correlated input features\n",
    "    - (model-b) using the training/testing data in case 1 with two least correlated input features\n",
    "    - (model-c) using the training/testing data in case 2 with two most correlated input features\n",
    "    - (model-d) using the training/testing data in case 2 with two least correlated input features\n",
    "* By doing this, we can verify the impacts of the size of traing/testing data on the model performance via comparing model-a and model-c (or model-b and model-d); meanwhile the impacts of feature selection can be validated via comparing model-a and model-b (or model-c and model-d).    "
   ]
  },
  {
   "cell_type": "code",
   "execution_count": 9,
   "id": "bee417e0",
   "metadata": {
    "scrolled": true
   },
   "outputs": [
    {
     "name": "stdout",
     "output_type": "stream",
     "text": [
      "MSE: 1.2394616307854138\n",
      "Root MSE: 1.113311111408403\n",
      "R Squared: 0.004016896334950171\n"
     ]
    }
   ],
   "source": [
    "# (model-a) using the training/testing data in case 1 with two most correlated input features\n",
    "# Assigning related features as X variable and rating feature to be Y  for both train and test data sets\n",
    "X_train_most1 = train1[['genre_code', 'age']]\n",
    "y_train_most1 = train1['rating']\n",
    "# for testing\n",
    "X_test_most1 = test1[['genre_code', 'age']]\n",
    "y_test_most1 = test1['rating']\n",
    "# Training the regression model\n",
    "reg = linear_model.LinearRegression()\n",
    "reg.fit(X_train_most1, y_train_most1)\n",
    "#Calculating the MSE, Root MSE and R^2 using 'mean_squared_error' and 'r2_score' functions\n",
    "from sklearn.metrics import mean_squared_error\n",
    "predicted_ma = reg.predict(X_test_most1)\n",
    "mse_ma = mean_squared_error(y_test_most1, predicted_ma)\n",
    "r2_ma = r2_score(y_test_most1, predicted_ma)\n",
    "print(\"MSE:\", mse_ma)\n",
    "print(\"Root MSE:\", np.sqrt(mse_ma))\n",
    "print(\"R Squared:\", r2_ma)"
   ]
  },
  {
   "cell_type": "code",
   "execution_count": 10,
   "id": "4f4b9b6e",
   "metadata": {},
   "outputs": [
    {
     "name": "stdout",
     "output_type": "stream",
     "text": [
      "MSE: 1.2434131546160223\n",
      "Root MSE: 1.115084371075132\n",
      "R Squared: 0.0008416056512666747\n"
     ]
    }
   ],
   "source": [
    "# (model-b) using the training/testing data in case 1 with two least correlated input features\n",
    "# Assigning related features as X variable and rating feature to be Y  for both train and test data sets\n",
    "X_train_least1 = train1[['gender_code', 'occupation_code']]\n",
    "y_train_least1 = train1['rating']\n",
    "# for testing\n",
    "X_test_least1 = test1[['gender_code', 'occupation_code']]\n",
    "y_test_least1 = test1['rating']\n",
    "# Training the regression model\n",
    "reg = linear_model.LinearRegression()\n",
    "reg.fit(X_train_least1, y_train_least1)\n",
    "#Calculating the MSE, Root MSE and R^2 using 'mean_squared_error' and 'r2_score' functions\n",
    "predicted_mb = reg.predict(X_test_least1)\n",
    "mse_mb = mean_squared_error(y_test_least1, predicted_mb)\n",
    "r2_mb = r2_score(y_test_least1, predicted_mb)\n",
    "print(\"MSE:\", mse_mb)\n",
    "print(\"Root MSE:\", np.sqrt(mse_mb))\n",
    "print(\"R Squared:\", r2_mb)"
   ]
  },
  {
   "cell_type": "code",
   "execution_count": 11,
   "id": "6fe3b788",
   "metadata": {},
   "outputs": [
    {
     "name": "stdout",
     "output_type": "stream",
     "text": [
      "MSE: 1.2237368383214242\n",
      "Root MSE: 1.1062263955996638\n",
      "R Squared: 0.001920920645637647\n"
     ]
    }
   ],
   "source": [
    "# model-c) using the training/testing data in case 2 with two most correlated input features,\n",
    "# Assigning related features as X variable and rating feature to be Y  for both train and test data sets\n",
    "X_train_most2 = train2[['genre_code', 'age']]\n",
    "y_train_most2 = train2['rating']\n",
    "# for testing\n",
    "X_test_most2 = test2[['genre_code', 'age']]\n",
    "y_test_most2 = test2['rating']\n",
    "# Training the regression model\n",
    "reg = linear_model.LinearRegression()\n",
    "reg.fit(X_train_most2, y_train_most2)\n",
    "#Calculating the MSE, Root MSE and R^2 using 'mean_squared_error' and 'r2_score' functions\n",
    "predicted_mc = reg.predict(X_test_most2)\n",
    "mse_mc = mean_squared_error(y_test_most2, predicted_mc)\n",
    "r2_mc = r2_score(y_test_most2, predicted_mc)\n",
    "print(\"MSE:\", mse_mc)\n",
    "print(\"Root MSE:\", np.sqrt(mse_mc))\n",
    "print(\"R Squared:\", r2_mc)"
   ]
  },
  {
   "cell_type": "code",
   "execution_count": 12,
   "id": "ed7d55a2",
   "metadata": {},
   "outputs": [
    {
     "name": "stdout",
     "output_type": "stream",
     "text": [
      "MSE: 1.225614398307153\n",
      "Root MSE: 1.1070747031285437\n",
      "R Squared: 0.00038958377376641096\n"
     ]
    }
   ],
   "source": [
    "# (model-d) using the training/testing data in case 2 with two least correlated input features\n",
    "# Assigning related features as X variable and rating feature to be Y  for both train and test data sets\n",
    "X_train_least2 = train2[['gender_code', 'occupation_code']]\n",
    "y_train_least2 = train2['rating']\n",
    "# for testing\n",
    "X_test_least2 = test2[['gender_code', 'occupation_code']]\n",
    "y_test_least2 = test2['rating']\n",
    "# Training the regression model\n",
    "reg = linear_model.LinearRegression()\n",
    "reg.fit(X_train_least2,y_train_least2)\n",
    "#Calculating the MSE, Root MSE and R^2 using 'mean_squared_error' and 'r2_score' functions\n",
    "predicted_md = reg.predict(X_test_least2)\n",
    "mse_md = mean_squared_error(y_test_least2, predicted_md)\n",
    "r2_md = r2_score(y_test_least2, predicted_md)\n",
    "print(\"MSE:\", mse_md)\n",
    "print(\"Root MSE:\", np.sqrt(mse_md))\n",
    "print(\"R Squared:\", r2_md)"
   ]
  },
  {
   "cell_type": "markdown",
   "id": "f85c7279",
   "metadata": {},
   "source": [
    "### Evaluate Models\n",
    "* Evaluate the performance of the four models with two metrics, including MSE and Root MSE\n",
    "* Print the results of the four models regarding the two metrics"
   ]
  },
  {
   "cell_type": "code",
   "execution_count": 13,
   "id": "05377620",
   "metadata": {
    "scrolled": true
   },
   "outputs": [
    {
     "name": "stdout",
     "output_type": "stream",
     "text": [
      "Performance Results of Each Models;\n",
      "Model A; MSE: 1.2395  Root MSE: 1.1133 R^2: 0.004\n",
      "Model B; MSE: 1.2434  Root MSE: 1.1151 R^2: 0.0008\n",
      "Model C; MSE: 1.2237  Root MSE: 1.1062 R^2: 0.0019\n",
      "Model D; MSE: 1.2256  Root MSE: 1.1071 R^2: 0.0004\n"
     ]
    }
   ],
   "source": [
    "#Printing the results of the four models\n",
    "print('Performance Results of Each Models;')\n",
    "print('Model A; MSE:',round(mse_ma,4),\" Root MSE:\", round(np.sqrt(mse_ma),4),\"R^2:\", round(r2_ma,4))\n",
    "print('Model B; MSE:',round(mse_mb,4),\" Root MSE:\", round(np.sqrt(mse_mb),4),\"R^2:\", round(r2_mb,4))\n",
    "print('Model C; MSE:',round(mse_mc,4),\" Root MSE:\", round(np.sqrt(mse_mc),4),\"R^2:\", round(r2_mc,4))\n",
    "print('Model D; MSE:',round(mse_md,4),\" Root MSE:\", round(np.sqrt(mse_md),4),\"R^2:\", round(r2_md,4))"
   ]
  },
  {
   "cell_type": "markdown",
   "id": "63ec6e76",
   "metadata": {},
   "source": [
    "#### Evaluation of the Performance of the Models\n",
    "\n",
    "- Comparing Model A and C;\n",
    "    - The testing data set of Model A much more than the testing data set of Model C,\n",
    "    - In other words,The training data set of Model C much more than the training data set of Model A,\n",
    "    - As a result, the MSE of Model A is bigger than the MSE of Model B, so are the root of MSEs,\n",
    "    - Usually, the bigger data set for training,the lower MSE for predictions.\n",
    "-Comparing Model A and B;\n",
    "    - The impact of genre and age on ratings is also quite limited, although larger than gender and occupation, because correlations of genre and age  with ratings are larger than the other two.\n",
    "- Overall,\n",
    "    - Ratings get values from 0 to 5, therefore, we can interpret that MSE: 1,2 is quite high.\n",
    "    - R squared values close to zero, therefore the models are not good for the prediction.\n"
   ]
  },
  {
   "cell_type": "code",
   "execution_count": 14,
   "id": "2fd5cff0",
   "metadata": {},
   "outputs": [],
   "source": [
    "MSEs = {'Model_A':[mse_ma],'Model_B':[mse_mb],'Model_C':[mse_mc],'Model_D':[mse_md]}\n",
    "MSEs = pd.DataFrame(MSEs)  \n",
    "Root_MSEs = {'Model_A':[np.sqrt(mse_ma)],'Model_B':[np.sqrt(mse_mb)],'Model_C':[np.sqrt(mse_mc)],'Model_D':[np.sqrt(mse_md)]}\n",
    "Root_MSEs = pd.DataFrame(Root_MSEs)  \n",
    "R_squareds = {'Model_A':[r2_ma],'Model_B':[r2_mb],'Model_C':[r2_mc],'Model_D':[r2_md]}\n",
    "R_squareds = pd.DataFrame(R_squareds)  "
   ]
  },
  {
   "cell_type": "markdown",
   "id": "8c614fb5",
   "metadata": {},
   "source": [
    "### Visualize, Compare and Analyze the Results\n",
    "* Visulize the results, and perform ___insightful analysis___ on the obtained results. For better visualization, you may need to carefully set the scale for the y-axis.\n",
    "* Normally, the model trained with most correlated features and more training data will get better results. Do you obtain the similar observations? If not, please ___explain the possible reasons___."
   ]
  },
  {
   "cell_type": "code",
   "execution_count": 28,
   "id": "310d6225",
   "metadata": {
    "scrolled": false
   },
   "outputs": [
    {
     "data": {
      "image/png": "[encoded data removed]",
      "text/plain": [
       "<Figure size 432x288 with 1 Axes>"
      ]
     },
     "metadata": {},
     "output_type": "display_data"
    }
   ],
   "source": [
    "# Plotting the MSE values of the models\n",
    "sns.set_style('darkgrid')\n",
    "sns.barplot(data = MSEs )\n",
    "plt.ylim(1.2,1.25)\n",
    "plt.ylabel('MSE values', fontsize=13); plt.xlabel('Models', fontsize=13)\n",
    "plt.title('MSE values of four models', fontsize=16)\n",
    "plt.xticks(fontsize=11); plt.yticks(fontsize=11)\n",
    "None"
   ]
  },
  {
   "cell_type": "code",
   "execution_count": 27,
   "id": "c7f718d5",
   "metadata": {
    "scrolled": true
   },
   "outputs": [
    {
     "data": {
      "image/png": "[encoded data removed]",
      "text/plain": [
       "<Figure size 432x288 with 1 Axes>"
      ]
     },
     "metadata": {},
     "output_type": "display_data"
    }
   ],
   "source": [
    "# Plotting the Root MSE values of the models\n",
    "sns.set_style('darkgrid')\n",
    "sns.barplot(data=Root_MSEs )\n",
    "plt.ylim(1.1,1.1175)\n",
    "plt.ylabel('Root MSE values', fontsize=13); plt.xlabel('Models', fontsize=13)\n",
    "plt.title('Root MSE values of four models', fontsize=16)\n",
    "plt.xticks(fontsize=11); plt.yticks(fontsize=11)\n",
    "None"
   ]
  },
  {
   "cell_type": "markdown",
   "id": "d369c598",
   "metadata": {},
   "source": [
    "#### Analysis of the MSE values of the models\n",
    "- As Model A and Model C include the most correlated features, they are expected to have less MSE, \n",
    "- Model C has the lowest MSE, but Model A has higher MSE. It may be the result of having less data for training,\n",
    "- Model B and D have least correlated features, and yet their MSE values differ maybe due to the size of training data\n",
    "- Model D has more training data,and its MSE value less than Model B. \n",
    "- Similarly, model C has more training data,and its MSE value less than Model A. \n",
    "- However, if we change the random state, this figure also changes. it may be affected the size of testing data. \n",
    "##### Conclution,\n",
    "    - For more accurate prediction, we need only to have the most correlated  features , Age and Genre and maybe Occupation features, in our model.\n",
    "    - Since Gence and Occupation is a categorical features, we should use Logistic Regression model instead of Linear Regression.\n",
    "    - Using 80 to 90% of our data for training can provide a better result.\n"
   ]
  },
  {
   "cell_type": "code",
   "execution_count": 31,
   "id": "ee4b6a51",
   "metadata": {},
   "outputs": [
    {
     "data": {
      "image/png": "[encoded data removed]",
      "text/plain": [
       "<Figure size 432x288 with 1 Axes>"
      ]
     },
     "metadata": {},
     "output_type": "display_data"
    }
   ],
   "source": [
    "# Plotting the R squared values of the models\n",
    "sns.set_style('darkgrid')\n",
    "sns.barplot(data=R_squareds )\n",
    "plt.ylim(0,0.0045)\n",
    "plt.ylabel('R squared values', fontsize=13); plt.xlabel('Models', fontsize=13)\n",
    "plt.title('R squared values of four models', fontsize=16)\n",
    "plt.xticks(fontsize=11); plt.yticks(fontsize=11)\n",
    "None"
   ]
  },
  {
   "cell_type": "markdown",
   "id": "09c3dd7b",
   "metadata": {},
   "source": [
    "#### Analysis of the R-squared values of the models\n",
    "- As Model A and C have the most correlated features, their R squared values are higher than the other two models. On the other hand, Having different size of training/testing data affects the R-squared values.\n",
    "- Model A with less training data and most related features has a higher R-squared than Model C with more training data and the same features. Therefore, R-squared of Model A could be misleading or biased. It also can be said for the Model B as well.Therefore, changing the training/testing rates may affect models' accuracy.\n",
    "- We can also conclude that the size of training data may affects models differently, and it is better to have more training data than testing data to obtain better prediction models.\n",
    "- Model C is the best model due to having more training data portion and having most correlated features.\n",
    "- We have just very few parameters,and use Linear regressions so overfitting is almost impossible in this case.\n"
   ]
  }
 ],
 "metadata": {
  "kernelspec": {
   "display_name": "Python 3 (ipykernel)",
   "language": "python",
   "name": "python3"
  },
  "language_info": {
   "codemirror_mode": {
    "name": "ipython",
    "version": 3
   },
   "file_extension": ".py",
   "mimetype": "text/x-python",
   "name": "python",
   "nbconvert_exporter": "python",
   "pygments_lexer": "ipython3",
   "version": "3.9.7"
  }
 },
 "nbformat": 4,
 "nbformat_minor": 5
}
