{
 "cells": [
  {
   "cell_type": "markdown",
   "id": "03bfe56f",
   "metadata": {},
   "source": [
    "### Analysis of MovieLens Data\n",
    "\n",
    "We are provided with the MovieLens data collected by the GroupLens Research Project at the University of Minnesota.\n",
    "In particular, the data was collected through the MovieLens web site (movielens.umn.edu), which records a number of users' ratings (1-5) towards their watched movies. Besides, simple demographic info (e.g., age and gender) for the users and descriptive info (e.g., title and genre) for the movies are provided. \n",
    "\n",
    "Originally, there are several separate files to record the user-movie rating info, user demographic info and movie descriptive info, we have conducted preliminary processing to map and merge the data into one csv file named 'movielens_data.csv'. The header of the csv file is shown below. \n",
    "\n",
    "| userId | age | gender | occupation| movieId | rating | genre | timestamp |\n",
    "    | ---- | ---- | ---- | ---- | ---- | ---- | ---- | ---- | \n",
    "    \n",
    "#### Description of Fields\n",
    "\n",
    "* __userId__ - the user's id\n",
    "* __age__ - the user's age\n",
    "* __gender__ - the user's gender\n",
    "* __occupation__ - the user's occupation\n",
    "* __movieId__ - the movie's id\n",
    "* __rating__ - the user's rating towards the movie\n",
    "* __genre__ - the genre of the movie\n",
    "* __timestamp__ - the timestamp indicating when the user rated the movie\n",
    "\n",
    "Note that, a same user (i.e., a same userId) corresponds to a same age/gender/occupation; a same movie (i.e., a same movieId) corresponds to a same genre; a same user (i.e., a same userId) may rate multiple movies and a same movie (i.e., a same movieId) may receive ratings from multiple users.\n",
    "\n",
    "There are four questions to explore with the data as shown below."
   ]
  },
  {
   "cell_type": "markdown",
   "id": "52a46594",
   "metadata": {},
   "source": [
    "---"
   ]
  },
  {
   "cell_type": "markdown",
   "id": "55934c71",
   "metadata": {},
   "source": [
    " #### Q1. Remove missing data\n",
    " \n",
    "Please remove the following records in the csv file: \n",
    " \n",
    " * age/gender/rating is missing\n",
    " * occupation is 'none'\n",
    "\n",
    "__Print the length of the data__ before and after removing the missing data.  "
   ]
  },
  {
   "cell_type": "code",
   "execution_count": 1,
   "id": "b2f0a9f6",
   "metadata": {},
   "outputs": [],
   "source": [
    "import pandas as pd\n",
    "import numpy as np\n",
    "import matplotlib.pyplot as plt\n",
    "import seaborn as sns\n",
    "from matplotlib import pyplot\n",
    "plt.rcParams['figure.figsize'] = 25,9\n",
    "%matplotlib inline"
   ]
  },
  {
   "cell_type": "code",
   "execution_count": 2,
   "id": "bbce1073",
   "metadata": {
    "scrolled": true
   },
   "outputs": [],
   "source": [
    "MovieLens = pd.read_csv('files/movielens_data.csv', skipinitialspace=True)"
   ]
  },
  {
   "cell_type": "code",
   "execution_count": 3,
   "id": "aa9f2134",
   "metadata": {
    "scrolled": true
   },
   "outputs": [
    {
     "data": {
      "text/html": [
       "<div>\n",
       "<style scoped>\n",
       "    .dataframe tbody tr th:only-of-type {\n",
       "        vertical-align: middle;\n",
       "    }\n",
       "\n",
       "    .dataframe tbody tr th {\n",
       "        vertical-align: top;\n",
       "    }\n",
       "\n",
       "    .dataframe thead th {\n",
       "        text-align: right;\n",
       "    }\n",
       "</style>\n",
       "<table border=\"1\" class=\"dataframe\">\n",
       "  <thead>\n",
       "    <tr style=\"text-align: right;\">\n",
       "      <th></th>\n",
       "      <th>userId</th>\n",
       "      <th>age</th>\n",
       "      <th>gender</th>\n",
       "      <th>occupation</th>\n",
       "      <th>movieId</th>\n",
       "      <th>rating</th>\n",
       "      <th>genre</th>\n",
       "      <th>timestamp</th>\n",
       "    </tr>\n",
       "  </thead>\n",
       "  <tbody>\n",
       "    <tr>\n",
       "      <th>0</th>\n",
       "      <td>196</td>\n",
       "      <td>49.0</td>\n",
       "      <td>M</td>\n",
       "      <td>writer</td>\n",
       "      <td>242</td>\n",
       "      <td>3.0</td>\n",
       "      <td>Comedy</td>\n",
       "      <td>881250949</td>\n",
       "    </tr>\n",
       "    <tr>\n",
       "      <th>2</th>\n",
       "      <td>22</td>\n",
       "      <td>25.0</td>\n",
       "      <td>M</td>\n",
       "      <td>writer</td>\n",
       "      <td>377</td>\n",
       "      <td>1.0</td>\n",
       "      <td>Children</td>\n",
       "      <td>878887116</td>\n",
       "    </tr>\n",
       "    <tr>\n",
       "      <th>3</th>\n",
       "      <td>244</td>\n",
       "      <td>28.0</td>\n",
       "      <td>M</td>\n",
       "      <td>technician</td>\n",
       "      <td>51</td>\n",
       "      <td>2.0</td>\n",
       "      <td>Romance</td>\n",
       "      <td>880606923</td>\n",
       "    </tr>\n",
       "    <tr>\n",
       "      <th>5</th>\n",
       "      <td>298</td>\n",
       "      <td>44.0</td>\n",
       "      <td>M</td>\n",
       "      <td>executive</td>\n",
       "      <td>474</td>\n",
       "      <td>4.0</td>\n",
       "      <td>War</td>\n",
       "      <td>884182806</td>\n",
       "    </tr>\n",
       "    <tr>\n",
       "      <th>7</th>\n",
       "      <td>253</td>\n",
       "      <td>26.0</td>\n",
       "      <td>F</td>\n",
       "      <td>librarian</td>\n",
       "      <td>465</td>\n",
       "      <td>5.0</td>\n",
       "      <td>Adventure</td>\n",
       "      <td>891628467</td>\n",
       "    </tr>\n",
       "  </tbody>\n",
       "</table>\n",
       "</div>"
      ],
      "text/plain": [
       "   userId   age gender  occupation  movieId  rating      genre  timestamp\n",
       "0     196  49.0      M      writer      242     3.0     Comedy  881250949\n",
       "2      22  25.0      M      writer      377     1.0   Children  878887116\n",
       "3     244  28.0      M  technician       51     2.0    Romance  880606923\n",
       "5     298  44.0      M   executive      474     4.0        War  884182806\n",
       "7     253  26.0      F   librarian      465     5.0  Adventure  891628467"
      ]
     },
     "execution_count": 3,
     "metadata": {},
     "output_type": "execute_result"
    }
   ],
   "source": [
    "MovieLens_clean = MovieLens.dropna(axis = 0, how ='any', thresh = None, subset = None, inplace=False)\n",
    "MovieLens_clean = MovieLens_clean[MovieLens_clean.occupation != 'none']\n",
    "MovieLens_clean.head()"
   ]
  },
  {
   "cell_type": "code",
   "execution_count": 4,
   "id": "ad01b443",
   "metadata": {
    "scrolled": false
   },
   "outputs": [
    {
     "name": "stdout",
     "output_type": "stream",
     "text": [
      "The lenght of the data before removing missing data: 100000\n",
      "The lenght of the data after removing missing data: 99022\n",
      "The 978 rows that contain missing data and none occupation data have been removed.\n"
     ]
    }
   ],
   "source": [
    "print('The lenght of the data before removing missing data:', len(MovieLens))\n",
    "print('The lenght of the data after removing missing data:', len(MovieLens_clean))\n",
    "print( 'The',len(MovieLens)-len(MovieLens_clean), 'rows that contain missing data and none occupation data have been removed.')"
   ]
  },
  {
   "cell_type": "markdown",
   "id": "47c51eae",
   "metadata": {},
   "source": [
    "---"
   ]
  },
  {
   "cell_type": "markdown",
   "id": "063e08bf",
   "metadata": {},
   "source": [
    "#### Q2. Descriptive statistics\n",
    "\n",
    "With the cleaned data in Q1, please provide the data summarization as below:\n",
    "\n",
    "* Q2.1 total number of unique users, unique occupations, unique movies, and unique genres\n",
    "* Q2.2 descriptive statistics, e.g., the total number, mean, std, min and max regarding all rating records\n",
    "* Q2.3 descriptive statistics, e.g., mean, std, max, and min of the number of movies rated by each user \n",
    "* Q2.4 descriptive statistics, e.g., mean, std, max, min of the number of ratings that received by each movie \n"
   ]
  },
  {
   "cell_type": "markdown",
   "id": "69a1c2d9",
   "metadata": {},
   "source": [
    "###### Q2.1 total number of unique users, unique occupations, unique movies, and unique genres"
   ]
  },
  {
   "cell_type": "code",
   "execution_count": 5,
   "id": "86211810",
   "metadata": {
    "scrolled": false
   },
   "outputs": [
    {
     "name": "stdout",
     "output_type": "stream",
     "text": [
      "Number of unique users: 934\n",
      "Number of unique occupations: 20\n",
      "Number of unique movies: 1682\n",
      "Number of unique genres: 19\n"
     ]
    }
   ],
   "source": [
    "print('Number of unique users:', MovieLens_clean['userId'].nunique())\n",
    "print('Number of unique occupations:', MovieLens_clean['occupation'].nunique())\n",
    "print('Number of unique movies:', MovieLens_clean['movieId'].nunique())\n",
    "print('Number of unique genres:', MovieLens_clean['genre'].nunique())"
   ]
  },
  {
   "cell_type": "markdown",
   "id": "43f147cb",
   "metadata": {},
   "source": [
    "######  Q2.2 descriptive statistics, e.g., the total number, mean, std, min and max regarding all rating records"
   ]
  },
  {
   "cell_type": "code",
   "execution_count": 6,
   "id": "68667437",
   "metadata": {
    "scrolled": false
   },
   "outputs": [
    {
     "name": "stdout",
     "output_type": "stream",
     "text": [
      "Descriptive statistics regarding all rating records:\n",
      "count    99022.000000\n",
      "mean         3.527792\n",
      "std          1.125743\n",
      "min          1.000000\n",
      "25%          3.000000\n",
      "50%          4.000000\n",
      "75%          4.000000\n",
      "max          5.000000\n",
      "Name: rating, dtype: float64\n"
     ]
    }
   ],
   "source": [
    "print('Descriptive statistics regarding all rating records:')\n",
    "print(MovieLens_clean['rating'].describe())"
   ]
  },
  {
   "cell_type": "markdown",
   "id": "e68f2b13",
   "metadata": {},
   "source": [
    "######  Q2.3 descriptive statistics, e.g., mean, std, max, and min of the number of movies rated by each user"
   ]
  },
  {
   "cell_type": "code",
   "execution_count": 7,
   "id": "8041dcf8",
   "metadata": {
    "scrolled": true
   },
   "outputs": [
    {
     "name": "stdout",
     "output_type": "stream",
     "text": [
      "Descriptive statistics of the number of movies rated by each user:\n"
     ]
    },
    {
     "data": {
      "text/plain": [
       "count    934.000000\n",
       "mean     106.019272\n",
       "std      100.793963\n",
       "min       19.000000\n",
       "25%       33.000000\n",
       "50%       65.000000\n",
       "75%      148.000000\n",
       "max      736.000000\n",
       "dtype: float64"
      ]
     },
     "execution_count": 7,
     "metadata": {},
     "output_type": "execute_result"
    }
   ],
   "source": [
    "print('Descriptive statistics of the number of movies rated by each user:')\n",
    "MovieLens_clean[[\"userId\", \"movieId\"]].groupby('userId').size().describe()"
   ]
  },
  {
   "cell_type": "markdown",
   "id": "30ee50e6",
   "metadata": {},
   "source": [
    "######  Q2.4 descriptive statistics, e.g., mean, std, max, min of the number of ratings that received by each movie"
   ]
  },
  {
   "cell_type": "code",
   "execution_count": 8,
   "id": "bf135dc7",
   "metadata": {
    "scrolled": false
   },
   "outputs": [
    {
     "name": "stdout",
     "output_type": "stream",
     "text": [
      "Descriptive statistics of the number of ratings that received by each movie\n"
     ]
    },
    {
     "data": {
      "text/plain": [
       "count    1682.000000\n",
       "mean       58.871581\n",
       "std        79.629796\n",
       "min         1.000000\n",
       "25%         6.000000\n",
       "50%        26.000000\n",
       "75%        79.000000\n",
       "max       578.000000\n",
       "dtype: float64"
      ]
     },
     "execution_count": 8,
     "metadata": {},
     "output_type": "execute_result"
    }
   ],
   "source": [
    "print('Descriptive statistics of the number of ratings that received by each movie')\n",
    "MovieLens_clean[[\"movieId\", \"rating\"]].groupby('movieId').size().describe()"
   ]
  },
  {
   "cell_type": "markdown",
   "id": "154cb019",
   "metadata": {},
   "source": [
    "---"
   ]
  },
  {
   "cell_type": "markdown",
   "id": "7b070d5d",
   "metadata": {},
   "source": [
    "#### Q3. Plotting and Analysis\n",
    "\n",
    "Please try to explore the correlation between gender/occupation/genre and ratings; for instance, do female/male users tend to provide higher ratings than male/female users? Hint: you may use the boxplot function to plot figures for comparison (___Challenge___)\n",
    "    \n",
    "You may need to select the most suitable graphic forms for ease of presentation. Most importantly, for each figure or subfigure, please summarise ___what each plot shows___ (i.e. observations and explanations). Finally, you may need to provide an overall summary of the data."
   ]
  },
  {
   "cell_type": "markdown",
   "id": "0e118217",
   "metadata": {},
   "source": [
    "---"
   ]
  },
  {
   "cell_type": "markdown",
   "id": "981ae9c3",
   "metadata": {},
   "source": [
    "#### Genders vs Ratings Boxplot "
   ]
  },
  {
   "cell_type": "code",
   "execution_count": 9,
   "id": "eb745bc5",
   "metadata": {
    "scrolled": false
   },
   "outputs": [
    {
     "data": {
      "image/png": "[encoded data removed]",
      "text/plain": [
       "<Figure size 432x288 with 1 Axes>"
      ]
     },
     "metadata": {},
     "output_type": "display_data"
    }
   ],
   "source": [
    "sns.set_style('darkgrid')\n",
    "vis_gender = sns.boxplot(data=MovieLens_clean, x = 'rating',y='gender')"
   ]
  },
  {
   "cell_type": "markdown",
   "id": "df1df6ff",
   "metadata": {},
   "source": [
    "The boxplot above clearly demonstrates that the ratings provided by genders are quite similar to each other.\\\n",
    "Therefore; it can be concluded that rating values are not related to genders. it is also shown the majority of ratings are between  3 \"first quartile (Q1)\" and  4 \"third quartile (Q3)\", and the minimum and maximum are 2 and 5 respectively. Lastly, people who provides ratings one are outliers."
   ]
  },
  {
   "cell_type": "markdown",
   "id": "16897e63",
   "metadata": {},
   "source": [
    "---"
   ]
  },
  {
   "cell_type": "markdown",
   "id": "893674a0",
   "metadata": {},
   "source": [
    "#### Occupations vs Ratings Boxplot "
   ]
  },
  {
   "cell_type": "code",
   "execution_count": 10,
   "id": "bb6cf9cc",
   "metadata": {
    "scrolled": true
   },
   "outputs": [
    {
     "data": {
      "image/png": "[encoded data removed]",
      "text/plain": [
       "<Figure size 432x432 with 1 Axes>"
      ]
     },
     "metadata": {},
     "output_type": "display_data"
    }
   ],
   "source": [
    "plt.figure(figsize=(6,6))\n",
    "vis_occupation = sns.boxplot(data=MovieLens_clean, x = 'rating',y='occupation')"
   ]
  },
  {
   "cell_type": "markdown",
   "id": "d9df1c70",
   "metadata": {},
   "source": [
    "The boxplot above clearly shows that the ratings given by who  are quite similar to each other except given ratings by artist, lawyer, executive and healthcare professionals. While the ratings of other occupational groups generally show a distribution between 3 and 4, these occupational groups differed. Artist and Lawyers have no outliers and their interquartile range is beetween 3 and 5 while the executives and healtcare workers has the same pattern as their interquartile range is between 2 and 4. Mayority of  outliers are detected on value ranting 1 as previous boxplot indicates."
   ]
  },
  {
   "cell_type": "markdown",
   "id": "b5b78f6f",
   "metadata": {},
   "source": [
    "---"
   ]
  },
  {
   "cell_type": "markdown",
   "id": "da8cd89b",
   "metadata": {},
   "source": [
    "#### Genres vs Ratings Boxplot "
   ]
  },
  {
   "cell_type": "code",
   "execution_count": 11,
   "id": "6d5dd4e7",
   "metadata": {
    "scrolled": false
   },
   "outputs": [
    {
     "data": {
      "image/png": "[encoded data removed]",
      "text/plain": [
       "<Figure size 432x432 with 1 Axes>"
      ]
     },
     "metadata": {},
     "output_type": "display_data"
    }
   ],
   "source": [
    "plt.figure(figsize=(6,6))\n",
    "vis_genre = sns.boxplot(data=MovieLens_clean, x = 'rating',y='genre')"
   ]
  },
  {
   "cell_type": "markdown",
   "id": "16c201f6",
   "metadata": {},
   "source": [
    "Analysing the boxplot above, Genre'ra are quite similar to each other except given ratings by artist, lawyer, executive and healthcare professionals. While the ratings of other occupational groups generally show a distribution between 3 and 4, these occupational groups differed. Artist and Lawyers have no outliers and their interquartile range is beetween 3 and 5 while the executives and healtcare workers has the same pattern as their interquartile range is between 2 and 4. Mayority of outliers are detected as the previous boxplots indicate."
   ]
  },
  {
   "cell_type": "markdown",
   "id": "f7e47551",
   "metadata": {},
   "source": [
    "### Summary of the data "
   ]
  },
  {
   "cell_type": "markdown",
   "id": "275150c8",
   "metadata": {},
   "source": [
    "These three boxplots demonstrate that overally, the users tend to give ratings between 3 and 4, and the minimum and maximum value of the distributions are 2 and 5 respectively. Given ratings as value 1, generally, can be evaluated as outliers. Additionally, People who are from some different occupations tend to choose to give ratings differently similar to some genres tend to receive rating differently.\n",
    "\n",
    "\n",
    "You can also reach further  analysis below."
   ]
  },
  {
   "cell_type": "markdown",
   "id": "93c592ab",
   "metadata": {},
   "source": [
    "---"
   ]
  },
  {
   "cell_type": "markdown",
   "id": "7b41d6e8",
   "metadata": {},
   "source": [
    "### Further analysis of the data"
   ]
  },
  {
   "cell_type": "markdown",
   "id": "4fc59eda",
   "metadata": {},
   "source": [
    "##### Correlation between the ages and average ratings of users"
   ]
  },
  {
   "cell_type": "code",
   "execution_count": 12,
   "id": "2c274869",
   "metadata": {
    "scrolled": false
   },
   "outputs": [
    {
     "name": "stdout",
     "output_type": "stream",
     "text": [
      "Correlation coefficient between age and average ratings of users is 0.0995199154132019\n"
     ]
    },
    {
     "data": {
      "text/plain": [
       "<matplotlib.legend.Legend at 0x2ab971ccd90>"
      ]
     },
     "execution_count": 12,
     "metadata": {},
     "output_type": "execute_result"
    },
    {
     "data": {
      "image/png": "[encoded data removed]",
      "text/plain": [
       "<Figure size 432x432 with 1 Axes>"
      ]
     },
     "metadata": {},
     "output_type": "display_data"
    }
   ],
   "source": [
    "plt.figure(figsize=(6,6))\n",
    "user_ratings = MovieLens_clean[[\"userId\", \"rating\"]].groupby('userId').mean()\n",
    "user_age = MovieLens_clean[[\"userId\", \"age\"]].groupby('userId').mean()\n",
    "print('Correlation coefficient between age and average ratings of users is',user_age['age'].corr(user_ratings['rating']))\n",
    "sns.scatterplot( x = user_age['age'], y = user_ratings['rating'], hue = MovieLens_clean['occupation'],sizes=(20, 200), legend=\"full\" )\n",
    "plt.legend(bbox_to_anchor=(1.05, 1), loc='upper left', borderaxespad=0)"
   ]
  },
  {
   "cell_type": "markdown",
   "id": "a64f6dd5",
   "metadata": {},
   "source": [
    "According to the calculation above, it is obvious that there is almost no correlation(weak positif correlation) between the user's age and the average ratings provided by them since the correlation coefficient is 0.09."
   ]
  },
  {
   "cell_type": "markdown",
   "id": "026a4388",
   "metadata": {},
   "source": [
    "##### Correlation between genders"
   ]
  },
  {
   "cell_type": "code",
   "execution_count": 13,
   "id": "76a4b18c",
   "metadata": {
    "scrolled": false
   },
   "outputs": [
    {
     "data": {
      "text/html": [
       "<div>\n",
       "<style scoped>\n",
       "    .dataframe tbody tr th:only-of-type {\n",
       "        vertical-align: middle;\n",
       "    }\n",
       "\n",
       "    .dataframe tbody tr th {\n",
       "        vertical-align: top;\n",
       "    }\n",
       "\n",
       "    .dataframe thead th {\n",
       "        text-align: right;\n",
       "    }\n",
       "</style>\n",
       "<table border=\"1\" class=\"dataframe\">\n",
       "  <thead>\n",
       "    <tr style=\"text-align: right;\">\n",
       "      <th>gender</th>\n",
       "      <th>F</th>\n",
       "      <th>M</th>\n",
       "    </tr>\n",
       "    <tr>\n",
       "      <th>movieId</th>\n",
       "      <th></th>\n",
       "      <th></th>\n",
       "    </tr>\n",
       "  </thead>\n",
       "  <tbody>\n",
       "    <tr>\n",
       "      <th>1</th>\n",
       "      <td>3.784483</td>\n",
       "      <td>3.908815</td>\n",
       "    </tr>\n",
       "    <tr>\n",
       "      <th>2</th>\n",
       "      <td>3.277778</td>\n",
       "      <td>3.171171</td>\n",
       "    </tr>\n",
       "    <tr>\n",
       "      <th>3</th>\n",
       "      <td>2.800000</td>\n",
       "      <td>3.082192</td>\n",
       "    </tr>\n",
       "    <tr>\n",
       "      <th>4</th>\n",
       "      <td>3.363636</td>\n",
       "      <td>3.592593</td>\n",
       "    </tr>\n",
       "    <tr>\n",
       "      <th>5</th>\n",
       "      <td>3.714286</td>\n",
       "      <td>3.126984</td>\n",
       "    </tr>\n",
       "  </tbody>\n",
       "</table>\n",
       "</div>"
      ],
      "text/plain": [
       "gender          F         M\n",
       "movieId                    \n",
       "1        3.784483  3.908815\n",
       "2        3.277778  3.171171\n",
       "3        2.800000  3.082192\n",
       "4        3.363636  3.592593\n",
       "5        3.714286  3.126984"
      ]
     },
     "execution_count": 13,
     "metadata": {},
     "output_type": "execute_result"
    }
   ],
   "source": [
    "pivGender = pd.pivot_table(MovieLens_clean, values= 'rating',index='movieId', columns='gender')\n",
    "pivGender_clean = pivGender.dropna(axis = 0, how ='any', thresh = None, subset = None, inplace=False)\n",
    "pivGender_clean.head()"
   ]
  },
  {
   "cell_type": "code",
   "execution_count": 14,
   "id": "9456ad57",
   "metadata": {
    "scrolled": true
   },
   "outputs": [
    {
     "name": "stdout",
     "output_type": "stream",
     "text": [
      "Correlation coefficient is 0.5151692338766426\n"
     ]
    },
    {
     "data": {
      "image/png": "[encoded data removed]",
      "text/plain": [
       "<Figure size 432x288 with 1 Axes>"
      ]
     },
     "metadata": {},
     "output_type": "display_data"
    }
   ],
   "source": [
    "print('Correlation coefficient is', pivGender_clean['F'].corr(pivGender_clean['M']))\n",
    "pyplot.scatter(pivGender_clean['F'], pivGender_clean['M'])\n",
    "pyplot.show()"
   ]
  },
  {
   "cell_type": "markdown",
   "id": "e90b41f6",
   "metadata": {},
   "source": [
    "Since the correlation coefficient is 0.51, it can interpreted that there is a medium positive correlation between genders"
   ]
  },
  {
   "cell_type": "markdown",
   "id": "2e1ee8dc",
   "metadata": {},
   "source": [
    "---"
   ]
  },
  {
   "cell_type": "markdown",
   "id": "1e3ee247",
   "metadata": {},
   "source": [
    "#### Correlation beetween occupations"
   ]
  },
  {
   "cell_type": "code",
   "execution_count": 15,
   "id": "941793f8",
   "metadata": {
    "scrolled": false
   },
   "outputs": [
    {
     "data": {
      "text/html": [
       "<div>\n",
       "<style scoped>\n",
       "    .dataframe tbody tr th:only-of-type {\n",
       "        vertical-align: middle;\n",
       "    }\n",
       "\n",
       "    .dataframe tbody tr th {\n",
       "        vertical-align: top;\n",
       "    }\n",
       "\n",
       "    .dataframe thead th {\n",
       "        text-align: right;\n",
       "    }\n",
       "</style>\n",
       "<table border=\"1\" class=\"dataframe\">\n",
       "  <thead>\n",
       "    <tr style=\"text-align: right;\">\n",
       "      <th>occupation</th>\n",
       "      <th>administrator</th>\n",
       "      <th>artist</th>\n",
       "      <th>doctor</th>\n",
       "      <th>educator</th>\n",
       "      <th>engineer</th>\n",
       "      <th>entertainment</th>\n",
       "      <th>executive</th>\n",
       "      <th>healthcare</th>\n",
       "      <th>homemaker</th>\n",
       "      <th>lawyer</th>\n",
       "      <th>librarian</th>\n",
       "      <th>marketing</th>\n",
       "      <th>other</th>\n",
       "      <th>programmer</th>\n",
       "      <th>retired</th>\n",
       "      <th>salesman</th>\n",
       "      <th>scientist</th>\n",
       "      <th>student</th>\n",
       "      <th>technician</th>\n",
       "      <th>writer</th>\n",
       "    </tr>\n",
       "    <tr>\n",
       "      <th>movieId</th>\n",
       "      <th></th>\n",
       "      <th></th>\n",
       "      <th></th>\n",
       "      <th></th>\n",
       "      <th></th>\n",
       "      <th></th>\n",
       "      <th></th>\n",
       "      <th></th>\n",
       "      <th></th>\n",
       "      <th></th>\n",
       "      <th></th>\n",
       "      <th></th>\n",
       "      <th></th>\n",
       "      <th></th>\n",
       "      <th></th>\n",
       "      <th></th>\n",
       "      <th></th>\n",
       "      <th></th>\n",
       "      <th></th>\n",
       "      <th></th>\n",
       "    </tr>\n",
       "  </thead>\n",
       "  <tbody>\n",
       "    <tr>\n",
       "      <th>1</th>\n",
       "      <td>4.000000</td>\n",
       "      <td>4.083333</td>\n",
       "      <td>3.500000</td>\n",
       "      <td>3.731707</td>\n",
       "      <td>4.043478</td>\n",
       "      <td>3.454545</td>\n",
       "      <td>3.882353</td>\n",
       "      <td>3.000000</td>\n",
       "      <td>4.0</td>\n",
       "      <td>4.166667</td>\n",
       "      <td>3.647059</td>\n",
       "      <td>3.888889</td>\n",
       "      <td>4.039216</td>\n",
       "      <td>4.171429</td>\n",
       "      <td>3.666667</td>\n",
       "      <td>4.0</td>\n",
       "      <td>3.818182</td>\n",
       "      <td>3.790476</td>\n",
       "      <td>4.000000</td>\n",
       "      <td>3.562500</td>\n",
       "    </tr>\n",
       "    <tr>\n",
       "      <th>7</th>\n",
       "      <td>4.068966</td>\n",
       "      <td>4.100000</td>\n",
       "      <td>3.000000</td>\n",
       "      <td>3.600000</td>\n",
       "      <td>4.088235</td>\n",
       "      <td>3.600000</td>\n",
       "      <td>3.600000</td>\n",
       "      <td>3.571429</td>\n",
       "      <td>4.0</td>\n",
       "      <td>3.750000</td>\n",
       "      <td>4.133333</td>\n",
       "      <td>4.000000</td>\n",
       "      <td>3.461538</td>\n",
       "      <td>4.000000</td>\n",
       "      <td>3.000000</td>\n",
       "      <td>3.5</td>\n",
       "      <td>4.125000</td>\n",
       "      <td>3.752381</td>\n",
       "      <td>3.916667</td>\n",
       "      <td>3.611111</td>\n",
       "    </tr>\n",
       "    <tr>\n",
       "      <th>9</th>\n",
       "      <td>3.814815</td>\n",
       "      <td>4.142857</td>\n",
       "      <td>1.000000</td>\n",
       "      <td>4.062500</td>\n",
       "      <td>4.192308</td>\n",
       "      <td>3.750000</td>\n",
       "      <td>3.200000</td>\n",
       "      <td>3.500000</td>\n",
       "      <td>1.0</td>\n",
       "      <td>4.500000</td>\n",
       "      <td>4.350000</td>\n",
       "      <td>3.750000</td>\n",
       "      <td>3.685714</td>\n",
       "      <td>4.043478</td>\n",
       "      <td>3.400000</td>\n",
       "      <td>4.0</td>\n",
       "      <td>3.750000</td>\n",
       "      <td>3.941176</td>\n",
       "      <td>4.200000</td>\n",
       "      <td>3.600000</td>\n",
       "    </tr>\n",
       "    <tr>\n",
       "      <th>13</th>\n",
       "      <td>3.384615</td>\n",
       "      <td>3.750000</td>\n",
       "      <td>4.000000</td>\n",
       "      <td>3.636364</td>\n",
       "      <td>3.800000</td>\n",
       "      <td>4.500000</td>\n",
       "      <td>3.285714</td>\n",
       "      <td>3.200000</td>\n",
       "      <td>2.0</td>\n",
       "      <td>3.000000</td>\n",
       "      <td>3.714286</td>\n",
       "      <td>4.000000</td>\n",
       "      <td>3.000000</td>\n",
       "      <td>2.933333</td>\n",
       "      <td>3.000000</td>\n",
       "      <td>3.0</td>\n",
       "      <td>3.333333</td>\n",
       "      <td>3.370370</td>\n",
       "      <td>4.000000</td>\n",
       "      <td>2.750000</td>\n",
       "    </tr>\n",
       "    <tr>\n",
       "      <th>15</th>\n",
       "      <td>3.625000</td>\n",
       "      <td>1.800000</td>\n",
       "      <td>4.333333</td>\n",
       "      <td>3.928571</td>\n",
       "      <td>3.619048</td>\n",
       "      <td>3.500000</td>\n",
       "      <td>3.857143</td>\n",
       "      <td>3.500000</td>\n",
       "      <td>3.5</td>\n",
       "      <td>2.666667</td>\n",
       "      <td>3.750000</td>\n",
       "      <td>3.428571</td>\n",
       "      <td>4.131579</td>\n",
       "      <td>3.884615</td>\n",
       "      <td>3.600000</td>\n",
       "      <td>4.0</td>\n",
       "      <td>4.000000</td>\n",
       "      <td>3.850000</td>\n",
       "      <td>4.000000</td>\n",
       "      <td>3.384615</td>\n",
       "    </tr>\n",
       "  </tbody>\n",
       "</table>\n",
       "</div>"
      ],
      "text/plain": [
       "occupation  administrator    artist    doctor  educator  engineer  \\\n",
       "movieId                                                             \n",
       "1                4.000000  4.083333  3.500000  3.731707  4.043478   \n",
       "7                4.068966  4.100000  3.000000  3.600000  4.088235   \n",
       "9                3.814815  4.142857  1.000000  4.062500  4.192308   \n",
       "13               3.384615  3.750000  4.000000  3.636364  3.800000   \n",
       "15               3.625000  1.800000  4.333333  3.928571  3.619048   \n",
       "\n",
       "occupation  entertainment  executive  healthcare  homemaker    lawyer  \\\n",
       "movieId                                                                 \n",
       "1                3.454545   3.882353    3.000000        4.0  4.166667   \n",
       "7                3.600000   3.600000    3.571429        4.0  3.750000   \n",
       "9                3.750000   3.200000    3.500000        1.0  4.500000   \n",
       "13               4.500000   3.285714    3.200000        2.0  3.000000   \n",
       "15               3.500000   3.857143    3.500000        3.5  2.666667   \n",
       "\n",
       "occupation  librarian  marketing     other  programmer   retired  salesman  \\\n",
       "movieId                                                                      \n",
       "1            3.647059   3.888889  4.039216    4.171429  3.666667       4.0   \n",
       "7            4.133333   4.000000  3.461538    4.000000  3.000000       3.5   \n",
       "9            4.350000   3.750000  3.685714    4.043478  3.400000       4.0   \n",
       "13           3.714286   4.000000  3.000000    2.933333  3.000000       3.0   \n",
       "15           3.750000   3.428571  4.131579    3.884615  3.600000       4.0   \n",
       "\n",
       "occupation  scientist   student  technician    writer  \n",
       "movieId                                                \n",
       "1            3.818182  3.790476    4.000000  3.562500  \n",
       "7            4.125000  3.752381    3.916667  3.611111  \n",
       "9            3.750000  3.941176    4.200000  3.600000  \n",
       "13           3.333333  3.370370    4.000000  2.750000  \n",
       "15           4.000000  3.850000    4.000000  3.384615  "
      ]
     },
     "execution_count": 15,
     "metadata": {},
     "output_type": "execute_result"
    }
   ],
   "source": [
    "pivOccupation = pd.pivot_table(MovieLens_clean, values= 'rating',index='movieId', columns='occupation')\n",
    "pivOccupation_clean = pivOccupation.dropna(axis = 0, how ='any', thresh = None, subset = None, inplace=False)\n",
    "pivOccupation_clean.head()"
   ]
  },
  {
   "cell_type": "code",
   "execution_count": 16,
   "id": "9987ba83",
   "metadata": {
    "scrolled": true
   },
   "outputs": [
    {
     "data": {
      "text/plain": [
       "<AxesSubplot:xlabel='occupation', ylabel='occupation'>"
      ]
     },
     "execution_count": 16,
     "metadata": {},
     "output_type": "execute_result"
    },
    {
     "data": {
      "image/png": "[encoded data removed]",
      "text/plain": [
       "<Figure size 1080x720 with 2 Axes>"
      ]
     },
     "metadata": {},
     "output_type": "display_data"
    }
   ],
   "source": [
    "plt.figure(figsize=(15,10))\n",
    "sns.heatmap(pivOccupation_clean.corr())"
   ]
  },
  {
   "cell_type": "code",
   "execution_count": 17,
   "id": "1a74a974",
   "metadata": {
    "scrolled": true
   },
   "outputs": [
    {
     "name": "stdout",
     "output_type": "stream",
     "text": [
      "Correlation coefficient of educator and engineer people is 0.7819116085777182\n"
     ]
    },
    {
     "data": {
      "image/png": "[encoded data removed]",
      "text/plain": [
       "<Figure size 432x288 with 1 Axes>"
      ]
     },
     "metadata": {},
     "output_type": "display_data"
    }
   ],
   "source": [
    "print('Correlation coefficient of educator and engineer people is 0.7819116085777182')\n",
    "pyplot.scatter(pivOccupation_clean['educator'], pivOccupation_clean['engineer'])\n",
    "pyplot.show()"
   ]
  },
  {
   "cell_type": "code",
   "execution_count": 18,
   "id": "078ae7d3",
   "metadata": {},
   "outputs": [
    {
     "name": "stdout",
     "output_type": "stream",
     "text": [
      "Correlation of homemakers and lawyers is 0.0751\n"
     ]
    },
    {
     "data": {
      "image/png": "[encoded data removed]",
      "text/plain": [
       "<Figure size 432x288 with 1 Axes>"
      ]
     },
     "metadata": {},
     "output_type": "display_data"
    }
   ],
   "source": [
    "print('Correlation of homemakers and lawyers is 0.0751')\n",
    "pyplot.scatter(pivOccupation_clean['homemaker'], pivOccupation_clean['lawyer'])\n",
    "pyplot.show()"
   ]
  },
  {
   "cell_type": "markdown",
   "id": "217d56d2",
   "metadata": {},
   "source": [
    "As you can see above, While there is a very strong correlation between some occupations, some are very close to zero. On the other hand, we can observe that there is no negative correlation at all. Especially, educators and engineers have quite similar interest in movies. However, homemakers and lawyers  do not have the same passion for movies."
   ]
  },
  {
   "cell_type": "markdown",
   "id": "94862a43",
   "metadata": {},
   "source": [
    "---"
   ]
  },
  {
   "cell_type": "markdown",
   "id": "ef2fd761",
   "metadata": {},
   "source": [
    "#### Correlation beetween genres and occupations"
   ]
  },
  {
   "cell_type": "code",
   "execution_count": 19,
   "id": "a57a26f1",
   "metadata": {
    "scrolled": true
   },
   "outputs": [
    {
     "data": {
      "text/html": [
       "<div>\n",
       "<style scoped>\n",
       "    .dataframe tbody tr th:only-of-type {\n",
       "        vertical-align: middle;\n",
       "    }\n",
       "\n",
       "    .dataframe tbody tr th {\n",
       "        vertical-align: top;\n",
       "    }\n",
       "\n",
       "    .dataframe thead th {\n",
       "        text-align: right;\n",
       "    }\n",
       "</style>\n",
       "<table border=\"1\" class=\"dataframe\">\n",
       "  <thead>\n",
       "    <tr style=\"text-align: right;\">\n",
       "      <th>occupation</th>\n",
       "      <th>administrator</th>\n",
       "      <th>artist</th>\n",
       "      <th>doctor</th>\n",
       "      <th>educator</th>\n",
       "      <th>engineer</th>\n",
       "      <th>entertainment</th>\n",
       "      <th>executive</th>\n",
       "      <th>healthcare</th>\n",
       "      <th>homemaker</th>\n",
       "      <th>lawyer</th>\n",
       "      <th>librarian</th>\n",
       "      <th>marketing</th>\n",
       "      <th>other</th>\n",
       "      <th>programmer</th>\n",
       "      <th>retired</th>\n",
       "      <th>salesman</th>\n",
       "      <th>scientist</th>\n",
       "      <th>student</th>\n",
       "      <th>technician</th>\n",
       "      <th>writer</th>\n",
       "    </tr>\n",
       "    <tr>\n",
       "      <th>genre</th>\n",
       "      <th></th>\n",
       "      <th></th>\n",
       "      <th></th>\n",
       "      <th></th>\n",
       "      <th></th>\n",
       "      <th></th>\n",
       "      <th></th>\n",
       "      <th></th>\n",
       "      <th></th>\n",
       "      <th></th>\n",
       "      <th></th>\n",
       "      <th></th>\n",
       "      <th></th>\n",
       "      <th></th>\n",
       "      <th></th>\n",
       "      <th></th>\n",
       "      <th></th>\n",
       "      <th></th>\n",
       "      <th></th>\n",
       "      <th></th>\n",
       "    </tr>\n",
       "  </thead>\n",
       "  <tbody>\n",
       "    <tr>\n",
       "      <th>Action</th>\n",
       "      <td>3.581744</td>\n",
       "      <td>3.465116</td>\n",
       "      <td>3.851064</td>\n",
       "      <td>3.529262</td>\n",
       "      <td>3.460067</td>\n",
       "      <td>3.356164</td>\n",
       "      <td>3.516667</td>\n",
       "      <td>3.145161</td>\n",
       "      <td>3.521739</td>\n",
       "      <td>3.774775</td>\n",
       "      <td>3.392308</td>\n",
       "      <td>3.432836</td>\n",
       "      <td>3.506306</td>\n",
       "      <td>3.535637</td>\n",
       "      <td>3.406780</td>\n",
       "      <td>3.741935</td>\n",
       "      <td>3.377119</td>\n",
       "      <td>3.419520</td>\n",
       "      <td>3.444965</td>\n",
       "      <td>3.167315</td>\n",
       "    </tr>\n",
       "    <tr>\n",
       "      <th>Adventure</th>\n",
       "      <td>3.435065</td>\n",
       "      <td>3.625000</td>\n",
       "      <td>3.294118</td>\n",
       "      <td>3.674352</td>\n",
       "      <td>3.462338</td>\n",
       "      <td>3.197368</td>\n",
       "      <td>3.391667</td>\n",
       "      <td>2.890000</td>\n",
       "      <td>3.111111</td>\n",
       "      <td>3.953488</td>\n",
       "      <td>3.256944</td>\n",
       "      <td>3.596774</td>\n",
       "      <td>3.482270</td>\n",
       "      <td>3.561828</td>\n",
       "      <td>3.300000</td>\n",
       "      <td>3.440000</td>\n",
       "      <td>3.280000</td>\n",
       "      <td>3.345996</td>\n",
       "      <td>3.337209</td>\n",
       "      <td>3.229050</td>\n",
       "    </tr>\n",
       "    <tr>\n",
       "      <th>Animation</th>\n",
       "      <td>3.645570</td>\n",
       "      <td>3.256410</td>\n",
       "      <td>3.500000</td>\n",
       "      <td>3.604396</td>\n",
       "      <td>3.598214</td>\n",
       "      <td>3.300000</td>\n",
       "      <td>3.419355</td>\n",
       "      <td>3.028571</td>\n",
       "      <td>1.000000</td>\n",
       "      <td>3.300000</td>\n",
       "      <td>3.313725</td>\n",
       "      <td>2.925926</td>\n",
       "      <td>3.465278</td>\n",
       "      <td>3.505495</td>\n",
       "      <td>3.454545</td>\n",
       "      <td>3.333333</td>\n",
       "      <td>3.863636</td>\n",
       "      <td>3.468439</td>\n",
       "      <td>3.272727</td>\n",
       "      <td>3.485294</td>\n",
       "    </tr>\n",
       "    <tr>\n",
       "      <th>Children</th>\n",
       "      <td>3.324324</td>\n",
       "      <td>3.162162</td>\n",
       "      <td>3.461538</td>\n",
       "      <td>3.232068</td>\n",
       "      <td>3.318898</td>\n",
       "      <td>2.920000</td>\n",
       "      <td>3.152381</td>\n",
       "      <td>2.333333</td>\n",
       "      <td>3.153846</td>\n",
       "      <td>3.393939</td>\n",
       "      <td>3.514286</td>\n",
       "      <td>3.032787</td>\n",
       "      <td>3.450142</td>\n",
       "      <td>3.247899</td>\n",
       "      <td>3.066667</td>\n",
       "      <td>3.263158</td>\n",
       "      <td>3.391304</td>\n",
       "      <td>3.357043</td>\n",
       "      <td>3.298701</td>\n",
       "      <td>3.285714</td>\n",
       "    </tr>\n",
       "    <tr>\n",
       "      <th>Comedy</th>\n",
       "      <td>3.432043</td>\n",
       "      <td>3.516035</td>\n",
       "      <td>3.649485</td>\n",
       "      <td>3.522545</td>\n",
       "      <td>3.365371</td>\n",
       "      <td>3.227139</td>\n",
       "      <td>2.907609</td>\n",
       "      <td>2.635934</td>\n",
       "      <td>2.898305</td>\n",
       "      <td>3.519856</td>\n",
       "      <td>3.451754</td>\n",
       "      <td>3.354740</td>\n",
       "      <td>3.365957</td>\n",
       "      <td>3.363636</td>\n",
       "      <td>3.361204</td>\n",
       "      <td>3.070000</td>\n",
       "      <td>3.437710</td>\n",
       "      <td>3.317828</td>\n",
       "      <td>3.342532</td>\n",
       "      <td>3.234899</td>\n",
       "    </tr>\n",
       "  </tbody>\n",
       "</table>\n",
       "</div>"
      ],
      "text/plain": [
       "occupation  administrator    artist    doctor  educator  engineer  \\\n",
       "genre                                                               \n",
       "Action           3.581744  3.465116  3.851064  3.529262  3.460067   \n",
       "Adventure        3.435065  3.625000  3.294118  3.674352  3.462338   \n",
       "Animation        3.645570  3.256410  3.500000  3.604396  3.598214   \n",
       "Children         3.324324  3.162162  3.461538  3.232068  3.318898   \n",
       "Comedy           3.432043  3.516035  3.649485  3.522545  3.365371   \n",
       "\n",
       "occupation  entertainment  executive  healthcare  homemaker    lawyer  \\\n",
       "genre                                                                   \n",
       "Action           3.356164   3.516667    3.145161   3.521739  3.774775   \n",
       "Adventure        3.197368   3.391667    2.890000   3.111111  3.953488   \n",
       "Animation        3.300000   3.419355    3.028571   1.000000  3.300000   \n",
       "Children         2.920000   3.152381    2.333333   3.153846  3.393939   \n",
       "Comedy           3.227139   2.907609    2.635934   2.898305  3.519856   \n",
       "\n",
       "occupation  librarian  marketing     other  programmer   retired  salesman  \\\n",
       "genre                                                                        \n",
       "Action       3.392308   3.432836  3.506306    3.535637  3.406780  3.741935   \n",
       "Adventure    3.256944   3.596774  3.482270    3.561828  3.300000  3.440000   \n",
       "Animation    3.313725   2.925926  3.465278    3.505495  3.454545  3.333333   \n",
       "Children     3.514286   3.032787  3.450142    3.247899  3.066667  3.263158   \n",
       "Comedy       3.451754   3.354740  3.365957    3.363636  3.361204  3.070000   \n",
       "\n",
       "occupation  scientist   student  technician    writer  \n",
       "genre                                                  \n",
       "Action       3.377119  3.419520    3.444965  3.167315  \n",
       "Adventure    3.280000  3.345996    3.337209  3.229050  \n",
       "Animation    3.863636  3.468439    3.272727  3.485294  \n",
       "Children     3.391304  3.357043    3.298701  3.285714  \n",
       "Comedy       3.437710  3.317828    3.342532  3.234899  "
      ]
     },
     "execution_count": 19,
     "metadata": {},
     "output_type": "execute_result"
    }
   ],
   "source": [
    "pivGenre = pd.pivot_table(MovieLens_clean, values= 'rating',index='occupation', columns='genre')\n",
    "pivGenre_clean = pivGenre.dropna(axis = 1, how ='any', thresh = None, subset = None, inplace=False)\n",
    "pivGenre_clean_trans = pivGenre_clean.transpose()\n",
    "pivGenre_clean_trans.head()"
   ]
  },
  {
   "cell_type": "markdown",
   "id": "5b445887",
   "metadata": {},
   "source": [
    "#### Correlation beetween genres"
   ]
  },
  {
   "cell_type": "code",
   "execution_count": 20,
   "id": "cef15038",
   "metadata": {},
   "outputs": [
    {
     "data": {
      "text/plain": [
       "<AxesSubplot:xlabel='genre', ylabel='genre'>"
      ]
     },
     "execution_count": 20,
     "metadata": {},
     "output_type": "execute_result"
    },
    {
     "data": {
      "image/png": "[encoded data removed]",
      "text/plain": [
       "<Figure size 1080x720 with 2 Axes>"
      ]
     },
     "metadata": {},
     "output_type": "display_data"
    }
   ],
   "source": [
    "plt.figure(figsize=(15,10))\n",
    "sns.heatmap(pivGenre_clean.corr())"
   ]
  },
  {
   "cell_type": "code",
   "execution_count": 21,
   "id": "297b14aa",
   "metadata": {
    "scrolled": true
   },
   "outputs": [
    {
     "name": "stdout",
     "output_type": "stream",
     "text": [
      "Correlation coefficient of Romance and Drama genres is 0.8603369543155014\n"
     ]
    },
    {
     "data": {
      "image/png": "[encoded data removed]",
      "text/plain": [
       "<Figure size 432x288 with 1 Axes>"
      ]
     },
     "metadata": {},
     "output_type": "display_data"
    }
   ],
   "source": [
    "print('Correlation coefficient of Romance and Drama genres is', pivGenre_clean['Romance'].corr(pivGenre_clean['Drama']))\n",
    "pyplot.scatter(pivGenre_clean['Romance'], pivGenre_clean['Drama'])\n",
    "pyplot.show()"
   ]
  },
  {
   "cell_type": "markdown",
   "id": "5905e49a",
   "metadata": {},
   "source": [
    "The correlation coefficient of Romance and Drama genres is 0.87 which means a strong correlation. Nonetheless; the data is not enough and maybe biased because we calculated the correlation from the occupation's means."
   ]
  },
  {
   "cell_type": "markdown",
   "id": "53df9b88",
   "metadata": {},
   "source": [
    "---"
   ]
  },
  {
   "cell_type": "code",
   "execution_count": 22,
   "id": "80e037c7",
   "metadata": {
    "scrolled": true
   },
   "outputs": [
    {
     "name": "stdout",
     "output_type": "stream",
     "text": [
      "Correlation coefficient of Animation and War genres is -0.4921407808980785\n"
     ]
    },
    {
     "data": {
      "image/png": "[encoded data removed]",
      "text/plain": [
       "<Figure size 432x288 with 1 Axes>"
      ]
     },
     "metadata": {},
     "output_type": "display_data"
    }
   ],
   "source": [
    "print('Correlation coefficient of Animation and War genres is', pivGenre_clean['Animation'].corr(pivGenre_clean['War']))\n",
    "pyplot.scatter(pivGenre_clean['Animation'], pivGenre_clean['War'])\n",
    "pyplot.show()"
   ]
  },
  {
   "cell_type": "markdown",
   "id": "b9cd34ad",
   "metadata": {},
   "source": [
    "The correlation coefficient of Animation and War genres is -0.495 which means that there is a negative correlation between the two genres. it can be interpreted that if users like animation movies, then they tend to unlike war movies or vice versa  Nonetheless; the data is not enough and may be biased because we calculated the correlation from the occupation's means."
   ]
  },
  {
   "cell_type": "markdown",
   "id": "4364bb5f",
   "metadata": {},
   "source": [
    "---"
   ]
  },
  {
   "cell_type": "markdown",
   "id": "10ea5118",
   "metadata": {},
   "source": [
    "#### Correlation beetween occupations"
   ]
  },
  {
   "cell_type": "code",
   "execution_count": 23,
   "id": "f903557f",
   "metadata": {},
   "outputs": [
    {
     "data": {
      "text/plain": [
       "<AxesSubplot:xlabel='occupation', ylabel='occupation'>"
      ]
     },
     "execution_count": 23,
     "metadata": {},
     "output_type": "execute_result"
    },
    {
     "data": {
      "image/png": "[encoded data removed]",
      "text/plain": [
       "<Figure size 1080x720 with 2 Axes>"
      ]
     },
     "metadata": {},
     "output_type": "display_data"
    }
   ],
   "source": [
    "plt.figure(figsize=(15,10))\n",
    "sns.heatmap(pivGenre_clean_trans.corr())"
   ]
  },
  {
   "cell_type": "code",
   "execution_count": 24,
   "id": "ae98de49",
   "metadata": {
    "scrolled": true
   },
   "outputs": [
    {
     "name": "stdout",
     "output_type": "stream",
     "text": [
      "Correlation coefficient of librarian and executive people is -0.2969933551368411\n"
     ]
    },
    {
     "data": {
      "image/png": "[encoded data removed]",
      "text/plain": [
       "<Figure size 432x288 with 1 Axes>"
      ]
     },
     "metadata": {},
     "output_type": "display_data"
    }
   ],
   "source": [
    "print('Correlation coefficient of librarian and executive people is', pivGenre_clean_trans['librarian'].corr(pivGenre_clean_trans['executive']))\n",
    "pyplot.scatter(pivGenre_clean_trans['librarian'], pivGenre_clean_trans['executive'])\n",
    "pyplot.show()"
   ]
  },
  {
   "cell_type": "markdown",
   "id": "52c33721",
   "metadata": {},
   "source": [
    "There is a negative correlation between librarians and executives as the correlation coefficient is  -0,3. "
   ]
  },
  {
   "cell_type": "code",
   "execution_count": 25,
   "id": "785d8811",
   "metadata": {
    "scrolled": true
   },
   "outputs": [
    {
     "name": "stdout",
     "output_type": "stream",
     "text": [
      "Correlation coefficient of educator and engineer people is 0.8696377144291259\n"
     ]
    },
    {
     "data": {
      "image/png": "[encoded data removed]",
      "text/plain": [
       "<Figure size 432x288 with 1 Axes>"
      ]
     },
     "metadata": {},
     "output_type": "display_data"
    }
   ],
   "source": [
    "print('Correlation coefficient of educator and engineer people is', pivGenre_clean_trans['educator'].corr(pivGenre_clean_trans['engineer']))\n",
    "pyplot.scatter(pivGenre_clean_trans['educator'], pivGenre_clean_trans['engineer'])\n",
    "pyplot.show()"
   ]
  },
  {
   "cell_type": "markdown",
   "id": "ef1503a3",
   "metadata": {},
   "source": [
    "In this situation, the correlation coefficient of educators and engineers was  0.78 in the previous calculation. Yet now, the calculation is 0.87 which demonstrates an even stronger relationship. However. Our calculation method was different and the data were not enough to calculate such a relationship. Nevertheless; it can be concluded that there is a strong positive correlation between the two."
   ]
  },
  {
   "cell_type": "markdown",
   "id": "9423f819",
   "metadata": {},
   "source": [
    "---"
   ]
  },
  {
   "cell_type": "markdown",
   "id": "55e8eab4",
   "metadata": {},
   "source": [
    "###### Rating tendency by gender"
   ]
  },
  {
   "cell_type": "code",
   "execution_count": 26,
   "id": "0d82a2ef",
   "metadata": {
    "scrolled": true
   },
   "outputs": [
    {
     "name": "stdout",
     "output_type": "stream",
     "text": [
      "Average rating of male users: 3.5268023184786004\n",
      "Average rating of female users: 3.5306669822111783\n"
     ]
    }
   ],
   "source": [
    "print(\"Average rating of male users:\", MovieLens_clean[MovieLens_clean[\"gender\"] == 'M'].rating.mean())\n",
    "print(\"Average rating of female users:\", MovieLens_clean[MovieLens_clean[\"gender\"] == 'F'].rating.mean())"
   ]
  },
  {
   "cell_type": "markdown",
   "id": "4cd9043d",
   "metadata": {},
   "source": [
    "As seen above,the averages of ratings differ insignificantly.\\\n",
    "Therefore, gender does not affect the tendency of providing higher/lower ratings significantly.\n"
   ]
  },
  {
   "cell_type": "code",
   "execution_count": 27,
   "id": "7f8bca85",
   "metadata": {},
   "outputs": [
    {
     "data": {
      "text/html": [
       "<div>\n",
       "<style scoped>\n",
       "    .dataframe tbody tr th:only-of-type {\n",
       "        vertical-align: middle;\n",
       "    }\n",
       "\n",
       "    .dataframe tbody tr th {\n",
       "        vertical-align: top;\n",
       "    }\n",
       "\n",
       "    .dataframe thead th {\n",
       "        text-align: right;\n",
       "    }\n",
       "</style>\n",
       "<table border=\"1\" class=\"dataframe\">\n",
       "  <thead>\n",
       "    <tr style=\"text-align: right;\">\n",
       "      <th></th>\n",
       "      <th>userId</th>\n",
       "      <th>age</th>\n",
       "      <th>gender</th>\n",
       "      <th>occupation</th>\n",
       "      <th>movieId</th>\n",
       "      <th>rating</th>\n",
       "      <th>genre</th>\n",
       "      <th>timestamp</th>\n",
       "    </tr>\n",
       "  </thead>\n",
       "  <tbody>\n",
       "    <tr>\n",
       "      <th>0</th>\n",
       "      <td>196</td>\n",
       "      <td>49.0</td>\n",
       "      <td>M</td>\n",
       "      <td>writer</td>\n",
       "      <td>242</td>\n",
       "      <td>3.0</td>\n",
       "      <td>Comedy</td>\n",
       "      <td>881250949</td>\n",
       "    </tr>\n",
       "    <tr>\n",
       "      <th>2</th>\n",
       "      <td>22</td>\n",
       "      <td>25.0</td>\n",
       "      <td>M</td>\n",
       "      <td>writer</td>\n",
       "      <td>377</td>\n",
       "      <td>1.0</td>\n",
       "      <td>Children</td>\n",
       "      <td>878887116</td>\n",
       "    </tr>\n",
       "    <tr>\n",
       "      <th>3</th>\n",
       "      <td>244</td>\n",
       "      <td>28.0</td>\n",
       "      <td>M</td>\n",
       "      <td>technician</td>\n",
       "      <td>51</td>\n",
       "      <td>2.0</td>\n",
       "      <td>Romance</td>\n",
       "      <td>880606923</td>\n",
       "    </tr>\n",
       "    <tr>\n",
       "      <th>5</th>\n",
       "      <td>298</td>\n",
       "      <td>44.0</td>\n",
       "      <td>M</td>\n",
       "      <td>executive</td>\n",
       "      <td>474</td>\n",
       "      <td>4.0</td>\n",
       "      <td>War</td>\n",
       "      <td>884182806</td>\n",
       "    </tr>\n",
       "    <tr>\n",
       "      <th>7</th>\n",
       "      <td>253</td>\n",
       "      <td>26.0</td>\n",
       "      <td>F</td>\n",
       "      <td>librarian</td>\n",
       "      <td>465</td>\n",
       "      <td>5.0</td>\n",
       "      <td>Adventure</td>\n",
       "      <td>891628467</td>\n",
       "    </tr>\n",
       "  </tbody>\n",
       "</table>\n",
       "</div>"
      ],
      "text/plain": [
       "   userId   age gender  occupation  movieId  rating      genre  timestamp\n",
       "0     196  49.0      M      writer      242     3.0     Comedy  881250949\n",
       "2      22  25.0      M      writer      377     1.0   Children  878887116\n",
       "3     244  28.0      M  technician       51     2.0    Romance  880606923\n",
       "5     298  44.0      M   executive      474     4.0        War  884182806\n",
       "7     253  26.0      F   librarian      465     5.0  Adventure  891628467"
      ]
     },
     "execution_count": 27,
     "metadata": {},
     "output_type": "execute_result"
    }
   ],
   "source": [
    "MovieLens_clean.head()"
   ]
  },
  {
   "cell_type": "code",
   "execution_count": null,
   "id": "5223edbd",
   "metadata": {},
   "outputs": [],
   "source": []
  },
  {
   "cell_type": "markdown",
   "id": "8394e8e5",
   "metadata": {},
   "source": [
    "---"
   ]
  },
  {
   "cell_type": "markdown",
   "id": "d271687e",
   "metadata": {},
   "source": [
    "#### Distribution of the average ratings of each movie"
   ]
  },
  {
   "cell_type": "code",
   "execution_count": 28,
   "id": "bd742c65",
   "metadata": {
    "scrolled": true
   },
   "outputs": [
    {
     "data": {
      "image/png": "[encoded data removed]",
      "text/plain": [
       "<Figure size 432x288 with 1 Axes>"
      ]
     },
     "metadata": {},
     "output_type": "display_data"
    }
   ],
   "source": [
    "import warnings\n",
    "warnings.filterwarnings('ignore')\n",
    "Movie_rating1 =  MovieLens_clean[[\"movieId\", \"rating\"]].groupby('movieId').mean()\n",
    "Movie_rating_vis1 = sns.distplot(Movie_rating1, bins = 30)"
   ]
  },
  {
   "cell_type": "code",
   "execution_count": 29,
   "id": "62debabb",
   "metadata": {
    "scrolled": true
   },
   "outputs": [
    {
     "data": {
      "text/html": [
       "<div>\n",
       "<style scoped>\n",
       "    .dataframe tbody tr th:only-of-type {\n",
       "        vertical-align: middle;\n",
       "    }\n",
       "\n",
       "    .dataframe tbody tr th {\n",
       "        vertical-align: top;\n",
       "    }\n",
       "\n",
       "    .dataframe thead th {\n",
       "        text-align: right;\n",
       "    }\n",
       "</style>\n",
       "<table border=\"1\" class=\"dataframe\">\n",
       "  <thead>\n",
       "    <tr style=\"text-align: right;\">\n",
       "      <th></th>\n",
       "      <th>count</th>\n",
       "      <th>mean</th>\n",
       "      <th>std</th>\n",
       "      <th>min</th>\n",
       "      <th>25%</th>\n",
       "      <th>50%</th>\n",
       "      <th>75%</th>\n",
       "      <th>max</th>\n",
       "    </tr>\n",
       "  </thead>\n",
       "  <tbody>\n",
       "    <tr>\n",
       "      <th>rating</th>\n",
       "      <td>1682.0</td>\n",
       "      <td>3.07105</td>\n",
       "      <td>0.783962</td>\n",
       "      <td>1.0</td>\n",
       "      <td>2.642857</td>\n",
       "      <td>3.159197</td>\n",
       "      <td>3.652328</td>\n",
       "      <td>5.0</td>\n",
       "    </tr>\n",
       "  </tbody>\n",
       "</table>\n",
       "</div>"
      ],
      "text/plain": [
       "         count     mean       std  min       25%       50%       75%  max\n",
       "rating  1682.0  3.07105  0.783962  1.0  2.642857  3.159197  3.652328  5.0"
      ]
     },
     "execution_count": 29,
     "metadata": {},
     "output_type": "execute_result"
    }
   ],
   "source": [
    "Movie_rating1.describe().transpose()"
   ]
  },
  {
   "cell_type": "markdown",
   "id": "3f3e690d",
   "metadata": {},
   "source": [
    "#### Distribution of the average ratings provided by each users"
   ]
  },
  {
   "cell_type": "code",
   "execution_count": 30,
   "id": "5fb5bbaa",
   "metadata": {
    "scrolled": true
   },
   "outputs": [
    {
     "data": {
      "image/png": "[encoded data removed]",
      "text/plain": [
       "<Figure size 432x288 with 1 Axes>"
      ]
     },
     "metadata": {},
     "output_type": "display_data"
    }
   ],
   "source": [
    "Movie_rating2 =  MovieLens_clean[[\"userId\", \"rating\"]].groupby('userId').mean()\n",
    "Movie_rating_vis2 = sns.distplot(Movie_rating2, bins = 30)"
   ]
  },
  {
   "cell_type": "code",
   "execution_count": 31,
   "id": "cbae0dcd",
   "metadata": {},
   "outputs": [
    {
     "data": {
      "text/html": [
       "<div>\n",
       "<style scoped>\n",
       "    .dataframe tbody tr th:only-of-type {\n",
       "        vertical-align: middle;\n",
       "    }\n",
       "\n",
       "    .dataframe tbody tr th {\n",
       "        vertical-align: top;\n",
       "    }\n",
       "\n",
       "    .dataframe thead th {\n",
       "        text-align: right;\n",
       "    }\n",
       "</style>\n",
       "<table border=\"1\" class=\"dataframe\">\n",
       "  <thead>\n",
       "    <tr style=\"text-align: right;\">\n",
       "      <th></th>\n",
       "      <th>count</th>\n",
       "      <th>mean</th>\n",
       "      <th>std</th>\n",
       "      <th>min</th>\n",
       "      <th>25%</th>\n",
       "      <th>50%</th>\n",
       "      <th>75%</th>\n",
       "      <th>max</th>\n",
       "    </tr>\n",
       "  </thead>\n",
       "  <tbody>\n",
       "    <tr>\n",
       "      <th>rating</th>\n",
       "      <td>934.0</td>\n",
       "      <td>3.588187</td>\n",
       "      <td>0.443668</td>\n",
       "      <td>1.491954</td>\n",
       "      <td>3.326242</td>\n",
       "      <td>3.621102</td>\n",
       "      <td>3.866204</td>\n",
       "      <td>4.869565</td>\n",
       "    </tr>\n",
       "  </tbody>\n",
       "</table>\n",
       "</div>"
      ],
      "text/plain": [
       "        count      mean       std       min       25%       50%       75%  \\\n",
       "rating  934.0  3.588187  0.443668  1.491954  3.326242  3.621102  3.866204   \n",
       "\n",
       "             max  \n",
       "rating  4.869565  "
      ]
     },
     "execution_count": 31,
     "metadata": {},
     "output_type": "execute_result"
    }
   ],
   "source": [
    "Movie_rating2.describe().transpose()"
   ]
  },
  {
   "cell_type": "code",
   "execution_count": 32,
   "id": "18bc9634",
   "metadata": {
    "scrolled": true
   },
   "outputs": [
    {
     "data": {
      "image/png": "[encoded data removed]",
      "text/plain": [
       "<Figure size 432x288 with 1 Axes>"
      ]
     },
     "metadata": {},
     "output_type": "display_data"
    }
   ],
   "source": [
    "Movie_rating_vis1 = sns.histplot(Movie_rating1, bins = 30)\n",
    "Movie_rating_vis2 = sns.histplot(Movie_rating2, bins = 30)"
   ]
  },
  {
   "cell_type": "markdown",
   "id": "6fe43587",
   "metadata": {},
   "source": [
    "#### Average ratings of each genre"
   ]
  },
  {
   "cell_type": "code",
   "execution_count": 33,
   "id": "f03a0fd9",
   "metadata": {
    "scrolled": false
   },
   "outputs": [
    {
     "data": {
      "text/plain": [
       "<AxesSubplot:title={'center':'Average ratings of each Genre'}, xlabel='genre'>"
      ]
     },
     "execution_count": 33,
     "metadata": {},
     "output_type": "execute_result"
    },
    {
     "data": {
      "text/plain": [
       "<Figure size 1080x360 with 0 Axes>"
      ]
     },
     "metadata": {},
     "output_type": "display_data"
    },
    {
     "data": {
      "image/png": "[encoded data removed]",
      "text/plain": [
       "<Figure size 432x288 with 1 Axes>"
      ]
     },
     "metadata": {},
     "output_type": "display_data"
    }
   ],
   "source": [
    "Genre_rating =  MovieLens_clean[[\"genre\", \"rating\"]].groupby('genre').mean()\n",
    "Genre_rating_sorted = Genre_rating.sort_values(by= 'rating', ascending=False)\n",
    "fig = plt.figure(figsize=(15, 5))\n",
    "Genre_rating_sorted.plot(kind='bar', style='b', alpha=0.5,\n",
    "              title='Average ratings of each Genre')"
   ]
  },
  {
   "cell_type": "markdown",
   "id": "b4707aca",
   "metadata": {},
   "source": [
    "---"
   ]
  },
  {
   "cell_type": "markdown",
   "id": "24c88aad",
   "metadata": {},
   "source": [
    "#### Average ratings of the genres by gender"
   ]
  },
  {
   "cell_type": "code",
   "execution_count": 34,
   "id": "a955b09f",
   "metadata": {
    "scrolled": false
   },
   "outputs": [
    {
     "data": {
      "text/html": [
       "<div>\n",
       "<style scoped>\n",
       "    .dataframe tbody tr th:only-of-type {\n",
       "        vertical-align: middle;\n",
       "    }\n",
       "\n",
       "    .dataframe tbody tr th {\n",
       "        vertical-align: top;\n",
       "    }\n",
       "\n",
       "    .dataframe thead th {\n",
       "        text-align: right;\n",
       "    }\n",
       "</style>\n",
       "<table border=\"1\" class=\"dataframe\">\n",
       "  <thead>\n",
       "    <tr style=\"text-align: right;\">\n",
       "      <th>genre</th>\n",
       "      <th>Action</th>\n",
       "      <th>Adventure</th>\n",
       "      <th>Animation</th>\n",
       "      <th>Children</th>\n",
       "      <th>Comedy</th>\n",
       "    </tr>\n",
       "    <tr>\n",
       "      <th>gender</th>\n",
       "      <th></th>\n",
       "      <th></th>\n",
       "      <th></th>\n",
       "      <th></th>\n",
       "      <th></th>\n",
       "    </tr>\n",
       "  </thead>\n",
       "  <tbody>\n",
       "    <tr>\n",
       "      <th>F</th>\n",
       "      <td>3.499074</td>\n",
       "      <td>3.407925</td>\n",
       "      <td>3.545455</td>\n",
       "      <td>3.325287</td>\n",
       "      <td>3.384697</td>\n",
       "    </tr>\n",
       "    <tr>\n",
       "      <th>M</th>\n",
       "      <td>3.443423</td>\n",
       "      <td>3.423979</td>\n",
       "      <td>3.423123</td>\n",
       "      <td>3.260212</td>\n",
       "      <td>3.321699</td>\n",
       "    </tr>\n",
       "  </tbody>\n",
       "</table>\n",
       "</div>"
      ],
      "text/plain": [
       "genre     Action  Adventure  Animation  Children    Comedy\n",
       "gender                                                    \n",
       "F       3.499074   3.407925   3.545455  3.325287  3.384697\n",
       "M       3.443423   3.423979   3.423123  3.260212  3.321699"
      ]
     },
     "execution_count": 34,
     "metadata": {},
     "output_type": "execute_result"
    }
   ],
   "source": [
    "pivMovie = pd.pivot_table(MovieLens_clean, values= 'rating',\n",
    "                        index='genre', columns='gender')\n",
    "pivMovie.head().transpose()"
   ]
  },
  {
   "cell_type": "code",
   "execution_count": 35,
   "id": "f972722e",
   "metadata": {},
   "outputs": [
    {
     "data": {
      "image/png": "[encoded data removed]",
      "text/plain": [
       "<Figure size 864x432 with 1 Axes>"
      ]
     },
     "metadata": {},
     "output_type": "display_data"
    }
   ],
   "source": [
    "my_colors = ['r', 'b']\n",
    "ax = pivMovie.plot(kind='bar', stacked=False, color=my_colors, figsize=(12, 6))\n",
    "ax.legend(loc='center left', bbox_to_anchor=(1, 0.5))\n",
    "plt.savefig('Value_Time_Country.png', dpi=300, bbox_inches='tight')"
   ]
  },
  {
   "cell_type": "markdown",
   "id": "71e34b00",
   "metadata": {},
   "source": [
    "---"
   ]
  },
  {
   "cell_type": "markdown",
   "id": "d202cca4",
   "metadata": {},
   "source": [
    "#### Top 5 favorite genres by gender"
   ]
  },
  {
   "cell_type": "markdown",
   "id": "22446b1d",
   "metadata": {},
   "source": [
    "**Females**"
   ]
  },
  {
   "cell_type": "code",
   "execution_count": 36,
   "id": "616e8bc0",
   "metadata": {
    "scrolled": true
   },
   "outputs": [
    {
     "data": {
      "text/html": [
       "<div>\n",
       "<style scoped>\n",
       "    .dataframe tbody tr th:only-of-type {\n",
       "        vertical-align: middle;\n",
       "    }\n",
       "\n",
       "    .dataframe tbody tr th {\n",
       "        vertical-align: top;\n",
       "    }\n",
       "\n",
       "    .dataframe thead th {\n",
       "        text-align: right;\n",
       "    }\n",
       "</style>\n",
       "<table border=\"1\" class=\"dataframe\">\n",
       "  <thead>\n",
       "    <tr style=\"text-align: right;\">\n",
       "      <th></th>\n",
       "      <th>rating</th>\n",
       "    </tr>\n",
       "    <tr>\n",
       "      <th>genre</th>\n",
       "      <th></th>\n",
       "    </tr>\n",
       "  </thead>\n",
       "  <tbody>\n",
       "    <tr>\n",
       "      <th>Musical</th>\n",
       "      <td>3.761252</td>\n",
       "    </tr>\n",
       "    <tr>\n",
       "      <th>Film-Noir</th>\n",
       "      <td>3.691275</td>\n",
       "    </tr>\n",
       "    <tr>\n",
       "      <th>Drama</th>\n",
       "      <td>3.653556</td>\n",
       "    </tr>\n",
       "    <tr>\n",
       "      <th>Romance</th>\n",
       "      <td>3.651032</td>\n",
       "    </tr>\n",
       "    <tr>\n",
       "      <th>War</th>\n",
       "      <td>3.644295</td>\n",
       "    </tr>\n",
       "  </tbody>\n",
       "</table>\n",
       "</div>"
      ],
      "text/plain": [
       "             rating\n",
       "genre              \n",
       "Musical    3.761252\n",
       "Film-Noir  3.691275\n",
       "Drama      3.653556\n",
       "Romance    3.651032\n",
       "War        3.644295"
      ]
     },
     "execution_count": 36,
     "metadata": {},
     "output_type": "execute_result"
    }
   ],
   "source": [
    "females = MovieLens_clean[MovieLens_clean[\"gender\"] == 'F']\n",
    "F_genre_ratings = females[[\"genre\", \"rating\"]].groupby('genre').mean()\n",
    "F_genre_ratings.sort_values(by = 'rating',ascending=False).head()"
   ]
  },
  {
   "cell_type": "markdown",
   "id": "0590ac04",
   "metadata": {},
   "source": [
    "**Males**"
   ]
  },
  {
   "cell_type": "code",
   "execution_count": 37,
   "id": "fa0f235a",
   "metadata": {
    "scrolled": true
   },
   "outputs": [
    {
     "data": {
      "text/html": [
       "<div>\n",
       "<style scoped>\n",
       "    .dataframe tbody tr th:only-of-type {\n",
       "        vertical-align: middle;\n",
       "    }\n",
       "\n",
       "    .dataframe tbody tr th {\n",
       "        vertical-align: top;\n",
       "    }\n",
       "\n",
       "    .dataframe thead th {\n",
       "        text-align: right;\n",
       "    }\n",
       "</style>\n",
       "<table border=\"1\" class=\"dataframe\">\n",
       "  <thead>\n",
       "    <tr style=\"text-align: right;\">\n",
       "      <th></th>\n",
       "      <th>rating</th>\n",
       "    </tr>\n",
       "    <tr>\n",
       "      <th>genre</th>\n",
       "      <th></th>\n",
       "    </tr>\n",
       "  </thead>\n",
       "  <tbody>\n",
       "    <tr>\n",
       "      <th>Film-Noir</th>\n",
       "      <td>3.845024</td>\n",
       "    </tr>\n",
       "    <tr>\n",
       "      <th>Western</th>\n",
       "      <td>3.798255</td>\n",
       "    </tr>\n",
       "    <tr>\n",
       "      <th>Crime</th>\n",
       "      <td>3.737008</td>\n",
       "    </tr>\n",
       "    <tr>\n",
       "      <th>War</th>\n",
       "      <td>3.722637</td>\n",
       "    </tr>\n",
       "    <tr>\n",
       "      <th>Drama</th>\n",
       "      <td>3.701577</td>\n",
       "    </tr>\n",
       "  </tbody>\n",
       "</table>\n",
       "</div>"
      ],
      "text/plain": [
       "             rating\n",
       "genre              \n",
       "Film-Noir  3.845024\n",
       "Western    3.798255\n",
       "Crime      3.737008\n",
       "War        3.722637\n",
       "Drama      3.701577"
      ]
     },
     "execution_count": 37,
     "metadata": {},
     "output_type": "execute_result"
    }
   ],
   "source": [
    "males = MovieLens_clean[MovieLens_clean[\"gender\"] == 'M']\n",
    "M_genre_ratings = males[[\"genre\", \"rating\"]].groupby('genre').mean()\n",
    "M_genre_ratings.sort_values(by = 'rating',ascending=False).head()"
   ]
  },
  {
   "cell_type": "markdown",
   "id": "99c3d686",
   "metadata": {},
   "source": [
    "##### Top 5 movies"
   ]
  },
  {
   "cell_type": "code",
   "execution_count": 38,
   "id": "a45d2046",
   "metadata": {},
   "outputs": [
    {
     "data": {
      "text/html": [
       "<div>\n",
       "<style scoped>\n",
       "    .dataframe tbody tr th:only-of-type {\n",
       "        vertical-align: middle;\n",
       "    }\n",
       "\n",
       "    .dataframe tbody tr th {\n",
       "        vertical-align: top;\n",
       "    }\n",
       "\n",
       "    .dataframe thead th {\n",
       "        text-align: right;\n",
       "    }\n",
       "</style>\n",
       "<table border=\"1\" class=\"dataframe\">\n",
       "  <thead>\n",
       "    <tr style=\"text-align: right;\">\n",
       "      <th></th>\n",
       "      <th>rating</th>\n",
       "    </tr>\n",
       "    <tr>\n",
       "      <th>movieId</th>\n",
       "      <th></th>\n",
       "    </tr>\n",
       "  </thead>\n",
       "  <tbody>\n",
       "    <tr>\n",
       "      <th>1467</th>\n",
       "      <td>5.0</td>\n",
       "    </tr>\n",
       "    <tr>\n",
       "      <th>1201</th>\n",
       "      <td>5.0</td>\n",
       "    </tr>\n",
       "    <tr>\n",
       "      <th>1500</th>\n",
       "      <td>5.0</td>\n",
       "    </tr>\n",
       "    <tr>\n",
       "      <th>1653</th>\n",
       "      <td>5.0</td>\n",
       "    </tr>\n",
       "    <tr>\n",
       "      <th>814</th>\n",
       "      <td>5.0</td>\n",
       "    </tr>\n",
       "  </tbody>\n",
       "</table>\n",
       "</div>"
      ],
      "text/plain": [
       "         rating\n",
       "movieId        \n",
       "1467        5.0\n",
       "1201        5.0\n",
       "1500        5.0\n",
       "1653        5.0\n",
       "814         5.0"
      ]
     },
     "execution_count": 38,
     "metadata": {},
     "output_type": "execute_result"
    }
   ],
   "source": [
    "MovieLens_clean[[\"movieId\", \"rating\"]].groupby('movieId').mean().sort_values(by ='rating', ascending= False ).head()"
   ]
  },
  {
   "cell_type": "markdown",
   "id": "1d8d121f",
   "metadata": {},
   "source": [
    "#### Q4. Detect and remove outliers\n",
    "\n",
    "We may define outlier users and movies with three rules:\n",
    "\n",
    "* users whose age is no more than 10\n",
    "* users who rate less than 20 movies\n",
    "* movies that receives less than 10 ratings (i.e., movies that are rated by less than 10 users)\n",
    " \n",
    "Please remove the corresponding records in the csv file that involves outlier users and movies. After that, __print the length of the data__."
   ]
  },
  {
   "cell_type": "markdown",
   "id": "4118d654",
   "metadata": {},
   "source": [
    "---"
   ]
  },
  {
   "cell_type": "markdown",
   "id": "4c000be6",
   "metadata": {},
   "source": [
    "##### Removing the users whose age is no more than 10"
   ]
  },
  {
   "cell_type": "code",
   "execution_count": 39,
   "id": "527c47c1",
   "metadata": {},
   "outputs": [
    {
     "name": "stdout",
     "output_type": "stream",
     "text": [
      " length before the deduction: 99022\n"
     ]
    }
   ],
   "source": [
    "print(' length before the deduction:', len(MovieLens_clean))"
   ]
  },
  {
   "cell_type": "code",
   "execution_count": 40,
   "id": "0d7a9cac",
   "metadata": {
    "scrolled": true
   },
   "outputs": [],
   "source": [
    "MovieLens_removed = MovieLens_clean[MovieLens_clean['age'] > 10 ]"
   ]
  },
  {
   "cell_type": "code",
   "execution_count": 41,
   "id": "bef3e71b",
   "metadata": {},
   "outputs": [
    {
     "name": "stdout",
     "output_type": "stream",
     "text": [
      " length after deduction: 98948\n",
      " Removed rows numbers: 74\n"
     ]
    }
   ],
   "source": [
    "print(' length after deduction:', len(MovieLens_removed))\n",
    "print(' Removed rows numbers:', len(MovieLens_clean) - len(MovieLens_removed) )"
   ]
  },
  {
   "cell_type": "markdown",
   "id": "f0a4f048",
   "metadata": {},
   "source": [
    "##### Removing the users who rate less than 20 movies"
   ]
  },
  {
   "cell_type": "code",
   "execution_count": 42,
   "id": "4f49623c",
   "metadata": {},
   "outputs": [
    {
     "data": {
      "text/html": [
       "<div>\n",
       "<style scoped>\n",
       "    .dataframe tbody tr th:only-of-type {\n",
       "        vertical-align: middle;\n",
       "    }\n",
       "\n",
       "    .dataframe tbody tr th {\n",
       "        vertical-align: top;\n",
       "    }\n",
       "\n",
       "    .dataframe thead th {\n",
       "        text-align: right;\n",
       "    }\n",
       "</style>\n",
       "<table border=\"1\" class=\"dataframe\">\n",
       "  <thead>\n",
       "    <tr style=\"text-align: right;\">\n",
       "      <th></th>\n",
       "      <th>age</th>\n",
       "      <th>gender</th>\n",
       "      <th>occupation</th>\n",
       "      <th>movieId</th>\n",
       "      <th>rating</th>\n",
       "      <th>genre</th>\n",
       "      <th>timestamp</th>\n",
       "    </tr>\n",
       "    <tr>\n",
       "      <th>userId</th>\n",
       "      <th></th>\n",
       "      <th></th>\n",
       "      <th></th>\n",
       "      <th></th>\n",
       "      <th></th>\n",
       "      <th></th>\n",
       "      <th></th>\n",
       "    </tr>\n",
       "  </thead>\n",
       "  <tbody>\n",
       "    <tr>\n",
       "      <th>1</th>\n",
       "      <td>272</td>\n",
       "      <td>272</td>\n",
       "      <td>272</td>\n",
       "      <td>272</td>\n",
       "      <td>272</td>\n",
       "      <td>272</td>\n",
       "      <td>272</td>\n",
       "    </tr>\n",
       "    <tr>\n",
       "      <th>2</th>\n",
       "      <td>62</td>\n",
       "      <td>62</td>\n",
       "      <td>62</td>\n",
       "      <td>62</td>\n",
       "      <td>62</td>\n",
       "      <td>62</td>\n",
       "      <td>62</td>\n",
       "    </tr>\n",
       "    <tr>\n",
       "      <th>3</th>\n",
       "      <td>54</td>\n",
       "      <td>54</td>\n",
       "      <td>54</td>\n",
       "      <td>54</td>\n",
       "      <td>54</td>\n",
       "      <td>54</td>\n",
       "      <td>54</td>\n",
       "    </tr>\n",
       "    <tr>\n",
       "      <th>4</th>\n",
       "      <td>24</td>\n",
       "      <td>24</td>\n",
       "      <td>24</td>\n",
       "      <td>24</td>\n",
       "      <td>24</td>\n",
       "      <td>24</td>\n",
       "      <td>24</td>\n",
       "    </tr>\n",
       "    <tr>\n",
       "      <th>5</th>\n",
       "      <td>170</td>\n",
       "      <td>170</td>\n",
       "      <td>170</td>\n",
       "      <td>170</td>\n",
       "      <td>170</td>\n",
       "      <td>170</td>\n",
       "      <td>170</td>\n",
       "    </tr>\n",
       "    <tr>\n",
       "      <th>...</th>\n",
       "      <td>...</td>\n",
       "      <td>...</td>\n",
       "      <td>...</td>\n",
       "      <td>...</td>\n",
       "      <td>...</td>\n",
       "      <td>...</td>\n",
       "      <td>...</td>\n",
       "    </tr>\n",
       "    <tr>\n",
       "      <th>939</th>\n",
       "      <td>49</td>\n",
       "      <td>49</td>\n",
       "      <td>49</td>\n",
       "      <td>49</td>\n",
       "      <td>49</td>\n",
       "      <td>49</td>\n",
       "      <td>49</td>\n",
       "    </tr>\n",
       "    <tr>\n",
       "      <th>940</th>\n",
       "      <td>107</td>\n",
       "      <td>107</td>\n",
       "      <td>107</td>\n",
       "      <td>107</td>\n",
       "      <td>107</td>\n",
       "      <td>107</td>\n",
       "      <td>107</td>\n",
       "    </tr>\n",
       "    <tr>\n",
       "      <th>941</th>\n",
       "      <td>22</td>\n",
       "      <td>22</td>\n",
       "      <td>22</td>\n",
       "      <td>22</td>\n",
       "      <td>22</td>\n",
       "      <td>22</td>\n",
       "      <td>22</td>\n",
       "    </tr>\n",
       "    <tr>\n",
       "      <th>942</th>\n",
       "      <td>79</td>\n",
       "      <td>79</td>\n",
       "      <td>79</td>\n",
       "      <td>79</td>\n",
       "      <td>79</td>\n",
       "      <td>79</td>\n",
       "      <td>79</td>\n",
       "    </tr>\n",
       "    <tr>\n",
       "      <th>943</th>\n",
       "      <td>168</td>\n",
       "      <td>168</td>\n",
       "      <td>168</td>\n",
       "      <td>168</td>\n",
       "      <td>168</td>\n",
       "      <td>168</td>\n",
       "      <td>168</td>\n",
       "    </tr>\n",
       "  </tbody>\n",
       "</table>\n",
       "<p>932 rows × 7 columns</p>\n",
       "</div>"
      ],
      "text/plain": [
       "        age  gender  occupation  movieId  rating  genre  timestamp\n",
       "userId                                                            \n",
       "1       272     272         272      272     272    272        272\n",
       "2        62      62          62       62      62     62         62\n",
       "3        54      54          54       54      54     54         54\n",
       "4        24      24          24       24      24     24         24\n",
       "5       170     170         170      170     170    170        170\n",
       "...     ...     ...         ...      ...     ...    ...        ...\n",
       "939      49      49          49       49      49     49         49\n",
       "940     107     107         107      107     107    107        107\n",
       "941      22      22          22       22      22     22         22\n",
       "942      79      79          79       79      79     79         79\n",
       "943     168     168         168      168     168    168        168\n",
       "\n",
       "[932 rows x 7 columns]"
      ]
     },
     "execution_count": 42,
     "metadata": {},
     "output_type": "execute_result"
    }
   ],
   "source": [
    "user_grouped = MovieLens_removed.groupby('userId')\n",
    "MovieLens_removed2 =  user_grouped.filter(lambda x: x['rating'].count() >= 20 )\n",
    "MovieLens_removed2.head()\n",
    "user_grouped.count()"
   ]
  },
  {
   "cell_type": "code",
   "execution_count": 43,
   "id": "732b582b",
   "metadata": {},
   "outputs": [
    {
     "name": "stdout",
     "output_type": "stream",
     "text": [
      " length after deduction: 98929\n",
      " Number of rows removed: 19\n"
     ]
    }
   ],
   "source": [
    "print(' length after deduction:', len(MovieLens_removed2))\n",
    "print(' Number of rows removed:', len(MovieLens_removed) - len(MovieLens_removed2) )"
   ]
  },
  {
   "cell_type": "markdown",
   "id": "4df44b5c",
   "metadata": {},
   "source": [
    "---"
   ]
  },
  {
   "cell_type": "markdown",
   "id": "9129fca8",
   "metadata": {},
   "source": [
    "##### Removing the movies that receives less than 10 ratings"
   ]
  },
  {
   "cell_type": "code",
   "execution_count": 44,
   "id": "ee9031ea",
   "metadata": {},
   "outputs": [
    {
     "data": {
      "text/html": [
       "<div>\n",
       "<style scoped>\n",
       "    .dataframe tbody tr th:only-of-type {\n",
       "        vertical-align: middle;\n",
       "    }\n",
       "\n",
       "    .dataframe tbody tr th {\n",
       "        vertical-align: top;\n",
       "    }\n",
       "\n",
       "    .dataframe thead th {\n",
       "        text-align: right;\n",
       "    }\n",
       "</style>\n",
       "<table border=\"1\" class=\"dataframe\">\n",
       "  <thead>\n",
       "    <tr style=\"text-align: right;\">\n",
       "      <th></th>\n",
       "      <th>userId</th>\n",
       "      <th>age</th>\n",
       "      <th>gender</th>\n",
       "      <th>occupation</th>\n",
       "      <th>movieId</th>\n",
       "      <th>rating</th>\n",
       "      <th>genre</th>\n",
       "      <th>timestamp</th>\n",
       "    </tr>\n",
       "  </thead>\n",
       "  <tbody>\n",
       "    <tr>\n",
       "      <th>0</th>\n",
       "      <td>196</td>\n",
       "      <td>49.0</td>\n",
       "      <td>M</td>\n",
       "      <td>writer</td>\n",
       "      <td>242</td>\n",
       "      <td>3.0</td>\n",
       "      <td>Comedy</td>\n",
       "      <td>881250949</td>\n",
       "    </tr>\n",
       "    <tr>\n",
       "      <th>2</th>\n",
       "      <td>22</td>\n",
       "      <td>25.0</td>\n",
       "      <td>M</td>\n",
       "      <td>writer</td>\n",
       "      <td>377</td>\n",
       "      <td>1.0</td>\n",
       "      <td>Children</td>\n",
       "      <td>878887116</td>\n",
       "    </tr>\n",
       "    <tr>\n",
       "      <th>3</th>\n",
       "      <td>244</td>\n",
       "      <td>28.0</td>\n",
       "      <td>M</td>\n",
       "      <td>technician</td>\n",
       "      <td>51</td>\n",
       "      <td>2.0</td>\n",
       "      <td>Romance</td>\n",
       "      <td>880606923</td>\n",
       "    </tr>\n",
       "    <tr>\n",
       "      <th>5</th>\n",
       "      <td>298</td>\n",
       "      <td>44.0</td>\n",
       "      <td>M</td>\n",
       "      <td>executive</td>\n",
       "      <td>474</td>\n",
       "      <td>4.0</td>\n",
       "      <td>War</td>\n",
       "      <td>884182806</td>\n",
       "    </tr>\n",
       "    <tr>\n",
       "      <th>7</th>\n",
       "      <td>253</td>\n",
       "      <td>26.0</td>\n",
       "      <td>F</td>\n",
       "      <td>librarian</td>\n",
       "      <td>465</td>\n",
       "      <td>5.0</td>\n",
       "      <td>Adventure</td>\n",
       "      <td>891628467</td>\n",
       "    </tr>\n",
       "  </tbody>\n",
       "</table>\n",
       "</div>"
      ],
      "text/plain": [
       "   userId   age gender  occupation  movieId  rating      genre  timestamp\n",
       "0     196  49.0      M      writer      242     3.0     Comedy  881250949\n",
       "2      22  25.0      M      writer      377     1.0   Children  878887116\n",
       "3     244  28.0      M  technician       51     2.0    Romance  880606923\n",
       "5     298  44.0      M   executive      474     4.0        War  884182806\n",
       "7     253  26.0      F   librarian      465     5.0  Adventure  891628467"
      ]
     },
     "execution_count": 44,
     "metadata": {},
     "output_type": "execute_result"
    }
   ],
   "source": [
    "movie_grouped = MovieLens_removed.groupby('movieId')\n",
    "MovieLens_removed3 =  movie_grouped.filter(lambda x: x['rating'].count() >= 10 )\n",
    "MovieLens_removed3.head()"
   ]
  },
  {
   "cell_type": "code",
   "execution_count": 45,
   "id": "1f1fcd2e",
   "metadata": {
    "scrolled": false
   },
   "outputs": [
    {
     "name": "stdout",
     "output_type": "stream",
     "text": [
      " length after deduction: 96873\n",
      " Number of rows removed: 2056\n"
     ]
    }
   ],
   "source": [
    "print(' length after deduction:', len(MovieLens_removed3))\n",
    "print(' Number of rows removed:', len(MovieLens_removed2) - len(MovieLens_removed3) )"
   ]
  },
  {
   "cell_type": "markdown",
   "id": "3f5a0ad5",
   "metadata": {},
   "source": [
    "---"
   ]
  },
  {
   "cell_type": "code",
   "execution_count": 46,
   "id": "89fa82b8",
   "metadata": {},
   "outputs": [
    {
     "name": "stdout",
     "output_type": "stream",
     "text": [
      "Number of rows removed after all deductions: 2149\n"
     ]
    }
   ],
   "source": [
    "print('Number of rows removed after all deductions:',  len(MovieLens_clean)-len(MovieLens_removed3))"
   ]
  },
  {
   "cell_type": "markdown",
   "id": "4b670a5c",
   "metadata": {},
   "source": [
    "---"
   ]
  },
  {
   "cell_type": "code",
   "execution_count": 47,
   "id": "71064448",
   "metadata": {},
   "outputs": [],
   "source": [
    "# export the processed data as csv file\n",
    "MovieLens_removed3.to_csv('files/movielens_data_clean.csv', index=False)"
   ]
  },
  {
   "cell_type": "code",
   "execution_count": null,
   "id": "afd78373",
   "metadata": {},
   "outputs": [],
   "source": []
  }
 ],
 "metadata": {
  "kernelspec": {
   "display_name": "Python 3 (ipykernel)",
   "language": "python",
   "name": "python3"
  },
  "language_info": {
   "codemirror_mode": {
    "name": "ipython",
    "version": 3
   },
   "file_extension": ".py",
   "mimetype": "text/x-python",
   "name": "python",
   "nbconvert_exporter": "python",
   "pygments_lexer": "ipython3",
   "version": "3.9.7"
  }
 },
 "nbformat": 4,
 "nbformat_minor": 5
}
