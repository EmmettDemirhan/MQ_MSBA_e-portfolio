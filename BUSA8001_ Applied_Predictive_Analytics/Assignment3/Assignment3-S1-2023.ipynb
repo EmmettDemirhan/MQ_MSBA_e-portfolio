{
 "cells": [
  {
   "cell_type": "markdown",
   "metadata": {},
   "source": [
    "# Programming Task 3  \n",
    "\n",
    "**Assignment Points**: 100    \n",
    "**Due Date**: Friday of Week 11 at 11:59pm   \n",
    "\n",
    "\n"
   ]
  },
  {
   "cell_type": "markdown",
   "metadata": {},
   "source": [
    "---\n",
    "\n",
    "## About This Assignment\n",
    "Customer segmentation is the process of dividing customers into groups based on common characteristics so companies can market to each group effectively and appropriately. It can be employed by all types of business, regardless of size, industry and whether they sell online or in person. For example, a small business selling guitars might decide to promote lower-priced products to younger guitarists and higher-priced premium guitars to older musicians based on segment knowledge which tells them that younger musicians have less disposable income than their older counterparts.  \n",
    "\n",
    "<hr style=\"width:35%;margin-left:0;\"> \n",
    "\n",
    "## Task\n",
    "You are employed by a large supermarket chain to perform customer segmentation analysis. In particular, you are provided with a dataset on 2000 customers that has been collected through loyalty cards that customers use at checkout, and includes variables such as customer age, gender, annual income, etc. \n",
    "\n",
    "Your task is to analyse the data in Python using relevant techniques covered in lectures, and identify customer segments given the dataset. You will then collect your results in tables and diagrams which you will include in a report of **up to 1000 words** (not counting tables and figures). Make sure your report is informative, intuitive, and easy to understand by the management, who may not have technical expertise. \n",
    "\n",
    "Your report should include the following headings:\n",
    "\n",
    "1. **Introduction** (10 marks)\n",
    "    - Motivate the problem and what you are trying to accomplish in this report\n",
    "2. **Exploratory Data Analysis** (20 marks)\n",
    "    - Perform basic exploratory data analysis, present and comment on summary statistics, etc.\n",
    "3. **Customer Segmentation** (40 marks)\n",
    "    - Apply clustering analysis we covered in lectures\n",
    "    - Choose an optimal number of customer segments/clusters using methods discussed in lectures\n",
    "    - Interpret identified clusters in terms customer profiles, e.g. there may be a cluster of university educated females living in a mid-sized city\n",
    "    - Use two different clustering techniques\n",
    "    - How do the clusters identified by the two techniques compare?\n",
    "4. **Recommendations** (20 marks)\n",
    "    - Provide some suggestions regarding marketing techniques that may be developed for different clusters of customers \n",
    "5. **Conclusion** (10 marks)\n",
    "    - A brief summary of what you have done in the report\n",
    "\n",
    "<hr style=\"width:35%;margin-left:0;\"> \n",
    "\n",
    "## Submission   \n",
    "You will need to submit two files:   \n",
    "\n",
    "1. One PDF document containing your report to be submitted to the management. The report should be self-contained and include all relevant tables/graphs that you generated using the submitted Jupyter notebook. I recommend writing the report in Word, and then saving it as a PDF file which will be submitted.\n",
    "2. Your Jupyter Notebook containing Python code used in your analysis. Make sure your code is clean and easy to understand by the markers.  "
   ]
  },
  {
   "cell_type": "code",
   "execution_count": null,
   "metadata": {},
   "outputs": [],
   "source": []
  }
 ],
 "metadata": {
  "kernelspec": {
   "display_name": "Python 3 (ipykernel)",
   "language": "python",
   "name": "python3"
  },
  "language_info": {
   "codemirror_mode": {
    "name": "ipython",
    "version": 3
   },
   "file_extension": ".py",
   "mimetype": "text/x-python",
   "name": "python",
   "nbconvert_exporter": "python",
   "pygments_lexer": "ipython3",
   "version": "3.11.2"
  }
 },
 "nbformat": 4,
 "nbformat_minor": 4
}
