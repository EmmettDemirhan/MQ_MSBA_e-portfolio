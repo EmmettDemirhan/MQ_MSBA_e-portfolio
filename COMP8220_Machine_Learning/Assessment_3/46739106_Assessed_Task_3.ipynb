{
  "cells": [
    {
      "cell_type": "markdown",
      "metadata": {
        "id": "GIgSdSfM2wlK"
      },
      "source": [
        "\n",
        "# Assessed Task 3: Specification\n",
        "## Basic text classification\n",
        "\n",
        "*  Student name: Umut Demirhan\n",
        "*  Student ID: 46739106\n",
        "*  Unit code and name: COMP8220 Machine Learning\n",
        "\n"
      ]
    },
    {
      "cell_type": "markdown",
      "metadata": {
        "id": "Eg62Pmz3o83v"
      },
      "source": [
        "In this assessed task,  text classification with 7 sub-tasks is demonstrated"
      ]
    },
    {
      "cell_type": "markdown",
      "metadata": {
        "id": "vlc4TZqsn0f6"
      },
      "source": [
        "## Task 0 \n"
      ]
    },
    {
      "cell_type": "code",
      "execution_count": 1,
      "metadata": {
        "id": "8RZOuS9LWQvv"
      },
      "outputs": [],
      "source": [
        "import matplotlib.pyplot as plt\n",
        "import os\n",
        "import re\n",
        "import shutil\n",
        "import string\n",
        "import tensorflow as tf\n",
        "\n",
        "from tensorflow.keras import layers\n",
        "from tensorflow.keras import losses\n"
      ]
    },
    {
      "cell_type": "code",
      "execution_count": 2,
      "metadata": {
        "colab": {
          "base_uri": "https://localhost:8080/"
        },
        "id": "6-tTFS04dChr",
        "outputId": "7349f4d6-ff72-4500-ff56-dcf28413f992"
      },
      "outputs": [
        {
          "output_type": "stream",
          "name": "stdout",
          "text": [
            "2.9.2\n"
          ]
        }
      ],
      "source": [
        "print(tf.__version__)"
      ]
    },
    {
      "cell_type": "markdown",
      "metadata": {
        "id": "NBTI1bi8qdFV"
      },
      "source": [
        "## Sentiment analysis\n",
        "\n",
        "\n"
      ]
    },
    {
      "cell_type": "markdown",
      "metadata": {
        "id": "iAsKG535pHep"
      },
      "source": [
        "### Download and explore the IMDB dataset\n"
      ]
    },
    {
      "cell_type": "code",
      "execution_count": 3,
      "metadata": {
        "colab": {
          "base_uri": "https://localhost:8080/"
        },
        "id": "k7ZYnuajVlFN",
        "outputId": "76d60da8-9307-4278-905d-6c2676953310"
      },
      "outputs": [
        {
          "output_type": "stream",
          "name": "stdout",
          "text": [
            "Downloading data from https://ai.stanford.edu/~amaas/data/sentiment/aclImdb_v1.tar.gz\n",
            "84125825/84125825 [==============================] - 3s 0us/step\n"
          ]
        }
      ],
      "source": [
        "url = \"https://ai.stanford.edu/~amaas/data/sentiment/aclImdb_v1.tar.gz\"\n",
        "# drive_dir = \"/content/drive/MyDrive/FL/text_classify\"\n",
        "dataset = tf.keras.utils.get_file(\"aclImdb_v1\", url,\n",
        "                                    untar=True, cache_dir='.',\n",
        "                                    cache_subdir='')\n",
        "\n",
        "dataset_dir = os.path.join(os.path.dirname(dataset), 'aclImdb')"
      ]
    },
    {
      "cell_type": "code",
      "execution_count": 4,
      "metadata": {
        "colab": {
          "base_uri": "https://localhost:8080/"
        },
        "id": "7ASND15oXpF1",
        "outputId": "06b3096a-9dbb-47fa-c245-af45c377516b"
      },
      "outputs": [
        {
          "output_type": "execute_result",
          "data": {
            "text/plain": [
              "['labeledBow.feat',\n",
              " 'urls_pos.txt',\n",
              " 'urls_neg.txt',\n",
              " 'neg',\n",
              " 'pos',\n",
              " 'unsupBow.feat',\n",
              " 'urls_unsup.txt',\n",
              " 'unsup']"
            ]
          },
          "metadata": {},
          "execution_count": 4
        }
      ],
      "source": [
        "train_dir = os.path.join(dataset_dir, 'train')\n",
        "os.listdir(train_dir)"
      ]
    },
    {
      "cell_type": "code",
      "execution_count": 5,
      "metadata": {
        "colab": {
          "base_uri": "https://localhost:8080/"
        },
        "id": "R7g8hFvzWLIZ",
        "outputId": "e6238561-6b39-4ac6-c10b-b89b5df6331a"
      },
      "outputs": [
        {
          "output_type": "stream",
          "name": "stdout",
          "text": [
            "Rachel Griffiths writes and directs this award winning short film. A heartwarming story about coping with grief and cherishing the memory of those we've loved and lost. Although, only 15 minutes long, Griffiths manages to capture so much emotion and truth onto film in the short space of time. Bud Tingwell gives a touching performance as Will, a widower struggling to cope with his wife's death. Will is confronted by the harsh reality of loneliness and helplessness as he proceeds to take care of Ruth's pet cow, Tulip. The film displays the grief and responsibility one feels for those they have loved and lost. Good cinematography, great direction, and superbly acted. It will bring tears to all those who have lost a loved one, and survived.\n"
          ]
        }
      ],
      "source": [
        "sample_file = os.path.join(train_dir, 'pos/1181_9.txt')\n",
        "with open(sample_file) as f:\n",
        "  print(f.read())"
      ]
    },
    {
      "cell_type": "markdown",
      "metadata": {
        "id": "Mk20TEm6ZRFP"
      },
      "source": [
        "### Load the dataset"
      ]
    },
    {
      "cell_type": "code",
      "execution_count": 6,
      "metadata": {
        "id": "VhejsClzaWfl"
      },
      "outputs": [],
      "source": [
        "remove_dir = os.path.join(train_dir, 'unsup')\n",
        "shutil.rmtree(remove_dir)"
      ]
    },
    {
      "cell_type": "code",
      "execution_count": 7,
      "metadata": {
        "colab": {
          "base_uri": "https://localhost:8080/"
        },
        "id": "nOrK-MTYaw3C",
        "outputId": "4b1fb772-977d-4d47-8799-18b5747ad807"
      },
      "outputs": [
        {
          "output_type": "stream",
          "name": "stdout",
          "text": [
            "Found 25000 files belonging to 2 classes.\n",
            "Using 20000 files for training.\n"
          ]
        }
      ],
      "source": [
        "batch_size = 32\n",
        "seed = 42\n",
        "\n",
        "raw_train_ds = tf.keras.utils.text_dataset_from_directory(\n",
        "    'aclImdb/train', \n",
        "    batch_size=batch_size, \n",
        "    validation_split=0.2, \n",
        "    subset='training',\n",
        "    seed=seed)"
      ]
    },
    {
      "cell_type": "code",
      "execution_count": 8,
      "metadata": {
        "colab": {
          "base_uri": "https://localhost:8080/"
        },
        "id": "51wNaPPApk1K",
        "outputId": "911d1b03-d1ab-498f-957b-c57ec8a981c5"
      },
      "outputs": [
        {
          "output_type": "stream",
          "name": "stdout",
          "text": [
            "Review b'\"Pandemonium\" is a horror movie spoof that comes off more stupid than funny. Believe me when I tell you, I love comedies. Especially comedy spoofs. \"Airplane\", \"The Naked Gun\" trilogy, \"Blazing Saddles\", \"High Anxiety\", and \"Spaceballs\" are some of my favorite comedies that spoof a particular genre. \"Pandemonium\" is not up there with those films. Most of the scenes in this movie had me sitting there in stunned silence because the movie wasn\\'t all that funny. There are a few laughs in the film, but when you watch a comedy, you expect to laugh a lot more than a few times and that\\'s all this film has going for it. Geez, \"Scream\" had more laughs than this film and that was more of a horror film. How bizarre is that?<br /><br />*1/2 (out of four)'\n",
            "Label 0\n",
            "Review b\"David Mamet is a very interesting and a very un-equal director. His first movie 'House of Games' was the one I liked best, and it set a series of films with characters whose perspective of life changes as they get into complicated situations, and so does the perspective of the viewer.<br /><br />So is 'Homicide' which from the title tries to set the mind of the viewer to the usual crime drama. The principal characters are two cops, one Jewish and one Irish who deal with a racially charged area. The murder of an old Jewish shop owner who proves to be an ancient veteran of the Israeli Independence war triggers the Jewish identity in the mind and heart of the Jewish detective.<br /><br />This is were the flaws of the film are the more obvious. The process of awakening is theatrical and hard to believe, the group of Jewish militants is operatic, and the way the detective eventually walks to the final violent confrontation is pathetic. The end of the film itself is Mamet-like smart, but disappoints from a human emotional perspective.<br /><br />Joe Mantegna and William Macy give strong performances, but the flaws of the story are too evident to be easily compensated.\"\n",
            "Label 0\n",
            "Review b'Great documentary about the lives of NY firefighters during the worst terrorist attack of all time.. That reason alone is why this should be a must see collectors item.. What shocked me was not only the attacks, but the\"High Fat Diet\" and physical appearance of some of these firefighters. I think a lot of Doctors would agree with me that,in the physical shape they were in, some of these firefighters would NOT of made it to the 79th floor carrying over 60 lbs of gear. Having said that i now have a greater respect for firefighters and i realize becoming a firefighter is a life altering job. The French have a history of making great documentary\\'s and that is what this is, a Great Documentary.....'\n",
            "Label 1\n"
          ]
        }
      ],
      "source": [
        "for text_batch, label_batch in raw_train_ds.take(1):\n",
        "  for i in range(3):\n",
        "    print(\"Review\", text_batch.numpy()[i])\n",
        "    print(\"Label\", label_batch.numpy()[i])"
      ]
    },
    {
      "cell_type": "code",
      "execution_count": 9,
      "metadata": {
        "colab": {
          "base_uri": "https://localhost:8080/"
        },
        "id": "JsMwwhOoqjKF",
        "outputId": "d88320c8-8432-44b1-f4f3-67a1446e7113"
      },
      "outputs": [
        {
          "output_type": "stream",
          "name": "stdout",
          "text": [
            "Found 25000 files belonging to 2 classes.\n",
            "Using 5000 files for validation.\n"
          ]
        }
      ],
      "source": [
        "raw_val_ds = tf.keras.utils.text_dataset_from_directory(\n",
        "    'aclImdb/train', \n",
        "    batch_size=batch_size, \n",
        "    validation_split=0.2, \n",
        "    subset='validation', \n",
        "    seed=seed)"
      ]
    },
    {
      "cell_type": "code",
      "execution_count": 10,
      "metadata": {
        "colab": {
          "base_uri": "https://localhost:8080/"
        },
        "id": "rdSr0Nt3q_ns",
        "outputId": "5568e0f7-8cd9-4a5d-a710-82a0e01092a8"
      },
      "outputs": [
        {
          "output_type": "stream",
          "name": "stdout",
          "text": [
            "Found 25000 files belonging to 2 classes.\n"
          ]
        }
      ],
      "source": [
        "raw_test_ds = tf.keras.utils.text_dataset_from_directory(\n",
        "    'aclImdb/test', \n",
        "    batch_size=batch_size)"
      ]
    },
    {
      "cell_type": "markdown",
      "metadata": {
        "id": "qJmTiO0IYAjm"
      },
      "source": [
        "### Prepare the dataset for training\n"
      ]
    },
    {
      "cell_type": "code",
      "execution_count": 11,
      "metadata": {
        "id": "SDRI_s_tX1Hk"
      },
      "outputs": [],
      "source": [
        "def custom_standardization(input_data):\n",
        "  lowercase = tf.strings.lower(input_data)\n",
        "  stripped_html = tf.strings.regex_replace(lowercase, '<br />', ' ')\n",
        "  return tf.strings.regex_replace(stripped_html,\n",
        "                                  '[%s]' % re.escape(string.punctuation),\n",
        "                                  '')"
      ]
    },
    {
      "cell_type": "code",
      "execution_count": 12,
      "metadata": {
        "id": "-c76RvSzsMnX"
      },
      "outputs": [],
      "source": [
        "max_features = 10000\n",
        "sequence_length = 250\n",
        "\n",
        "vectorize_layer = layers.TextVectorization(\n",
        "    standardize=custom_standardization,\n",
        "    max_tokens=max_features,\n",
        "    output_mode='int',\n",
        "    output_sequence_length=sequence_length)"
      ]
    },
    {
      "cell_type": "code",
      "execution_count": 13,
      "metadata": {
        "id": "GH4_2ZGJsa_X"
      },
      "outputs": [],
      "source": [
        "# Make a text-only dataset (without labels), then call adapt\n",
        "train_text = raw_train_ds.map(lambda x, y: x)\n",
        "vectorize_layer.adapt(train_text)"
      ]
    },
    {
      "cell_type": "code",
      "execution_count": 14,
      "metadata": {
        "id": "SCIg_T50wOCU"
      },
      "outputs": [],
      "source": [
        "def vectorize_text(text, label):\n",
        "  text = tf.expand_dims(text, -1)\n",
        "  return vectorize_layer(text), label"
      ]
    },
    {
      "cell_type": "code",
      "execution_count": 15,
      "metadata": {
        "colab": {
          "base_uri": "https://localhost:8080/"
        },
        "id": "XULcm6B3xQIO",
        "outputId": "db10831d-26fe-4c13-ab3e-6eee60b77e42"
      },
      "outputs": [
        {
          "output_type": "stream",
          "name": "stdout",
          "text": [
            "Review tf.Tensor(b'Great movie - especially the music - Etta James - \"At Last\". This speaks volumes when you have finally found that special someone.', shape=(), dtype=string)\n",
            "Label neg\n",
            "Vectorized review (<tf.Tensor: shape=(1, 250), dtype=int64, numpy=\n",
            "array([[  86,   17,  260,    2,  222,    1,  571,   31,  229,   11, 2418,\n",
            "           1,   51,   22,   25,  404,  251,   12,  306,  282,    0,    0,\n",
            "           0,    0,    0,    0,    0,    0,    0,    0,    0,    0,    0,\n",
            "           0,    0,    0,    0,    0,    0,    0,    0,    0,    0,    0,\n",
            "           0,    0,    0,    0,    0,    0,    0,    0,    0,    0,    0,\n",
            "           0,    0,    0,    0,    0,    0,    0,    0,    0,    0,    0,\n",
            "           0,    0,    0,    0,    0,    0,    0,    0,    0,    0,    0,\n",
            "           0,    0,    0,    0,    0,    0,    0,    0,    0,    0,    0,\n",
            "           0,    0,    0,    0,    0,    0,    0,    0,    0,    0,    0,\n",
            "           0,    0,    0,    0,    0,    0,    0,    0,    0,    0,    0,\n",
            "           0,    0,    0,    0,    0,    0,    0,    0,    0,    0,    0,\n",
            "           0,    0,    0,    0,    0,    0,    0,    0,    0,    0,    0,\n",
            "           0,    0,    0,    0,    0,    0,    0,    0,    0,    0,    0,\n",
            "           0,    0,    0,    0,    0,    0,    0,    0,    0,    0,    0,\n",
            "           0,    0,    0,    0,    0,    0,    0,    0,    0,    0,    0,\n",
            "           0,    0,    0,    0,    0,    0,    0,    0,    0,    0,    0,\n",
            "           0,    0,    0,    0,    0,    0,    0,    0,    0,    0,    0,\n",
            "           0,    0,    0,    0,    0,    0,    0,    0,    0,    0,    0,\n",
            "           0,    0,    0,    0,    0,    0,    0,    0,    0,    0,    0,\n",
            "           0,    0,    0,    0,    0,    0,    0,    0,    0,    0,    0,\n",
            "           0,    0,    0,    0,    0,    0,    0,    0,    0,    0,    0,\n",
            "           0,    0,    0,    0,    0,    0,    0,    0,    0,    0,    0,\n",
            "           0,    0,    0,    0,    0,    0,    0,    0]])>, <tf.Tensor: shape=(), dtype=int32, numpy=0>)\n"
          ]
        }
      ],
      "source": [
        "# retrieve a batch (of 32 reviews and labels) from the dataset\n",
        "text_batch, label_batch = next(iter(raw_train_ds))\n",
        "first_review, first_label = text_batch[0], label_batch[0]\n",
        "print(\"Review\", first_review)\n",
        "print(\"Label\", raw_train_ds.class_names[first_label])\n",
        "print(\"Vectorized review\", vectorize_text(first_review, first_label))"
      ]
    },
    {
      "cell_type": "code",
      "execution_count": 16,
      "metadata": {
        "colab": {
          "base_uri": "https://localhost:8080/"
        },
        "id": "kRq9hTQzhVhW",
        "outputId": "1156b424-7c4c-42bc-ebbb-1f0ecf065086"
      },
      "outputs": [
        {
          "output_type": "stream",
          "name": "stdout",
          "text": [
            "1287 --->  silent\n",
            " 313 --->  night\n",
            "Vocabulary size: 10000\n"
          ]
        }
      ],
      "source": [
        "print(\"1287 ---> \",vectorize_layer.get_vocabulary()[1287])\n",
        "print(\" 313 ---> \",vectorize_layer.get_vocabulary()[313])\n",
        "print('Vocabulary size: {}'.format(len(vectorize_layer.get_vocabulary())))"
      ]
    },
    {
      "cell_type": "code",
      "execution_count": 17,
      "metadata": {
        "id": "2zhmpeViI1iG"
      },
      "outputs": [],
      "source": [
        "train_ds = raw_train_ds.map(vectorize_text)\n",
        "val_ds = raw_val_ds.map(vectorize_text)\n",
        "test_ds = raw_test_ds.map(vectorize_text)"
      ]
    },
    {
      "cell_type": "markdown",
      "metadata": {
        "id": "YsVQyPMizjuO"
      },
      "source": [
        "### Configure the dataset for performance"
      ]
    },
    {
      "cell_type": "code",
      "execution_count": 18,
      "metadata": {
        "colab": {
          "base_uri": "https://localhost:8080/"
        },
        "id": "RQb0NQ3h1O8t",
        "outputId": "e8d338a0-cea1-4167-de7c-bb938761156f"
      },
      "outputs": [
        {
          "output_type": "execute_result",
          "data": {
            "text/plain": [
              "<MapDataset element_spec=(TensorSpec(shape=(None, 250), dtype=tf.int64, name=None), TensorSpec(shape=(None,), dtype=tf.int32, name=None))>"
            ]
          },
          "metadata": {},
          "execution_count": 18
        }
      ],
      "source": [
        "train_ds"
      ]
    },
    {
      "cell_type": "code",
      "execution_count": 19,
      "metadata": {
        "id": "wMcs_H7izm5m"
      },
      "outputs": [],
      "source": [
        "AUTOTUNE = tf.data.AUTOTUNE\n",
        "\n",
        "train_ds = train_ds.cache().prefetch(buffer_size=AUTOTUNE)\n",
        "val_ds = val_ds.cache().prefetch(buffer_size=AUTOTUNE)\n",
        "test_ds = test_ds.cache().prefetch(buffer_size=AUTOTUNE)"
      ]
    },
    {
      "cell_type": "markdown",
      "metadata": {
        "id": "LLC02j2g-llC"
      },
      "source": [
        "### Create the model\n",
        "\n",
        "It's time to create your neural network:"
      ]
    },
    {
      "cell_type": "code",
      "execution_count": 20,
      "metadata": {
        "id": "dkQP6in8yUBR"
      },
      "outputs": [],
      "source": [
        "embedding_dim = 16"
      ]
    },
    {
      "cell_type": "code",
      "execution_count": 21,
      "metadata": {
        "colab": {
          "base_uri": "https://localhost:8080/"
        },
        "id": "xpKOoWgu-llD",
        "outputId": "b5c5d70a-6b16-450a-b683-db54c42f00a2"
      },
      "outputs": [
        {
          "output_type": "stream",
          "name": "stdout",
          "text": [
            "Model: \"sequential\"\n",
            "_________________________________________________________________\n",
            " Layer (type)                Output Shape              Param #   \n",
            "=================================================================\n",
            " embedding (Embedding)       (None, None, 16)          160016    \n",
            "                                                                 \n",
            " dropout (Dropout)           (None, None, 16)          0         \n",
            "                                                                 \n",
            " global_average_pooling1d (G  (None, 16)               0         \n",
            " lobalAveragePooling1D)                                          \n",
            "                                                                 \n",
            " dropout_1 (Dropout)         (None, 16)                0         \n",
            "                                                                 \n",
            " dense (Dense)               (None, 1)                 17        \n",
            "                                                                 \n",
            "=================================================================\n",
            "Total params: 160,033\n",
            "Trainable params: 160,033\n",
            "Non-trainable params: 0\n",
            "_________________________________________________________________\n"
          ]
        }
      ],
      "source": [
        "OrigNN = tf.keras.Sequential([\n",
        "  layers.Embedding(max_features + 1, embedding_dim),\n",
        "  layers.Dropout(0.2),\n",
        "  layers.GlobalAveragePooling1D(),\n",
        "  layers.Dropout(0.2),\n",
        "  layers.Dense(1)])\n",
        "\n",
        "OrigNN.summary()"
      ]
    },
    {
      "cell_type": "markdown",
      "metadata": {
        "id": "L4EqVWg4-llM"
      },
      "source": [
        "### Loss function and optimizer\n",
        "\n",
        "Now, configure the model to use an optimizer and a loss function:"
      ]
    },
    {
      "cell_type": "code",
      "execution_count": 22,
      "metadata": {
        "id": "Mr0GP-cQ-llN"
      },
      "outputs": [],
      "source": [
        "OrigNN.compile(loss=losses.BinaryCrossentropy(from_logits=True),\n",
        "              optimizer='adam',\n",
        "              metrics=tf.metrics.BinaryAccuracy(threshold=0.0))"
      ]
    },
    {
      "cell_type": "markdown",
      "metadata": {
        "id": "35jv_fzP-llU"
      },
      "source": [
        "### Train the model\n"
      ]
    },
    {
      "cell_type": "code",
      "execution_count": 23,
      "metadata": {
        "colab": {
          "base_uri": "https://localhost:8080/"
        },
        "id": "tXSGrjWZ-llW",
        "outputId": "7631517e-0844-4238-8056-e7d360726bcd"
      },
      "outputs": [
        {
          "output_type": "stream",
          "name": "stdout",
          "text": [
            "Epoch 1/10\n",
            "625/625 [==============================] - 8s 6ms/step - loss: 0.6647 - binary_accuracy: 0.6941 - val_loss: 0.6163 - val_binary_accuracy: 0.7714\n",
            "Epoch 2/10\n",
            "625/625 [==============================] - 2s 3ms/step - loss: 0.5498 - binary_accuracy: 0.8001 - val_loss: 0.4992 - val_binary_accuracy: 0.8218\n",
            "Epoch 3/10\n",
            "625/625 [==============================] - 2s 3ms/step - loss: 0.4457 - binary_accuracy: 0.8446 - val_loss: 0.4208 - val_binary_accuracy: 0.8470\n",
            "Epoch 4/10\n",
            "625/625 [==============================] - 2s 3ms/step - loss: 0.3788 - binary_accuracy: 0.8664 - val_loss: 0.3741 - val_binary_accuracy: 0.8608\n",
            "Epoch 5/10\n",
            "625/625 [==============================] - 2s 3ms/step - loss: 0.3355 - binary_accuracy: 0.8795 - val_loss: 0.3451 - val_binary_accuracy: 0.8678\n",
            "Epoch 6/10\n",
            "625/625 [==============================] - 2s 3ms/step - loss: 0.3054 - binary_accuracy: 0.8870 - val_loss: 0.3259 - val_binary_accuracy: 0.8722\n",
            "Epoch 7/10\n",
            "625/625 [==============================] - 2s 3ms/step - loss: 0.2812 - binary_accuracy: 0.8984 - val_loss: 0.3127 - val_binary_accuracy: 0.8736\n",
            "Epoch 8/10\n",
            "625/625 [==============================] - 2s 3ms/step - loss: 0.2618 - binary_accuracy: 0.9045 - val_loss: 0.3036 - val_binary_accuracy: 0.8756\n",
            "Epoch 9/10\n",
            "625/625 [==============================] - 2s 3ms/step - loss: 0.2455 - binary_accuracy: 0.9115 - val_loss: 0.2966 - val_binary_accuracy: 0.8776\n",
            "Epoch 10/10\n",
            "625/625 [==============================] - 2s 3ms/step - loss: 0.2314 - binary_accuracy: 0.9155 - val_loss: 0.2918 - val_binary_accuracy: 0.8792\n"
          ]
        }
      ],
      "source": [
        "epochs = 10\n",
        "history = OrigNN.fit(\n",
        "    train_ds,\n",
        "    validation_data=val_ds,\n",
        "    epochs=epochs)"
      ]
    },
    {
      "cell_type": "markdown",
      "metadata": {
        "id": "9EEGuDVuzb5r"
      },
      "source": [
        "### Evaluate the model\n",
        "\n",
        "Let's see how the model performs. Two values will be returned. Loss (a number which represents our error, lower values are better), and accuracy."
      ]
    },
    {
      "cell_type": "code",
      "execution_count": 24,
      "metadata": {
        "colab": {
          "base_uri": "https://localhost:8080/"
        },
        "id": "zOMKywn4zReN",
        "outputId": "387b6e5e-22df-47fd-a52b-51f7593ff9ef"
      },
      "outputs": [
        {
          "output_type": "stream",
          "name": "stdout",
          "text": [
            "782/782 [==============================] - 3s 4ms/step - loss: 0.3102 - binary_accuracy: 0.8737\n",
            "Loss:  0.31015631556510925\n",
            "Accuracy:  0.8736799955368042\n"
          ]
        }
      ],
      "source": [
        "loss, accuracy = OrigNN.evaluate(test_ds)\n",
        "\n",
        "print(\"Loss: \", loss)\n",
        "print(\"Accuracy: \", accuracy)"
      ]
    },
    {
      "cell_type": "markdown",
      "metadata": {
        "id": "ldbQqCw2Xc1W"
      },
      "source": [
        "### Create a plot of accuracy and loss over time\n"
      ]
    },
    {
      "cell_type": "code",
      "execution_count": 25,
      "metadata": {
        "colab": {
          "base_uri": "https://localhost:8080/"
        },
        "id": "-YcvZsdvWfDf",
        "outputId": "b4f4eaa4-d888-4397-f886-6bf4dfa25ea8"
      },
      "outputs": [
        {
          "output_type": "execute_result",
          "data": {
            "text/plain": [
              "dict_keys(['loss', 'binary_accuracy', 'val_loss', 'val_binary_accuracy'])"
            ]
          },
          "metadata": {},
          "execution_count": 25
        }
      ],
      "source": [
        "history_dict = history.history\n",
        "history_dict.keys()"
      ]
    },
    {
      "cell_type": "code",
      "execution_count": 26,
      "metadata": {
        "colab": {
          "base_uri": "https://localhost:8080/",
          "height": 295
        },
        "id": "2SEMeQ5YXs8z",
        "outputId": "a95c6f33-19e1-4397-c407-2d4462bdcd9d"
      },
      "outputs": [
        {
          "output_type": "display_data",
          "data": {
            "text/plain": [
              "<Figure size 432x288 with 1 Axes>"
            ],
            "image/png": "[encoded data removed]"
          },
          "metadata": {
            "needs_background": "light"
          }
        }
      ],
      "source": [
        "acc = history_dict['binary_accuracy']\n",
        "val_acc = history_dict['val_binary_accuracy']\n",
        "loss = history_dict['loss']\n",
        "val_loss = history_dict['val_loss']\n",
        "\n",
        "epochs = range(1, len(acc) + 1)\n",
        "\n",
        "# \"bo\" is for \"blue dot\"\n",
        "plt.plot(epochs, loss, 'bo', label='Training loss')\n",
        "# b is for \"solid blue line\"\n",
        "plt.plot(epochs, val_loss, 'b', label='Validation loss')\n",
        "plt.title('Training and validation loss')\n",
        "plt.xlabel('Epochs')\n",
        "plt.ylabel('Loss')\n",
        "plt.legend()\n",
        "\n",
        "plt.show()"
      ]
    },
    {
      "cell_type": "code",
      "execution_count": 27,
      "metadata": {
        "colab": {
          "base_uri": "https://localhost:8080/",
          "height": 295
        },
        "id": "Z3PJemLPXwz_",
        "outputId": "c24aca3d-13b7-4eea-de7b-6a51d14dd387"
      },
      "outputs": [
        {
          "output_type": "display_data",
          "data": {
            "text/plain": [
              "<Figure size 432x288 with 1 Axes>"
            ],
            "image/png": "[encoded data removed]"
          },
          "metadata": {
            "needs_background": "light"
          }
        }
      ],
      "source": [
        "plt.plot(epochs, acc, 'bo', label='Training acc')\n",
        "plt.plot(epochs, val_acc, 'b', label='Validation acc')\n",
        "plt.title('Training and validation accuracy')\n",
        "plt.xlabel('Epochs')\n",
        "plt.ylabel('Accuracy')\n",
        "plt.legend(loc='lower right')\n",
        "\n",
        "plt.show()"
      ]
    },
    {
      "cell_type": "markdown",
      "metadata": {
        "id": "-to23J3Vy5d3"
      },
      "source": [
        "## Export the model"
      ]
    },
    {
      "cell_type": "code",
      "execution_count": 28,
      "metadata": {
        "colab": {
          "base_uri": "https://localhost:8080/"
        },
        "id": "FWXsMvryuZuq",
        "outputId": "e02175f9-ed27-4d28-ed5f-ed55bd12be52"
      },
      "outputs": [
        {
          "output_type": "stream",
          "name": "stdout",
          "text": [
            "782/782 [==============================] - 4s 5ms/step - loss: 0.3102 - accuracy: 0.8737\n",
            "0.8736799955368042\n"
          ]
        }
      ],
      "source": [
        "export_OrigNN = tf.keras.Sequential([\n",
        "  vectorize_layer,\n",
        "  OrigNN,\n",
        "  layers.Activation('sigmoid')\n",
        "])\n",
        "\n",
        "export_OrigNN.compile(\n",
        "    loss=losses.BinaryCrossentropy(from_logits=False), optimizer=\"adam\", metrics=['accuracy']\n",
        ")\n",
        "\n",
        "# Test it with `raw_test_ds`, which yields raw strings\n",
        "loss, accuracy = export_OrigNN.evaluate(raw_test_ds)\n",
        "print(accuracy)"
      ]
    },
    {
      "cell_type": "markdown",
      "metadata": {
        "id": "TwQgoN88LoEF"
      },
      "source": [
        "### Inference on new data\n",
        "\n",
        "To get predictions for new examples, you can simply call `model.predict()`."
      ]
    },
    {
      "cell_type": "code",
      "execution_count": 29,
      "metadata": {
        "colab": {
          "base_uri": "https://localhost:8080/"
        },
        "id": "QW355HH5L49K",
        "outputId": "53deca83-3a46-4281-da49-8ebcec409337"
      },
      "outputs": [
        {
          "output_type": "stream",
          "name": "stdout",
          "text": [
            "1/1 [==============================] - 0s 251ms/step\n"
          ]
        },
        {
          "output_type": "execute_result",
          "data": {
            "text/plain": [
              "array([[0.61546916],\n",
              "       [0.437941  ],\n",
              "       [0.3545477 ]], dtype=float32)"
            ]
          },
          "metadata": {},
          "execution_count": 29
        }
      ],
      "source": [
        "examples = [\n",
        "  \"The movie was great!\",\n",
        "  \"The movie was okay.\",\n",
        "  \"The movie was terrible...\"\n",
        "]\n",
        "\n",
        "export_OrigNN.predict(examples)"
      ]
    },
    {
      "cell_type": "markdown",
      "metadata": {
        "id": "DmzH71mlzqhB"
      },
      "source": [
        "# Task 1 "
      ]
    },
    {
      "cell_type": "markdown",
      "metadata": {
        "id": "M9SEJqwl0q-k"
      },
      "source": [
        "Add a Dense hidden layer to the neural net in an appropriate place with (100 + 20 * N) neurons.  Call this network DenseNNi. Compare the performance of DenseNNi with OrigNN, considering the performance at each epoch, not just the final one."
      ]
    },
    {
      "cell_type": "code",
      "execution_count": 30,
      "metadata": {
        "colab": {
          "base_uri": "https://localhost:8080/"
        },
        "id": "_jVwgYZWk86S",
        "outputId": "b735b53d-6eb0-4e70-e83a-6a04edf596a5"
      },
      "outputs": [
        {
          "output_type": "stream",
          "name": "stdout",
          "text": [
            "Model: \"sequential_2\"\n",
            "_________________________________________________________________\n",
            " Layer (type)                Output Shape              Param #   \n",
            "=================================================================\n",
            " embedding_1 (Embedding)     (None, None, 16)          160016    \n",
            "                                                                 \n",
            " dense_1 (Dense)             (None, None, 220)         3740      \n",
            "                                                                 \n",
            " dropout_2 (Dropout)         (None, None, 220)         0         \n",
            "                                                                 \n",
            " global_average_pooling1d_1   (None, 220)              0         \n",
            " (GlobalAveragePooling1D)                                        \n",
            "                                                                 \n",
            " dropout_3 (Dropout)         (None, 220)               0         \n",
            "                                                                 \n",
            " dense_2 (Dense)             (None, 1)                 221       \n",
            "                                                                 \n",
            "=================================================================\n",
            "Total params: 163,977\n",
            "Trainable params: 163,977\n",
            "Non-trainable params: 0\n",
            "_________________________________________________________________\n"
          ]
        }
      ],
      "source": [
        "DenseNNi = tf.keras.Sequential([\n",
        "  layers.Embedding(max_features + 1, embedding_dim),\n",
        "  layers.Dense(220),\n",
        "  layers.Dropout(0.2),\n",
        "  layers.GlobalAveragePooling1D(),\n",
        "  layers.Dropout(0.2),\n",
        "  layers.Dense(1)])\n",
        "\n",
        "DenseNNi.summary()"
      ]
    },
    {
      "cell_type": "code",
      "execution_count": 31,
      "metadata": {
        "id": "SWeCqjknlbKN"
      },
      "outputs": [],
      "source": [
        "DenseNNi.compile(loss=losses.BinaryCrossentropy(from_logits=True),\n",
        "              optimizer='adam',\n",
        "              metrics=tf.metrics.BinaryAccuracy(threshold=0.0))"
      ]
    },
    {
      "cell_type": "code",
      "execution_count": 32,
      "metadata": {
        "colab": {
          "base_uri": "https://localhost:8080/"
        },
        "id": "0aP3MEt0lgf8",
        "outputId": "7099a2af-1ea6-4451-d572-f96e74da2fb9"
      },
      "outputs": [
        {
          "output_type": "stream",
          "name": "stdout",
          "text": [
            "Epoch 1/10\n",
            "625/625 [==============================] - 3s 4ms/step - loss: 0.4558 - binary_accuracy: 0.7702 - val_loss: 0.3094 - val_binary_accuracy: 0.8740\n",
            "Epoch 2/10\n",
            "625/625 [==============================] - 2s 4ms/step - loss: 0.2434 - binary_accuracy: 0.9035 - val_loss: 0.3028 - val_binary_accuracy: 0.8778\n",
            "Epoch 3/10\n",
            "625/625 [==============================] - 2s 4ms/step - loss: 0.1847 - binary_accuracy: 0.9305 - val_loss: 0.3358 - val_binary_accuracy: 0.8692\n",
            "Epoch 4/10\n",
            "625/625 [==============================] - 2s 4ms/step - loss: 0.1453 - binary_accuracy: 0.9473 - val_loss: 0.3784 - val_binary_accuracy: 0.8680\n",
            "Epoch 5/10\n",
            "625/625 [==============================] - 2s 4ms/step - loss: 0.1139 - binary_accuracy: 0.9611 - val_loss: 0.4379 - val_binary_accuracy: 0.8678\n",
            "Epoch 6/10\n",
            "625/625 [==============================] - 2s 4ms/step - loss: 0.0887 - binary_accuracy: 0.9722 - val_loss: 0.5192 - val_binary_accuracy: 0.8644\n",
            "Epoch 7/10\n",
            "625/625 [==============================] - 2s 4ms/step - loss: 0.0711 - binary_accuracy: 0.9786 - val_loss: 0.6178 - val_binary_accuracy: 0.8600\n",
            "Epoch 8/10\n",
            "625/625 [==============================] - 2s 4ms/step - loss: 0.0604 - binary_accuracy: 0.9822 - val_loss: 0.7216 - val_binary_accuracy: 0.8570\n",
            "Epoch 9/10\n",
            "625/625 [==============================] - 2s 4ms/step - loss: 0.0717 - binary_accuracy: 0.9741 - val_loss: 0.9409 - val_binary_accuracy: 0.8300\n",
            "Epoch 10/10\n",
            "625/625 [==============================] - 2s 4ms/step - loss: 0.0992 - binary_accuracy: 0.9599 - val_loss: 0.6910 - val_binary_accuracy: 0.8566\n"
          ]
        }
      ],
      "source": [
        "epochs = 10\n",
        "history_DenseNNi = DenseNNi.fit(\n",
        "    train_ds,\n",
        "    validation_data=val_ds,\n",
        "    epochs=epochs)"
      ]
    },
    {
      "cell_type": "code",
      "execution_count": 33,
      "metadata": {
        "colab": {
          "base_uri": "https://localhost:8080/"
        },
        "id": "uFqxWaSesExG",
        "outputId": "0c0ac25f-d0ce-4f20-c394-32510faba4c2"
      },
      "outputs": [
        {
          "output_type": "stream",
          "name": "stdout",
          "text": [
            "782/782 [==============================] - 2s 2ms/step - loss: 0.8277 - binary_accuracy: 0.8350\n",
            "Loss:  0.8277385830879211\n",
            "Accuracy:  0.8349599838256836\n"
          ]
        }
      ],
      "source": [
        "loss, accuracy = DenseNNi.evaluate(test_ds)\n",
        "\n",
        "print(\"Loss: \", loss)\n",
        "print(\"Accuracy: \", accuracy)"
      ]
    },
    {
      "cell_type": "markdown",
      "metadata": {
        "id": "Kiil3M_pmvZ1"
      },
      "source": [
        "* At the first epoch DenseNNi model has 0.87 accuracy while Ori model only has 0.77 but increase to the last epoch DenseNNi model accuracy is only 0.85, Ori model accuracy is 0.88<br>\n",
        "* We can see Ori model better than DenseNNi"
      ]
    },
    {
      "cell_type": "markdown",
      "metadata": {
        "id": "uWvP3ejL0MJg"
      },
      "source": [
        "# Task 2"
      ]
    },
    {
      "cell_type": "markdown",
      "metadata": {
        "id": "jKyHv5DF0q-o"
      },
      "source": [
        "In DenseNNi you should have two dropout layers, both with dropout hyperparameter 0.2.  In this task you're going to investigate the effect of changing the dropout hyperparameter.  Let D = 0.3 + 0.05 * N.  Investigate three new networks based on the new combinations of dropout hyperparameter, i.e."
      ]
    },
    {
      "cell_type": "markdown",
      "metadata": {
        "id": "BBzswKdZ0q-o"
      },
      "source": [
        "#### 1. first dropout layer has hyperparameter 0.2 and the second has hyperparameter D (call this model DenseNNii);"
      ]
    },
    {
      "cell_type": "code",
      "execution_count": 34,
      "metadata": {
        "colab": {
          "base_uri": "https://localhost:8080/"
        },
        "id": "TFRt-Ybvlt__",
        "outputId": "feca151d-f30f-4aac-b3f2-173d13538e7b"
      },
      "outputs": [
        {
          "output_type": "stream",
          "name": "stdout",
          "text": [
            "Model: \"sequential_3\"\n",
            "_________________________________________________________________\n",
            " Layer (type)                Output Shape              Param #   \n",
            "=================================================================\n",
            " embedding_2 (Embedding)     (None, None, 16)          160016    \n",
            "                                                                 \n",
            " dense_3 (Dense)             (None, None, 220)         3740      \n",
            "                                                                 \n",
            " dropout_4 (Dropout)         (None, None, 220)         0         \n",
            "                                                                 \n",
            " global_average_pooling1d_2   (None, 220)              0         \n",
            " (GlobalAveragePooling1D)                                        \n",
            "                                                                 \n",
            " dropout_5 (Dropout)         (None, 220)               0         \n",
            "                                                                 \n",
            " dense_4 (Dense)             (None, 1)                 221       \n",
            "                                                                 \n",
            "=================================================================\n",
            "Total params: 163,977\n",
            "Trainable params: 163,977\n",
            "Non-trainable params: 0\n",
            "_________________________________________________________________\n"
          ]
        }
      ],
      "source": [
        "DenseNNii = tf.keras.Sequential([\n",
        "  layers.Embedding(max_features + 1, embedding_dim),\n",
        "  layers.Dense(220),\n",
        "  layers.Dropout(0.2),\n",
        "  layers.GlobalAveragePooling1D(),\n",
        "  layers.Dropout(0.6),\n",
        "  layers.Dense(1)])\n",
        "\n",
        "DenseNNii.summary()"
      ]
    },
    {
      "cell_type": "markdown",
      "metadata": {
        "id": "5XUmYG0D0q-p"
      },
      "source": [
        "#### 2. first dropout layer has hyperparameter D and the second has hyperparameter 0.2 (call this model DenseNNiii);"
      ]
    },
    {
      "cell_type": "code",
      "execution_count": 35,
      "metadata": {
        "colab": {
          "base_uri": "https://localhost:8080/"
        },
        "id": "0iNccbWnl7by",
        "outputId": "5829b13d-7c9d-45aa-a706-49cbcd78b70d"
      },
      "outputs": [
        {
          "output_type": "stream",
          "name": "stdout",
          "text": [
            "Model: \"sequential_4\"\n",
            "_________________________________________________________________\n",
            " Layer (type)                Output Shape              Param #   \n",
            "=================================================================\n",
            " embedding_3 (Embedding)     (None, None, 16)          160016    \n",
            "                                                                 \n",
            " dense_5 (Dense)             (None, None, 220)         3740      \n",
            "                                                                 \n",
            " dropout_6 (Dropout)         (None, None, 220)         0         \n",
            "                                                                 \n",
            " global_average_pooling1d_3   (None, 220)              0         \n",
            " (GlobalAveragePooling1D)                                        \n",
            "                                                                 \n",
            " dropout_7 (Dropout)         (None, 220)               0         \n",
            "                                                                 \n",
            " dense_6 (Dense)             (None, 1)                 221       \n",
            "                                                                 \n",
            "=================================================================\n",
            "Total params: 163,977\n",
            "Trainable params: 163,977\n",
            "Non-trainable params: 0\n",
            "_________________________________________________________________\n"
          ]
        }
      ],
      "source": [
        "DenseNNiii = tf.keras.Sequential([\n",
        "  layers.Embedding(max_features + 1, embedding_dim),\n",
        "  layers.Dense(220),\n",
        "  layers.Dropout(0.6),\n",
        "  layers.GlobalAveragePooling1D(),\n",
        "  layers.Dropout(0.2),\n",
        "  layers.Dense(1)])\n",
        "\n",
        "DenseNNiii.summary()"
      ]
    },
    {
      "cell_type": "markdown",
      "metadata": {
        "id": "ErbhUMEx0q-q"
      },
      "source": [
        "#### 3. both dropout layers have hyperparameter D (call this model DenseNNiv)."
      ]
    },
    {
      "cell_type": "code",
      "execution_count": 36,
      "metadata": {
        "colab": {
          "base_uri": "https://localhost:8080/"
        },
        "id": "4yhQy1x5mBvJ",
        "outputId": "729221df-23c3-4232-dc37-330f4b1974bc"
      },
      "outputs": [
        {
          "output_type": "stream",
          "name": "stdout",
          "text": [
            "Model: \"sequential_5\"\n",
            "_________________________________________________________________\n",
            " Layer (type)                Output Shape              Param #   \n",
            "=================================================================\n",
            " embedding_4 (Embedding)     (None, None, 16)          160016    \n",
            "                                                                 \n",
            " dense_7 (Dense)             (None, None, 220)         3740      \n",
            "                                                                 \n",
            " dropout_8 (Dropout)         (None, None, 220)         0         \n",
            "                                                                 \n",
            " global_average_pooling1d_4   (None, 220)              0         \n",
            " (GlobalAveragePooling1D)                                        \n",
            "                                                                 \n",
            " dropout_9 (Dropout)         (None, 220)               0         \n",
            "                                                                 \n",
            " dense_8 (Dense)             (None, 1)                 221       \n",
            "                                                                 \n",
            "=================================================================\n",
            "Total params: 163,977\n",
            "Trainable params: 163,977\n",
            "Non-trainable params: 0\n",
            "_________________________________________________________________\n"
          ]
        }
      ],
      "source": [
        "DenseNNiv = tf.keras.Sequential([\n",
        "  layers.Embedding(max_features + 1, embedding_dim),\n",
        "  layers.Dense(220),\n",
        "  layers.Dropout(0.6),\n",
        "  layers.GlobalAveragePooling1D(),\n",
        "  layers.Dropout(0.6),\n",
        "  layers.Dense(1)])\n",
        "\n",
        "DenseNNiv.summary()"
      ]
    },
    {
      "cell_type": "code",
      "execution_count": 37,
      "metadata": {
        "id": "MUZGeji9mF6I"
      },
      "outputs": [],
      "source": [
        "DenseNNii.compile(loss=losses.BinaryCrossentropy(from_logits=True),\n",
        "              optimizer='adam',\n",
        "              metrics=tf.metrics.BinaryAccuracy(threshold=0.0))"
      ]
    },
    {
      "cell_type": "code",
      "execution_count": 38,
      "metadata": {
        "id": "gC9UeSCPmGIj"
      },
      "outputs": [],
      "source": [
        "DenseNNiii.compile(loss=losses.BinaryCrossentropy(from_logits=True),\n",
        "              optimizer='adam',\n",
        "              metrics=tf.metrics.BinaryAccuracy(threshold=0.0))"
      ]
    },
    {
      "cell_type": "code",
      "execution_count": 39,
      "metadata": {
        "id": "Yv2ZaHi4mJBU"
      },
      "outputs": [],
      "source": [
        "DenseNNiv.compile(loss=losses.BinaryCrossentropy(from_logits=True),\n",
        "              optimizer='adam',\n",
        "              metrics=tf.metrics.BinaryAccuracy(threshold=0.0))"
      ]
    },
    {
      "cell_type": "code",
      "execution_count": 40,
      "metadata": {
        "colab": {
          "base_uri": "https://localhost:8080/"
        },
        "id": "wklD0PitmPVm",
        "outputId": "947c5aa5-73a3-4b8e-a145-d21e2cd2819e"
      },
      "outputs": [
        {
          "output_type": "stream",
          "name": "stdout",
          "text": [
            "Epoch 1/10\n",
            "625/625 [==============================] - 3s 4ms/step - loss: 0.4812 - binary_accuracy: 0.7560 - val_loss: 0.3137 - val_binary_accuracy: 0.8726\n",
            "Epoch 2/10\n",
            "625/625 [==============================] - 2s 4ms/step - loss: 0.2537 - binary_accuracy: 0.9005 - val_loss: 0.2969 - val_binary_accuracy: 0.8780\n",
            "Epoch 3/10\n",
            "625/625 [==============================] - 2s 4ms/step - loss: 0.1936 - binary_accuracy: 0.9260 - val_loss: 0.3150 - val_binary_accuracy: 0.8734\n",
            "Epoch 4/10\n",
            "625/625 [==============================] - 2s 4ms/step - loss: 0.1536 - binary_accuracy: 0.9441 - val_loss: 0.3528 - val_binary_accuracy: 0.8706\n",
            "Epoch 5/10\n",
            "625/625 [==============================] - 2s 4ms/step - loss: 0.1212 - binary_accuracy: 0.9585 - val_loss: 0.4103 - val_binary_accuracy: 0.8688\n",
            "Epoch 6/10\n",
            "625/625 [==============================] - 2s 4ms/step - loss: 0.0966 - binary_accuracy: 0.9695 - val_loss: 0.4775 - val_binary_accuracy: 0.8632\n",
            "Epoch 7/10\n",
            "625/625 [==============================] - 2s 4ms/step - loss: 0.0770 - binary_accuracy: 0.9758 - val_loss: 0.5593 - val_binary_accuracy: 0.8602\n",
            "Epoch 8/10\n",
            "625/625 [==============================] - 2s 4ms/step - loss: 0.0614 - binary_accuracy: 0.9822 - val_loss: 0.6591 - val_binary_accuracy: 0.8556\n",
            "Epoch 9/10\n",
            "625/625 [==============================] - 2s 4ms/step - loss: 0.0544 - binary_accuracy: 0.9838 - val_loss: 0.7701 - val_binary_accuracy: 0.8506\n",
            "Epoch 10/10\n",
            "625/625 [==============================] - 2s 4ms/step - loss: 0.0540 - binary_accuracy: 0.9815 - val_loss: 0.8738 - val_binary_accuracy: 0.8418\n"
          ]
        }
      ],
      "source": [
        "epochs = 10\n",
        "history_DenseNNii = DenseNNii.fit(\n",
        "    train_ds,\n",
        "    validation_data=val_ds,\n",
        "    epochs=epochs)"
      ]
    },
    {
      "cell_type": "code",
      "execution_count": 41,
      "metadata": {
        "colab": {
          "base_uri": "https://localhost:8080/"
        },
        "id": "9r3BtbYemPem",
        "outputId": "d248368d-41e4-4c5b-d36c-53172b7e5633"
      },
      "outputs": [
        {
          "output_type": "stream",
          "name": "stdout",
          "text": [
            "Epoch 1/10\n",
            "625/625 [==============================] - 3s 4ms/step - loss: 0.4585 - binary_accuracy: 0.7684 - val_loss: 0.3120 - val_binary_accuracy: 0.8712\n",
            "Epoch 2/10\n",
            "625/625 [==============================] - 2s 4ms/step - loss: 0.2450 - binary_accuracy: 0.9027 - val_loss: 0.3045 - val_binary_accuracy: 0.8754\n",
            "Epoch 3/10\n",
            "625/625 [==============================] - 2s 4ms/step - loss: 0.1861 - binary_accuracy: 0.9293 - val_loss: 0.3335 - val_binary_accuracy: 0.8680\n",
            "Epoch 4/10\n",
            "625/625 [==============================] - 2s 4ms/step - loss: 0.1467 - binary_accuracy: 0.9467 - val_loss: 0.3710 - val_binary_accuracy: 0.8686\n",
            "Epoch 5/10\n",
            "625/625 [==============================] - 2s 4ms/step - loss: 0.1169 - binary_accuracy: 0.9602 - val_loss: 0.4294 - val_binary_accuracy: 0.8668\n",
            "Epoch 6/10\n",
            "625/625 [==============================] - 2s 4ms/step - loss: 0.0942 - binary_accuracy: 0.9693 - val_loss: 0.4982 - val_binary_accuracy: 0.8644\n",
            "Epoch 7/10\n",
            "625/625 [==============================] - 2s 4ms/step - loss: 0.0780 - binary_accuracy: 0.9750 - val_loss: 0.5771 - val_binary_accuracy: 0.8590\n",
            "Epoch 8/10\n",
            "625/625 [==============================] - 2s 4ms/step - loss: 0.0675 - binary_accuracy: 0.9780 - val_loss: 0.6825 - val_binary_accuracy: 0.8490\n",
            "Epoch 9/10\n",
            "625/625 [==============================] - 2s 4ms/step - loss: 0.0680 - binary_accuracy: 0.9744 - val_loss: 0.7558 - val_binary_accuracy: 0.8490\n",
            "Epoch 10/10\n",
            "625/625 [==============================] - 2s 4ms/step - loss: 0.0868 - binary_accuracy: 0.9662 - val_loss: 0.7466 - val_binary_accuracy: 0.8528\n"
          ]
        }
      ],
      "source": [
        "epochs = 10\n",
        "history_DenseNNiii = DenseNNiii.fit(\n",
        "    train_ds,\n",
        "    validation_data=val_ds,\n",
        "    epochs=epochs)"
      ]
    },
    {
      "cell_type": "code",
      "execution_count": 42,
      "metadata": {
        "colab": {
          "base_uri": "https://localhost:8080/"
        },
        "id": "qcmmWrkbmPzL",
        "outputId": "8142e623-0abd-4d40-af83-ae33c61c6866"
      },
      "outputs": [
        {
          "output_type": "stream",
          "name": "stdout",
          "text": [
            "Epoch 1/10\n",
            "625/625 [==============================] - 3s 4ms/step - loss: 0.4881 - binary_accuracy: 0.7516 - val_loss: 0.3152 - val_binary_accuracy: 0.8746\n",
            "Epoch 2/10\n",
            "625/625 [==============================] - 2s 4ms/step - loss: 0.2575 - binary_accuracy: 0.8975 - val_loss: 0.2932 - val_binary_accuracy: 0.8790\n",
            "Epoch 3/10\n",
            "625/625 [==============================] - 2s 4ms/step - loss: 0.1983 - binary_accuracy: 0.9252 - val_loss: 0.3117 - val_binary_accuracy: 0.8734\n",
            "Epoch 4/10\n",
            "625/625 [==============================] - 2s 4ms/step - loss: 0.1592 - binary_accuracy: 0.9424 - val_loss: 0.3450 - val_binary_accuracy: 0.8710\n",
            "Epoch 5/10\n",
            "625/625 [==============================] - 2s 4ms/step - loss: 0.1283 - binary_accuracy: 0.9559 - val_loss: 0.3835 - val_binary_accuracy: 0.8704\n",
            "Epoch 6/10\n",
            "625/625 [==============================] - 2s 4ms/step - loss: 0.1050 - binary_accuracy: 0.9647 - val_loss: 0.4460 - val_binary_accuracy: 0.8672\n",
            "Epoch 7/10\n",
            "625/625 [==============================] - 2s 4ms/step - loss: 0.0861 - binary_accuracy: 0.9724 - val_loss: 0.5045 - val_binary_accuracy: 0.8646\n",
            "Epoch 8/10\n",
            "625/625 [==============================] - 2s 4ms/step - loss: 0.0723 - binary_accuracy: 0.9767 - val_loss: 0.5901 - val_binary_accuracy: 0.8588\n",
            "Epoch 9/10\n",
            "625/625 [==============================] - 2s 4ms/step - loss: 0.0614 - binary_accuracy: 0.9790 - val_loss: 0.6531 - val_binary_accuracy: 0.8570\n",
            "Epoch 10/10\n",
            "625/625 [==============================] - 2s 4ms/step - loss: 0.0542 - binary_accuracy: 0.9809 - val_loss: 0.7672 - val_binary_accuracy: 0.8466\n"
          ]
        }
      ],
      "source": [
        "epochs = 10\n",
        "history_DenseNNiv = DenseNNiv.fit(\n",
        "    train_ds,\n",
        "    validation_data=val_ds,\n",
        "    epochs=epochs)"
      ]
    },
    {
      "cell_type": "code",
      "execution_count": 43,
      "metadata": {
        "colab": {
          "base_uri": "https://localhost:8080/"
        },
        "id": "HRfNQhS_sE2Z",
        "outputId": "c37f7ce1-3f3f-48f1-c33e-a1cdca23dcf3"
      },
      "outputs": [
        {
          "output_type": "stream",
          "name": "stdout",
          "text": [
            "782/782 [==============================] - 2s 2ms/step - loss: 1.0743 - binary_accuracy: 0.8230\n",
            "Loss:  1.074293851852417\n",
            "Accuracy:  0.8230400085449219\n"
          ]
        }
      ],
      "source": [
        "loss, accuracy = DenseNNii.evaluate(test_ds)\n",
        "\n",
        "print(\"Loss: \", loss)\n",
        "print(\"Accuracy: \", accuracy)"
      ]
    },
    {
      "cell_type": "code",
      "execution_count": 44,
      "metadata": {
        "colab": {
          "base_uri": "https://localhost:8080/"
        },
        "id": "tlO-UCc2sE8O",
        "outputId": "1af29840-f711-446a-c795-d90612ee5971"
      },
      "outputs": [
        {
          "output_type": "stream",
          "name": "stdout",
          "text": [
            "782/782 [==============================] - 2s 2ms/step - loss: 0.8721 - binary_accuracy: 0.8349\n",
            "Loss:  0.8721487522125244\n",
            "Accuracy:  0.8349199891090393\n"
          ]
        }
      ],
      "source": [
        "loss, accuracy = DenseNNiii.evaluate(test_ds)\n",
        "\n",
        "print(\"Loss: \", loss)\n",
        "print(\"Accuracy: \", accuracy)"
      ]
    },
    {
      "cell_type": "code",
      "execution_count": 45,
      "metadata": {
        "colab": {
          "base_uri": "https://localhost:8080/"
        },
        "id": "FouvOr19sFBc",
        "outputId": "2adfe659-4da9-419e-d9ea-e720e0ca6b71"
      },
      "outputs": [
        {
          "output_type": "stream",
          "name": "stdout",
          "text": [
            "782/782 [==============================] - 2s 2ms/step - loss: 0.9650 - binary_accuracy: 0.8195\n",
            "Loss:  0.9649514555931091\n",
            "Accuracy:  0.8194800019264221\n"
          ]
        }
      ],
      "source": [
        "loss, accuracy = DenseNNiv.evaluate(test_ds)\n",
        "\n",
        "print(\"Loss: \", loss)\n",
        "print(\"Accuracy: \", accuracy)"
      ]
    },
    {
      "cell_type": "markdown",
      "metadata": {
        "id": "8ekK3xaanNkz"
      },
      "source": [
        "* At the first epoch all Dense model has 0.87 accuracy, while Ori model only has 0.77 but increase to the last epoch DenseNNi, Denseiii, Denseiv model accuracy is only 0.85, Denseii accuracy is 0.84, Ori model accuracy is 0.88<br>\n",
        "* We can see Ori model better than DenseNN model"
      ]
    },
    {
      "cell_type": "markdown",
      "metadata": {
        "id": "jaFdmx4v02PZ"
      },
      "source": [
        "# Task 3"
      ]
    },
    {
      "cell_type": "markdown",
      "metadata": {
        "id": "LKct0xjc0q-y"
      },
      "source": [
        "Use a CNN architecture rather than the dense network in the tutorial, with one Conv1D layer and one pooling layer, with kernel size K = (N div 2) + 5"
      ]
    },
    {
      "cell_type": "markdown",
      "metadata": {
        "id": "999JgHnp0q-z"
      },
      "source": [
        "#### 1. first dropout layer has hyperparameter 0.2 and the second has hyperparameter 0.2"
      ]
    },
    {
      "cell_type": "code",
      "execution_count": 46,
      "metadata": {
        "colab": {
          "base_uri": "https://localhost:8080/"
        },
        "id": "MWpskW1dnMZt",
        "outputId": "28b8f63e-e78c-4223-cf98-e513162e2bd2"
      },
      "outputs": [
        {
          "output_type": "stream",
          "name": "stdout",
          "text": [
            "Model: \"sequential_6\"\n",
            "_________________________________________________________________\n",
            " Layer (type)                Output Shape              Param #   \n",
            "=================================================================\n",
            " embedding_5 (Embedding)     (None, None, 16)          160016    \n",
            "                                                                 \n",
            " dropout_10 (Dropout)        (None, None, 16)          0         \n",
            "                                                                 \n",
            " conv1d (Conv1D)             (None, None, 8)           904       \n",
            "                                                                 \n",
            " global_average_pooling1d_5   (None, 8)                0         \n",
            " (GlobalAveragePooling1D)                                        \n",
            "                                                                 \n",
            " dropout_11 (Dropout)        (None, 8)                 0         \n",
            "                                                                 \n",
            " dense_9 (Dense)             (None, 1)                 9         \n",
            "                                                                 \n",
            "=================================================================\n",
            "Total params: 160,929\n",
            "Trainable params: 160,929\n",
            "Non-trainable params: 0\n",
            "_________________________________________________________________\n"
          ]
        }
      ],
      "source": [
        "CNNi = tf.keras.Sequential([\n",
        "  layers.Embedding(max_features + 1, embedding_dim),\n",
        "  layers.Dropout(0.2),\n",
        "  layers.Conv1D(8, 7, padding=\"valid\", activation=\"relu\", strides=3),\n",
        "  layers.GlobalAveragePooling1D(),\n",
        "  layers.Dropout(0.2),\n",
        "  layers.Dense(1)\n",
        "  ])\n",
        "\n",
        "CNNi.summary()"
      ]
    },
    {
      "cell_type": "markdown",
      "metadata": {
        "id": "-4KfMiOC0q-0"
      },
      "source": [
        "#### 2. first dropout layer has hyperparameter 0.2 and the second has hyperparameter 0.6"
      ]
    },
    {
      "cell_type": "code",
      "execution_count": 47,
      "metadata": {
        "colab": {
          "base_uri": "https://localhost:8080/"
        },
        "id": "Aemi43cQoWn_",
        "outputId": "9abdde44-0cce-4b23-a858-0e1878a00282"
      },
      "outputs": [
        {
          "output_type": "stream",
          "name": "stdout",
          "text": [
            "Model: \"sequential_7\"\n",
            "_________________________________________________________________\n",
            " Layer (type)                Output Shape              Param #   \n",
            "=================================================================\n",
            " embedding_6 (Embedding)     (None, None, 16)          160016    \n",
            "                                                                 \n",
            " dropout_12 (Dropout)        (None, None, 16)          0         \n",
            "                                                                 \n",
            " conv1d_1 (Conv1D)           (None, None, 8)           904       \n",
            "                                                                 \n",
            " global_average_pooling1d_6   (None, 8)                0         \n",
            " (GlobalAveragePooling1D)                                        \n",
            "                                                                 \n",
            " dropout_13 (Dropout)        (None, 8)                 0         \n",
            "                                                                 \n",
            " dense_10 (Dense)            (None, 1)                 9         \n",
            "                                                                 \n",
            "=================================================================\n",
            "Total params: 160,929\n",
            "Trainable params: 160,929\n",
            "Non-trainable params: 0\n",
            "_________________________________________________________________\n"
          ]
        }
      ],
      "source": [
        "CNNii = tf.keras.Sequential([\n",
        "  layers.Embedding(max_features + 1, embedding_dim),\n",
        "  layers.Dropout(0.2),\n",
        "  layers.Conv1D(8, 7, padding=\"valid\", activation=\"relu\", strides=3),\n",
        "  layers.GlobalAveragePooling1D(),\n",
        "  layers.Dropout(0.6),\n",
        "  layers.Dense(1)\n",
        "  ])\n",
        "\n",
        "CNNii.summary()"
      ]
    },
    {
      "cell_type": "markdown",
      "metadata": {
        "id": "u6v0PxP_0q-0"
      },
      "source": [
        "#### 3. first dropout layer has hyperparameter 0.6 and the second has hyperparameter 0.2"
      ]
    },
    {
      "cell_type": "code",
      "execution_count": 48,
      "metadata": {
        "colab": {
          "base_uri": "https://localhost:8080/"
        },
        "id": "rtjGvOcZoXKT",
        "outputId": "db92936b-6a3a-455f-ca7b-a376dc68b7ce"
      },
      "outputs": [
        {
          "output_type": "stream",
          "name": "stdout",
          "text": [
            "Model: \"sequential_8\"\n",
            "_________________________________________________________________\n",
            " Layer (type)                Output Shape              Param #   \n",
            "=================================================================\n",
            " embedding_7 (Embedding)     (None, None, 16)          160016    \n",
            "                                                                 \n",
            " dropout_14 (Dropout)        (None, None, 16)          0         \n",
            "                                                                 \n",
            " conv1d_2 (Conv1D)           (None, None, 8)           904       \n",
            "                                                                 \n",
            " global_average_pooling1d_7   (None, 8)                0         \n",
            " (GlobalAveragePooling1D)                                        \n",
            "                                                                 \n",
            " dropout_15 (Dropout)        (None, 8)                 0         \n",
            "                                                                 \n",
            " dense_11 (Dense)            (None, 1)                 9         \n",
            "                                                                 \n",
            "=================================================================\n",
            "Total params: 160,929\n",
            "Trainable params: 160,929\n",
            "Non-trainable params: 0\n",
            "_________________________________________________________________\n"
          ]
        }
      ],
      "source": [
        "CNNiii = tf.keras.Sequential([\n",
        "  layers.Embedding(max_features + 1, embedding_dim),\n",
        "  layers.Dropout(0.6),\n",
        "  layers.Conv1D(8, 7, padding=\"valid\", activation=\"relu\", strides=3),\n",
        "  layers.GlobalAveragePooling1D(),\n",
        "  layers.Dropout(0.2),\n",
        "  layers.Dense(1)\n",
        "  ])\n",
        "\n",
        "CNNiii.summary()"
      ]
    },
    {
      "cell_type": "markdown",
      "metadata": {
        "id": "Rp06NauY0q-2"
      },
      "source": [
        "#### 4. first dropout layer has hyperparameter 0.6 and the second has hyperparameter 0.6"
      ]
    },
    {
      "cell_type": "code",
      "execution_count": 49,
      "metadata": {
        "colab": {
          "base_uri": "https://localhost:8080/"
        },
        "id": "KnCt5zgvoXPj",
        "outputId": "a2e3cf88-f959-42df-b290-d55afd8cb939"
      },
      "outputs": [
        {
          "output_type": "stream",
          "name": "stdout",
          "text": [
            "Model: \"sequential_9\"\n",
            "_________________________________________________________________\n",
            " Layer (type)                Output Shape              Param #   \n",
            "=================================================================\n",
            " embedding_8 (Embedding)     (None, None, 16)          160016    \n",
            "                                                                 \n",
            " dropout_16 (Dropout)        (None, None, 16)          0         \n",
            "                                                                 \n",
            " conv1d_3 (Conv1D)           (None, None, 8)           904       \n",
            "                                                                 \n",
            " global_average_pooling1d_8   (None, 8)                0         \n",
            " (GlobalAveragePooling1D)                                        \n",
            "                                                                 \n",
            " dropout_17 (Dropout)        (None, 8)                 0         \n",
            "                                                                 \n",
            " dense_12 (Dense)            (None, 1)                 9         \n",
            "                                                                 \n",
            "=================================================================\n",
            "Total params: 160,929\n",
            "Trainable params: 160,929\n",
            "Non-trainable params: 0\n",
            "_________________________________________________________________\n"
          ]
        }
      ],
      "source": [
        "CNNiv = tf.keras.Sequential([\n",
        "  layers.Embedding(max_features + 1, embedding_dim),\n",
        "  layers.Dropout(0.6),\n",
        "  layers.Conv1D(8, 7, padding=\"valid\", activation=\"relu\", strides=3),\n",
        "  layers.GlobalAveragePooling1D(),\n",
        "  layers.Dropout(0.6),\n",
        "  layers.Dense(1)\n",
        "  ])\n",
        "\n",
        "CNNiv.summary()"
      ]
    },
    {
      "cell_type": "code",
      "execution_count": 50,
      "metadata": {
        "id": "f9XmhDsfotDl"
      },
      "outputs": [],
      "source": [
        "CNNi.compile(loss=losses.BinaryCrossentropy(from_logits=True),\n",
        "              optimizer='adam',\n",
        "              metrics=tf.metrics.BinaryAccuracy(threshold=0.0))"
      ]
    },
    {
      "cell_type": "code",
      "execution_count": 51,
      "metadata": {
        "id": "rf43n1HhotHo"
      },
      "outputs": [],
      "source": [
        "CNNii.compile(loss=losses.BinaryCrossentropy(from_logits=True),\n",
        "              optimizer='adam',\n",
        "              metrics=tf.metrics.BinaryAccuracy(threshold=0.0))"
      ]
    },
    {
      "cell_type": "code",
      "execution_count": 52,
      "metadata": {
        "id": "ELgehs3dotM5"
      },
      "outputs": [],
      "source": [
        "CNNiii.compile(loss=losses.BinaryCrossentropy(from_logits=True),\n",
        "              optimizer='adam',\n",
        "              metrics=tf.metrics.BinaryAccuracy(threshold=0.0))"
      ]
    },
    {
      "cell_type": "code",
      "execution_count": 53,
      "metadata": {
        "id": "Tiw714mHotrm"
      },
      "outputs": [],
      "source": [
        "CNNiv.compile(loss=losses.BinaryCrossentropy(from_logits=True),\n",
        "              optimizer='adam',\n",
        "              metrics=tf.metrics.BinaryAccuracy(threshold=0.0))"
      ]
    },
    {
      "cell_type": "code",
      "execution_count": 54,
      "metadata": {
        "colab": {
          "base_uri": "https://localhost:8080/"
        },
        "id": "I6HYZjpIo7e0",
        "outputId": "96ed9499-7ed9-4a6c-fd99-1faec5ffe34b"
      },
      "outputs": [
        {
          "output_type": "stream",
          "name": "stdout",
          "text": [
            "Epoch 1/10\n",
            "625/625 [==============================] - 9s 4ms/step - loss: 0.5873 - binary_accuracy: 0.6844 - val_loss: 0.4093 - val_binary_accuracy: 0.8528\n",
            "Epoch 2/10\n",
            "625/625 [==============================] - 2s 4ms/step - loss: 0.3729 - binary_accuracy: 0.8450 - val_loss: 0.3215 - val_binary_accuracy: 0.8762\n",
            "Epoch 3/10\n",
            "625/625 [==============================] - 2s 4ms/step - loss: 0.3114 - binary_accuracy: 0.8733 - val_loss: 0.2979 - val_binary_accuracy: 0.8832\n",
            "Epoch 4/10\n",
            "625/625 [==============================] - 2s 4ms/step - loss: 0.2786 - binary_accuracy: 0.8873 - val_loss: 0.2889 - val_binary_accuracy: 0.8844\n",
            "Epoch 5/10\n",
            "625/625 [==============================] - 2s 4ms/step - loss: 0.2559 - binary_accuracy: 0.8990 - val_loss: 0.2838 - val_binary_accuracy: 0.8852\n",
            "Epoch 6/10\n",
            "625/625 [==============================] - 2s 4ms/step - loss: 0.2326 - binary_accuracy: 0.9087 - val_loss: 0.2821 - val_binary_accuracy: 0.8838\n",
            "Epoch 7/10\n",
            "625/625 [==============================] - 2s 4ms/step - loss: 0.2172 - binary_accuracy: 0.9154 - val_loss: 0.2828 - val_binary_accuracy: 0.8824\n",
            "Epoch 8/10\n",
            "625/625 [==============================] - 2s 4ms/step - loss: 0.2012 - binary_accuracy: 0.9244 - val_loss: 0.2857 - val_binary_accuracy: 0.8824\n",
            "Epoch 9/10\n",
            "625/625 [==============================] - 2s 4ms/step - loss: 0.1858 - binary_accuracy: 0.9289 - val_loss: 0.2924 - val_binary_accuracy: 0.8802\n",
            "Epoch 10/10\n",
            "625/625 [==============================] - 2s 4ms/step - loss: 0.1677 - binary_accuracy: 0.9362 - val_loss: 0.2978 - val_binary_accuracy: 0.8778\n"
          ]
        }
      ],
      "source": [
        "epochs = 10\n",
        "history_CNNi = CNNi.fit(\n",
        "    train_ds,\n",
        "    validation_data=val_ds,\n",
        "    epochs=epochs)"
      ]
    },
    {
      "cell_type": "code",
      "execution_count": 55,
      "metadata": {
        "colab": {
          "base_uri": "https://localhost:8080/"
        },
        "id": "sahif906o7jt",
        "outputId": "f3e7db4c-6c33-4920-c75f-03f6648d0e5d"
      },
      "outputs": [
        {
          "output_type": "stream",
          "name": "stdout",
          "text": [
            "Epoch 1/10\n",
            "625/625 [==============================] - 3s 4ms/step - loss: 0.6258 - binary_accuracy: 0.6310 - val_loss: 0.4726 - val_binary_accuracy: 0.8554\n",
            "Epoch 2/10\n",
            "625/625 [==============================] - 2s 4ms/step - loss: 0.4843 - binary_accuracy: 0.7585 - val_loss: 0.3814 - val_binary_accuracy: 0.8744\n",
            "Epoch 3/10\n",
            "625/625 [==============================] - 2s 4ms/step - loss: 0.4306 - binary_accuracy: 0.7886 - val_loss: 0.3488 - val_binary_accuracy: 0.8790\n",
            "Epoch 4/10\n",
            "625/625 [==============================] - 2s 4ms/step - loss: 0.4081 - binary_accuracy: 0.7985 - val_loss: 0.3289 - val_binary_accuracy: 0.8796\n",
            "Epoch 5/10\n",
            "625/625 [==============================] - 2s 4ms/step - loss: 0.3825 - binary_accuracy: 0.8104 - val_loss: 0.3168 - val_binary_accuracy: 0.8838\n",
            "Epoch 6/10\n",
            "625/625 [==============================] - 2s 4ms/step - loss: 0.3705 - binary_accuracy: 0.8176 - val_loss: 0.3136 - val_binary_accuracy: 0.8824\n",
            "Epoch 7/10\n",
            "625/625 [==============================] - 2s 4ms/step - loss: 0.3589 - binary_accuracy: 0.8202 - val_loss: 0.3097 - val_binary_accuracy: 0.8812\n",
            "Epoch 8/10\n",
            "625/625 [==============================] - 2s 4ms/step - loss: 0.3430 - binary_accuracy: 0.8275 - val_loss: 0.3042 - val_binary_accuracy: 0.8828\n",
            "Epoch 9/10\n",
            "625/625 [==============================] - 2s 4ms/step - loss: 0.3396 - binary_accuracy: 0.8266 - val_loss: 0.3079 - val_binary_accuracy: 0.8786\n",
            "Epoch 10/10\n",
            "625/625 [==============================] - 2s 4ms/step - loss: 0.3286 - binary_accuracy: 0.8376 - val_loss: 0.3066 - val_binary_accuracy: 0.8796\n"
          ]
        }
      ],
      "source": [
        "epochs = 10\n",
        "history_CNNii = CNNii.fit(\n",
        "    train_ds,\n",
        "    validation_data=val_ds,\n",
        "    epochs=epochs)"
      ]
    },
    {
      "cell_type": "code",
      "execution_count": 56,
      "metadata": {
        "colab": {
          "base_uri": "https://localhost:8080/"
        },
        "id": "OqJqiBINo7xl",
        "outputId": "fe1d8abf-c0d0-4a8f-f7a9-430e3401a872"
      },
      "outputs": [
        {
          "output_type": "stream",
          "name": "stdout",
          "text": [
            "Epoch 1/10\n",
            "625/625 [==============================] - 3s 4ms/step - loss: 0.5923 - binary_accuracy: 0.6846 - val_loss: 0.4144 - val_binary_accuracy: 0.8492\n",
            "Epoch 2/10\n",
            "625/625 [==============================] - 2s 4ms/step - loss: 0.3966 - binary_accuracy: 0.8321 - val_loss: 0.3334 - val_binary_accuracy: 0.8720\n",
            "Epoch 3/10\n",
            "625/625 [==============================] - 2s 4ms/step - loss: 0.3358 - binary_accuracy: 0.8626 - val_loss: 0.3061 - val_binary_accuracy: 0.8756\n",
            "Epoch 4/10\n",
            "625/625 [==============================] - 2s 4ms/step - loss: 0.3052 - binary_accuracy: 0.8734 - val_loss: 0.2952 - val_binary_accuracy: 0.8778\n",
            "Epoch 5/10\n",
            "625/625 [==============================] - 2s 4ms/step - loss: 0.2840 - binary_accuracy: 0.8834 - val_loss: 0.2907 - val_binary_accuracy: 0.8782\n",
            "Epoch 6/10\n",
            "625/625 [==============================] - 2s 4ms/step - loss: 0.2678 - binary_accuracy: 0.8916 - val_loss: 0.2871 - val_binary_accuracy: 0.8758\n",
            "Epoch 7/10\n",
            "625/625 [==============================] - 2s 4ms/step - loss: 0.2502 - binary_accuracy: 0.8995 - val_loss: 0.2882 - val_binary_accuracy: 0.8760\n",
            "Epoch 8/10\n",
            "625/625 [==============================] - 2s 4ms/step - loss: 0.2421 - binary_accuracy: 0.9020 - val_loss: 0.2880 - val_binary_accuracy: 0.8762\n",
            "Epoch 9/10\n",
            "625/625 [==============================] - 2s 4ms/step - loss: 0.2334 - binary_accuracy: 0.9063 - val_loss: 0.2896 - val_binary_accuracy: 0.8778\n",
            "Epoch 10/10\n",
            "625/625 [==============================] - 2s 4ms/step - loss: 0.2237 - binary_accuracy: 0.9114 - val_loss: 0.2919 - val_binary_accuracy: 0.8740\n"
          ]
        }
      ],
      "source": [
        "epochs = 10\n",
        "history_CNNiii = CNNiii.fit(\n",
        "    train_ds,\n",
        "    validation_data=val_ds,\n",
        "    epochs=epochs)"
      ]
    },
    {
      "cell_type": "code",
      "execution_count": 57,
      "metadata": {
        "colab": {
          "base_uri": "https://localhost:8080/"
        },
        "id": "ruIe3dBAo780",
        "outputId": "902e8078-0773-4621-aefc-26261f3e592d"
      },
      "outputs": [
        {
          "output_type": "stream",
          "name": "stdout",
          "text": [
            "Epoch 1/10\n",
            "625/625 [==============================] - 3s 4ms/step - loss: 0.6511 - binary_accuracy: 0.5990 - val_loss: 0.5165 - val_binary_accuracy: 0.8334\n",
            "Epoch 2/10\n",
            "625/625 [==============================] - 2s 4ms/step - loss: 0.5150 - binary_accuracy: 0.7348 - val_loss: 0.4061 - val_binary_accuracy: 0.8708\n",
            "Epoch 3/10\n",
            "625/625 [==============================] - 2s 4ms/step - loss: 0.4631 - binary_accuracy: 0.7691 - val_loss: 0.3713 - val_binary_accuracy: 0.8770\n",
            "Epoch 4/10\n",
            "625/625 [==============================] - 2s 4ms/step - loss: 0.4283 - binary_accuracy: 0.7897 - val_loss: 0.3442 - val_binary_accuracy: 0.8820\n",
            "Epoch 5/10\n",
            "625/625 [==============================] - 2s 4ms/step - loss: 0.4130 - binary_accuracy: 0.7973 - val_loss: 0.3372 - val_binary_accuracy: 0.8832\n",
            "Epoch 6/10\n",
            "625/625 [==============================] - 2s 4ms/step - loss: 0.4018 - binary_accuracy: 0.8035 - val_loss: 0.3312 - val_binary_accuracy: 0.8794\n",
            "Epoch 7/10\n",
            "625/625 [==============================] - 2s 4ms/step - loss: 0.3935 - binary_accuracy: 0.8031 - val_loss: 0.3265 - val_binary_accuracy: 0.8822\n",
            "Epoch 8/10\n",
            "625/625 [==============================] - 2s 4ms/step - loss: 0.3809 - binary_accuracy: 0.8133 - val_loss: 0.3188 - val_binary_accuracy: 0.8822\n",
            "Epoch 9/10\n",
            "625/625 [==============================] - 2s 4ms/step - loss: 0.3816 - binary_accuracy: 0.8096 - val_loss: 0.3226 - val_binary_accuracy: 0.8792\n",
            "Epoch 10/10\n",
            "625/625 [==============================] - 2s 4ms/step - loss: 0.3721 - binary_accuracy: 0.8149 - val_loss: 0.3155 - val_binary_accuracy: 0.8804\n"
          ]
        }
      ],
      "source": [
        "epochs = 10\n",
        "history_CNNiv = CNNiv.fit(\n",
        "    train_ds,\n",
        "    validation_data=val_ds,\n",
        "    epochs=epochs)"
      ]
    },
    {
      "cell_type": "code",
      "execution_count": 58,
      "metadata": {
        "colab": {
          "base_uri": "https://localhost:8080/"
        },
        "id": "l6-n7WRdsFF5",
        "outputId": "43b0c0fa-fc89-4197-fa6a-037cf7875507"
      },
      "outputs": [
        {
          "output_type": "stream",
          "name": "stdout",
          "text": [
            "782/782 [==============================] - 2s 2ms/step - loss: 0.3466 - binary_accuracy: 0.8607\n",
            "Loss:  0.3465856611728668\n",
            "Accuracy:  0.8606799840927124\n"
          ]
        }
      ],
      "source": [
        "loss, accuracy = CNNi.evaluate(test_ds)\n",
        "\n",
        "print(\"Loss: \", loss)\n",
        "print(\"Accuracy: \", accuracy)"
      ]
    },
    {
      "cell_type": "code",
      "execution_count": 59,
      "metadata": {
        "colab": {
          "base_uri": "https://localhost:8080/"
        },
        "id": "h3SJIhszsFKK",
        "outputId": "135e3e32-0f56-4171-96e1-9f511681b8d0"
      },
      "outputs": [
        {
          "output_type": "stream",
          "name": "stdout",
          "text": [
            "782/782 [==============================] - 2s 2ms/step - loss: 0.3359 - binary_accuracy: 0.8666\n",
            "Loss:  0.33591532707214355\n",
            "Accuracy:  0.866599977016449\n"
          ]
        }
      ],
      "source": [
        "loss, accuracy = CNNii.evaluate(test_ds)\n",
        "\n",
        "print(\"Loss: \", loss)\n",
        "print(\"Accuracy: \", accuracy)"
      ]
    },
    {
      "cell_type": "code",
      "execution_count": 60,
      "metadata": {
        "colab": {
          "base_uri": "https://localhost:8080/"
        },
        "id": "3jakdi3-sFO3",
        "outputId": "0e29c17e-ffbf-47c6-c556-3ceae6dfef75"
      },
      "outputs": [
        {
          "output_type": "stream",
          "name": "stdout",
          "text": [
            "782/782 [==============================] - 2s 2ms/step - loss: 0.3253 - binary_accuracy: 0.8626\n",
            "Loss:  0.32533836364746094\n",
            "Accuracy:  0.8626400232315063\n"
          ]
        }
      ],
      "source": [
        "loss, accuracy = CNNiii.evaluate(test_ds)\n",
        "\n",
        "print(\"Loss: \", loss)\n",
        "print(\"Accuracy: \", accuracy)"
      ]
    },
    {
      "cell_type": "code",
      "execution_count": 61,
      "metadata": {
        "colab": {
          "base_uri": "https://localhost:8080/"
        },
        "id": "9YdxI2QrslYI",
        "outputId": "61d1e589-c426-4692-98ca-cc6889a4b996"
      },
      "outputs": [
        {
          "output_type": "stream",
          "name": "stdout",
          "text": [
            "782/782 [==============================] - 2s 2ms/step - loss: 0.3422 - binary_accuracy: 0.8694\n",
            "Loss:  0.34217503666877747\n",
            "Accuracy:  0.8694000244140625\n"
          ]
        }
      ],
      "source": [
        "loss, accuracy = CNNiv.evaluate(test_ds)\n",
        "\n",
        "print(\"Loss: \", loss)\n",
        "print(\"Accuracy: \", accuracy)"
      ]
    },
    {
      "cell_type": "markdown",
      "metadata": {
        "id": "b03ANgMtno1O"
      },
      "source": [
        "* At the first epoch all CNNi and CNNii model has 0.85 accuracy, while CNNiii and CNNiv accuracy is 0.84. At the last epoch, CNNi and CNNiii accuracy is 0.88 when accuracy of CNNii and CNNiv is only 0.87. But if we check carefully CNNiii has accuracy higher than CNNi. <br> \n",
        "* The best of CNN model is CNNiii"
      ]
    },
    {
      "cell_type": "markdown",
      "metadata": {
        "id": "JwciT2oB0q--"
      },
      "source": [
        "#### Best Dense model"
      ]
    },
    {
      "cell_type": "code",
      "execution_count": 62,
      "metadata": {
        "colab": {
          "base_uri": "https://localhost:8080/"
        },
        "id": "-4Z9jwkbsruS",
        "outputId": "1b584343-6ee7-421d-866e-e039e3783fdc"
      },
      "outputs": [
        {
          "output_type": "stream",
          "name": "stdout",
          "text": [
            "Epoch 1/10\n",
            "625/625 [==============================] - 3s 4ms/step - loss: 0.4571 - binary_accuracy: 0.7700 - val_loss: 0.3102 - val_binary_accuracy: 0.8748\n",
            "Epoch 2/10\n",
            "625/625 [==============================] - 2s 4ms/step - loss: 0.2442 - binary_accuracy: 0.9035 - val_loss: 0.3044 - val_binary_accuracy: 0.8740\n",
            "Epoch 3/10\n",
            "625/625 [==============================] - 2s 4ms/step - loss: 0.1852 - binary_accuracy: 0.9309 - val_loss: 0.3351 - val_binary_accuracy: 0.8692\n",
            "Epoch 4/10\n",
            "625/625 [==============================] - 2s 4ms/step - loss: 0.1450 - binary_accuracy: 0.9484 - val_loss: 0.3745 - val_binary_accuracy: 0.8684\n",
            "Epoch 5/10\n",
            "625/625 [==============================] - 2s 4ms/step - loss: 0.1131 - binary_accuracy: 0.9625 - val_loss: 0.4414 - val_binary_accuracy: 0.8672\n",
            "Epoch 6/10\n",
            "625/625 [==============================] - 2s 4ms/step - loss: 0.0895 - binary_accuracy: 0.9719 - val_loss: 0.5210 - val_binary_accuracy: 0.8632\n",
            "Epoch 7/10\n",
            "625/625 [==============================] - 2s 4ms/step - loss: 0.0710 - binary_accuracy: 0.9790 - val_loss: 0.6055 - val_binary_accuracy: 0.8622\n",
            "Epoch 8/10\n",
            "625/625 [==============================] - 2s 4ms/step - loss: 0.0604 - binary_accuracy: 0.9820 - val_loss: 0.7188 - val_binary_accuracy: 0.8564\n",
            "Epoch 9/10\n",
            "625/625 [==============================] - 2s 4ms/step - loss: 0.0684 - binary_accuracy: 0.9757 - val_loss: 0.9317 - val_binary_accuracy: 0.8332\n",
            "Epoch 10/10\n",
            "625/625 [==============================] - 2s 4ms/step - loss: 0.0980 - binary_accuracy: 0.9610 - val_loss: 0.7024 - val_binary_accuracy: 0.8598\n"
          ]
        }
      ],
      "source": [
        "DenseNN = tf.keras.Sequential([\n",
        "  layers.Embedding(max_features + 1, embedding_dim),\n",
        "  layers.Dense(220),\n",
        "  layers.Dropout(0.2),\n",
        "  layers.GlobalAveragePooling1D(),\n",
        "  layers.Dropout(0.2),\n",
        "  layers.Dense(1)])\n",
        "\n",
        "DenseNN.compile(loss=losses.BinaryCrossentropy(from_logits=True),\n",
        "              optimizer='adam',\n",
        "              metrics=tf.metrics.BinaryAccuracy(threshold=0.0))\n",
        "\n",
        "epochs = 10\n",
        "history_DenseNN = DenseNN.fit(\n",
        "    train_ds,\n",
        "    validation_data=val_ds,\n",
        "    epochs=epochs)"
      ]
    },
    {
      "cell_type": "markdown",
      "metadata": {
        "id": "ZtCshE1z0q_A"
      },
      "source": [
        "#### Best CNN model"
      ]
    },
    {
      "cell_type": "code",
      "execution_count": 63,
      "metadata": {
        "colab": {
          "base_uri": "https://localhost:8080/"
        },
        "id": "FB0lT9_3sr17",
        "outputId": "cc1f94a5-6c8c-412b-c499-7ab45848c49f"
      },
      "outputs": [
        {
          "output_type": "stream",
          "name": "stdout",
          "text": [
            "Epoch 1/10\n",
            "625/625 [==============================] - 3s 4ms/step - loss: 0.6195 - binary_accuracy: 0.6493 - val_loss: 0.4370 - val_binary_accuracy: 0.8422\n",
            "Epoch 2/10\n",
            "625/625 [==============================] - 2s 4ms/step - loss: 0.4092 - binary_accuracy: 0.8242 - val_loss: 0.3385 - val_binary_accuracy: 0.8710\n",
            "Epoch 3/10\n",
            "625/625 [==============================] - 2s 4ms/step - loss: 0.3465 - binary_accuracy: 0.8555 - val_loss: 0.3090 - val_binary_accuracy: 0.8772\n",
            "Epoch 4/10\n",
            "625/625 [==============================] - 2s 4ms/step - loss: 0.3067 - binary_accuracy: 0.8754 - val_loss: 0.2942 - val_binary_accuracy: 0.8792\n",
            "Epoch 5/10\n",
            "625/625 [==============================] - 2s 4ms/step - loss: 0.2880 - binary_accuracy: 0.8814 - val_loss: 0.2884 - val_binary_accuracy: 0.8798\n",
            "Epoch 6/10\n",
            "625/625 [==============================] - 2s 4ms/step - loss: 0.2649 - binary_accuracy: 0.8952 - val_loss: 0.2840 - val_binary_accuracy: 0.8798\n",
            "Epoch 7/10\n",
            "625/625 [==============================] - 2s 4ms/step - loss: 0.2546 - binary_accuracy: 0.8982 - val_loss: 0.2842 - val_binary_accuracy: 0.8780\n",
            "Epoch 8/10\n",
            "625/625 [==============================] - 2s 4ms/step - loss: 0.2454 - binary_accuracy: 0.8999 - val_loss: 0.2855 - val_binary_accuracy: 0.8782\n",
            "Epoch 9/10\n",
            "625/625 [==============================] - 2s 4ms/step - loss: 0.2360 - binary_accuracy: 0.9058 - val_loss: 0.2885 - val_binary_accuracy: 0.8778\n",
            "Epoch 10/10\n",
            "625/625 [==============================] - 2s 4ms/step - loss: 0.2224 - binary_accuracy: 0.9118 - val_loss: 0.2912 - val_binary_accuracy: 0.8746\n"
          ]
        }
      ],
      "source": [
        "CNN = tf.keras.Sequential([\n",
        "  layers.Embedding(max_features + 1, embedding_dim),\n",
        "  layers.Dropout(0.6),\n",
        "  layers.Conv1D(8, 7, padding=\"valid\", activation=\"relu\", strides=3),\n",
        "  layers.GlobalAveragePooling1D(),\n",
        "  layers.Dropout(0.2),\n",
        "  layers.Dense(1)\n",
        "  ])\n",
        "\n",
        "CNN.compile(loss=losses.BinaryCrossentropy(from_logits=True),\n",
        "              optimizer='adam',\n",
        "              metrics=tf.metrics.BinaryAccuracy(threshold=0.0))\n",
        "\n",
        "\n",
        "epochs = 10\n",
        "history_CNN = CNN.fit(\n",
        "    train_ds,\n",
        "    validation_data=val_ds,\n",
        "    epochs=epochs)"
      ]
    },
    {
      "cell_type": "code",
      "execution_count": 64,
      "metadata": {
        "colab": {
          "base_uri": "https://localhost:8080/"
        },
        "id": "luj7aNkevTCh",
        "outputId": "dff1b878-88b8-4304-df43-625098fb1102"
      },
      "outputs": [
        {
          "output_type": "stream",
          "name": "stdout",
          "text": [
            "782/782 [==============================] - 1s 2ms/step - loss: 0.3102 - binary_accuracy: 0.8737\n",
            "Loss:  0.31015631556510925\n",
            "Accuracy:  0.8736799955368042\n"
          ]
        }
      ],
      "source": [
        "loss, accuracy = OrigNN.evaluate(test_ds)\n",
        "\n",
        "print(\"Loss: \", loss)\n",
        "print(\"Accuracy: \", accuracy)"
      ]
    },
    {
      "cell_type": "code",
      "execution_count": 65,
      "metadata": {
        "colab": {
          "base_uri": "https://localhost:8080/"
        },
        "id": "7uvSoAOZvUAE",
        "outputId": "9fb67064-a36e-4336-fabf-3133f26db642"
      },
      "outputs": [
        {
          "output_type": "stream",
          "name": "stdout",
          "text": [
            "782/782 [==============================] - 2s 2ms/step - loss: 0.8586 - binary_accuracy: 0.8363\n",
            "Loss:  0.858589231967926\n",
            "Accuracy:  0.8362799882888794\n"
          ]
        }
      ],
      "source": [
        "loss, accuracy = DenseNN.evaluate(test_ds)\n",
        "\n",
        "print(\"Loss: \", loss)\n",
        "print(\"Accuracy: \", accuracy)"
      ]
    },
    {
      "cell_type": "code",
      "execution_count": 66,
      "metadata": {
        "colab": {
          "base_uri": "https://localhost:8080/"
        },
        "id": "K8UeEq6QvULh",
        "outputId": "505eaa0f-e593-42c2-f4cd-7e84d5eff642"
      },
      "outputs": [
        {
          "output_type": "stream",
          "name": "stdout",
          "text": [
            "782/782 [==============================] - 2s 2ms/step - loss: 0.3284 - binary_accuracy: 0.8611\n",
            "Loss:  0.3283676207065582\n",
            "Accuracy:  0.8611199855804443\n"
          ]
        }
      ],
      "source": [
        "loss, accuracy = CNN.evaluate(test_ds)\n",
        "\n",
        "print(\"Loss: \", loss)\n",
        "print(\"Accuracy: \", accuracy)"
      ]
    },
    {
      "cell_type": "markdown",
      "metadata": {
        "id": "1KJRsKhK0q_D"
      },
      "source": [
        "> Accuracy of OrigNN is 0.87, more than CNN 0.1 and DenseNN 0.4 <br>\n",
        "> OrigNN better than CNN and Dense models"
      ]
    },
    {
      "cell_type": "markdown",
      "metadata": {
        "id": "K8QrjUaQ1bKS"
      },
      "source": [
        "# Task 4"
      ]
    },
    {
      "cell_type": "markdown",
      "metadata": {
        "id": "NF67f5vj0q_E"
      },
      "source": [
        "Choose the best of your previous architectures: call this NNBest.  Train the model on subsets of the original training data, of sizes (20%, 40%, 60%, 80%, 100%).  You should keep the validation set the same size for all training set sizes.  Plot the accuracies of the model for each of those training set sizes.  "
      ]
    },
    {
      "cell_type": "markdown",
      "metadata": {
        "id": "iNm4n17t0q_F"
      },
      "source": [
        "#### 1. 20%"
      ]
    },
    {
      "cell_type": "code",
      "execution_count": 67,
      "metadata": {
        "id": "FH-Lpnb2v2mO"
      },
      "outputs": [],
      "source": [
        "NNBest = tf.keras.Sequential([\n",
        "  layers.Embedding(max_features + 1, embedding_dim),\n",
        "  layers.Dropout(0.2),\n",
        "  layers.GlobalAveragePooling1D(),\n",
        "  layers.Dropout(0.2),\n",
        "  layers.Dense(1)])"
      ]
    },
    {
      "cell_type": "code",
      "execution_count": 68,
      "metadata": {
        "colab": {
          "base_uri": "https://localhost:8080/"
        },
        "id": "0GYCWgYL1pbI",
        "outputId": "055137dd-9c33-45d7-bc9d-0929b61316be"
      },
      "outputs": [
        {
          "output_type": "stream",
          "name": "stdout",
          "text": [
            "Found 25000 files belonging to 2 classes.\n",
            "Using 4000 files for training.\n",
            "Found 25000 files belonging to 2 classes.\n",
            "Using 5000 files for validation.\n",
            "Found 25000 files belonging to 2 classes.\n"
          ]
        }
      ],
      "source": [
        "raw_train_ds = tf.keras.utils.text_dataset_from_directory(\n",
        "    'aclImdb/train', \n",
        "    batch_size=batch_size, \n",
        "    validation_split=0.84, \n",
        "    subset='training',\n",
        "    seed=seed)\n",
        "\n",
        "raw_val_ds = tf.keras.utils.text_dataset_from_directory(\n",
        "    'aclImdb/train', \n",
        "    batch_size=batch_size, \n",
        "    validation_split=0.2, \n",
        "    subset='validation', \n",
        "    seed=seed)\n",
        "\n",
        "\n",
        "raw_test_ds = tf.keras.utils.text_dataset_from_directory(\n",
        "    'aclImdb/test', \n",
        "    batch_size=batch_size)\n",
        "\n",
        "max_features = 10000\n",
        "sequence_length = 250\n",
        "\n",
        "vectorize_layer = layers.TextVectorization(\n",
        "    standardize=custom_standardization,\n",
        "    max_tokens=max_features,\n",
        "    output_mode='int',\n",
        "    output_sequence_length=sequence_length)\n",
        "\n",
        "train_text = raw_train_ds.map(lambda x, y: x)\n",
        "vectorize_layer.adapt(train_text)\n",
        "\n",
        "train_ds = raw_train_ds.map(vectorize_text)\n",
        "val_ds = raw_val_ds.map(vectorize_text)\n",
        "test_ds = raw_test_ds.map(vectorize_text)\n",
        "\n",
        "AUTOTUNE = tf.data.AUTOTUNE\n",
        "\n",
        "train_ds = train_ds.cache().prefetch(buffer_size=AUTOTUNE)\n",
        "val_ds = val_ds.cache().prefetch(buffer_size=AUTOTUNE)\n",
        "test_ds = test_ds.cache().prefetch(buffer_size=AUTOTUNE)"
      ]
    },
    {
      "cell_type": "code",
      "execution_count": 69,
      "metadata": {
        "colab": {
          "base_uri": "https://localhost:8080/"
        },
        "id": "HgcaJmRdwNZe",
        "outputId": "40ac7145-b2a2-4591-879f-7e9943cfc915"
      },
      "outputs": [
        {
          "output_type": "stream",
          "name": "stdout",
          "text": [
            "Epoch 1/10\n",
            "125/125 [==============================] - 2s 11ms/step - loss: 0.6905 - binary_accuracy: 0.5380 - val_loss: 0.6876 - val_binary_accuracy: 0.7016\n",
            "Epoch 2/10\n",
            "125/125 [==============================] - 1s 5ms/step - loss: 0.6815 - binary_accuracy: 0.6768 - val_loss: 0.6768 - val_binary_accuracy: 0.7436\n",
            "Epoch 3/10\n",
            "125/125 [==============================] - 1s 5ms/step - loss: 0.6647 - binary_accuracy: 0.7577 - val_loss: 0.6596 - val_binary_accuracy: 0.7534\n",
            "Epoch 4/10\n",
            "125/125 [==============================] - 1s 5ms/step - loss: 0.6411 - binary_accuracy: 0.7818 - val_loss: 0.6375 - val_binary_accuracy: 0.7664\n",
            "Epoch 5/10\n",
            "125/125 [==============================] - 1s 5ms/step - loss: 0.6112 - binary_accuracy: 0.8040 - val_loss: 0.6127 - val_binary_accuracy: 0.7764\n",
            "Epoch 6/10\n",
            "125/125 [==============================] - 1s 5ms/step - loss: 0.5790 - binary_accuracy: 0.8163 - val_loss: 0.5871 - val_binary_accuracy: 0.7854\n",
            "Epoch 7/10\n",
            "125/125 [==============================] - 1s 5ms/step - loss: 0.5462 - binary_accuracy: 0.8342 - val_loss: 0.5622 - val_binary_accuracy: 0.7972\n",
            "Epoch 8/10\n",
            "125/125 [==============================] - 1s 5ms/step - loss: 0.5147 - binary_accuracy: 0.8462 - val_loss: 0.5384 - val_binary_accuracy: 0.8060\n",
            "Epoch 9/10\n",
            "125/125 [==============================] - 1s 5ms/step - loss: 0.4837 - binary_accuracy: 0.8622 - val_loss: 0.5165 - val_binary_accuracy: 0.8146\n",
            "Epoch 10/10\n",
            "125/125 [==============================] - 1s 5ms/step - loss: 0.4563 - binary_accuracy: 0.8730 - val_loss: 0.4965 - val_binary_accuracy: 0.8198\n"
          ]
        }
      ],
      "source": [
        "NNBest.compile(loss=losses.BinaryCrossentropy(from_logits=True),\n",
        "              optimizer='adam',\n",
        "              metrics=tf.metrics.BinaryAccuracy(threshold=0.0))\n",
        "\n",
        "epochs = 10\n",
        "history_NNBest_20 = NNBest.fit(\n",
        "    train_ds,\n",
        "    validation_data=val_ds,\n",
        "    epochs=epochs)"
      ]
    },
    {
      "cell_type": "code",
      "execution_count": 70,
      "metadata": {
        "colab": {
          "base_uri": "https://localhost:8080/",
          "height": 295
        },
        "id": "s1mhy2Kh7JH8",
        "outputId": "45a47c54-18e5-4bb6-a02a-bcd586f0e197"
      },
      "outputs": [
        {
          "output_type": "display_data",
          "data": {
            "text/plain": [
              "<Figure size 432x288 with 1 Axes>"
            ],
            "image/png": "[encoded data removed]"
          },
          "metadata": {
            "needs_background": "light"
          }
        }
      ],
      "source": [
        "history_dict = history_NNBest_20.history\n",
        "history_dict.keys()\n",
        "acc = history_dict['binary_accuracy']\n",
        "val_acc = history_dict['val_binary_accuracy']\n",
        "loss = history_dict['loss']\n",
        "val_loss = history_dict['val_loss']\n",
        "\n",
        "epochs = range(1, len(acc) + 1)\n",
        "\n",
        "plt.plot(epochs, acc, 'bo', label='Training acc')\n",
        "plt.plot(epochs, val_acc, 'b', label='Validation acc')\n",
        "plt.title('Training and validation accuracy')\n",
        "plt.xlabel('Epochs')\n",
        "plt.ylabel('Accuracy')\n",
        "plt.legend(loc='lower right')\n",
        "\n",
        "plt.show()"
      ]
    },
    {
      "cell_type": "markdown",
      "metadata": {
        "id": "7CaPjQ-X0q_I"
      },
      "source": [
        "#### 2. 40%"
      ]
    },
    {
      "cell_type": "code",
      "execution_count": 71,
      "metadata": {
        "colab": {
          "base_uri": "https://localhost:8080/"
        },
        "id": "y_CzTrGe6-Zm",
        "outputId": "060ca00c-c512-4fba-a624-489236260128"
      },
      "outputs": [
        {
          "output_type": "stream",
          "name": "stdout",
          "text": [
            "Found 25000 files belonging to 2 classes.\n",
            "Using 8000 files for training.\n",
            "Found 25000 files belonging to 2 classes.\n",
            "Using 5000 files for validation.\n",
            "Found 25000 files belonging to 2 classes.\n"
          ]
        }
      ],
      "source": [
        "raw_train_ds = tf.keras.utils.text_dataset_from_directory(\n",
        "    'aclImdb/train', \n",
        "    batch_size=batch_size, \n",
        "    validation_split=0.68, \n",
        "    subset='training',\n",
        "    seed=seed)\n",
        "\n",
        "raw_val_ds = tf.keras.utils.text_dataset_from_directory(\n",
        "    'aclImdb/train', \n",
        "    batch_size=batch_size, \n",
        "    validation_split=0.2, \n",
        "    subset='validation', \n",
        "    seed=seed)\n",
        "\n",
        "\n",
        "raw_test_ds = tf.keras.utils.text_dataset_from_directory(\n",
        "    'aclImdb/test', \n",
        "    batch_size=batch_size)\n",
        "\n",
        "max_features = 10000\n",
        "sequence_length = 250\n",
        "\n",
        "vectorize_layer = layers.TextVectorization(\n",
        "    standardize=custom_standardization,\n",
        "    max_tokens=max_features,\n",
        "    output_mode='int',\n",
        "    output_sequence_length=sequence_length)\n",
        "\n",
        "train_text = raw_train_ds.map(lambda x, y: x)\n",
        "vectorize_layer.adapt(train_text)\n",
        "\n",
        "train_ds = raw_train_ds.map(vectorize_text)\n",
        "val_ds = raw_val_ds.map(vectorize_text)\n",
        "test_ds = raw_test_ds.map(vectorize_text)\n",
        "\n",
        "AUTOTUNE = tf.data.AUTOTUNE\n",
        "\n",
        "train_ds = train_ds.cache().prefetch(buffer_size=AUTOTUNE)\n",
        "val_ds = val_ds.cache().prefetch(buffer_size=AUTOTUNE)\n",
        "test_ds = test_ds.cache().prefetch(buffer_size=AUTOTUNE)"
      ]
    },
    {
      "cell_type": "code",
      "execution_count": 72,
      "metadata": {
        "id": "psfJQmIkz0jY",
        "colab": {
          "base_uri": "https://localhost:8080/"
        },
        "outputId": "1e47778c-0ba4-4700-bd7c-909d40e0ab2a"
      },
      "outputs": [
        {
          "output_type": "stream",
          "name": "stdout",
          "text": [
            "Epoch 1/10\n",
            "250/250 [==============================] - 2s 8ms/step - loss: 0.6528 - binary_accuracy: 0.6229 - val_loss: 0.6316 - val_binary_accuracy: 0.6662\n",
            "Epoch 2/10\n",
            "250/250 [==============================] - 1s 4ms/step - loss: 0.6059 - binary_accuracy: 0.6966 - val_loss: 0.5926 - val_binary_accuracy: 0.7122\n",
            "Epoch 3/10\n",
            "250/250 [==============================] - 1s 4ms/step - loss: 0.5609 - binary_accuracy: 0.7423 - val_loss: 0.5553 - val_binary_accuracy: 0.7432\n",
            "Epoch 4/10\n",
            "250/250 [==============================] - 1s 4ms/step - loss: 0.5179 - binary_accuracy: 0.7788 - val_loss: 0.5212 - val_binary_accuracy: 0.7656\n",
            "Epoch 5/10\n",
            "250/250 [==============================] - 1s 4ms/step - loss: 0.4776 - binary_accuracy: 0.8046 - val_loss: 0.4909 - val_binary_accuracy: 0.7862\n",
            "Epoch 6/10\n",
            "250/250 [==============================] - 1s 4ms/step - loss: 0.4417 - binary_accuracy: 0.8254 - val_loss: 0.4648 - val_binary_accuracy: 0.7988\n",
            "Epoch 7/10\n",
            "250/250 [==============================] - 1s 4ms/step - loss: 0.4091 - binary_accuracy: 0.8406 - val_loss: 0.4429 - val_binary_accuracy: 0.8086\n",
            "Epoch 8/10\n",
            "250/250 [==============================] - 1s 4ms/step - loss: 0.3823 - binary_accuracy: 0.8529 - val_loss: 0.4242 - val_binary_accuracy: 0.8204\n",
            "Epoch 9/10\n",
            "250/250 [==============================] - 1s 4ms/step - loss: 0.3564 - binary_accuracy: 0.8691 - val_loss: 0.4086 - val_binary_accuracy: 0.8252\n",
            "Epoch 10/10\n",
            "250/250 [==============================] - 1s 4ms/step - loss: 0.3343 - binary_accuracy: 0.8811 - val_loss: 0.3952 - val_binary_accuracy: 0.8344\n"
          ]
        }
      ],
      "source": [
        "NNBest.compile(loss=losses.BinaryCrossentropy(from_logits=True),\n",
        "              optimizer='adam',\n",
        "              metrics=tf.metrics.BinaryAccuracy(threshold=0.0))\n",
        "\n",
        "epochs = 10\n",
        "history_NNBest_40 = NNBest.fit(\n",
        "    train_ds,\n",
        "    validation_data=val_ds,\n",
        "    epochs=epochs)"
      ]
    },
    {
      "cell_type": "code",
      "execution_count": 73,
      "metadata": {
        "id": "URKvPvT57aY0",
        "colab": {
          "base_uri": "https://localhost:8080/",
          "height": 295
        },
        "outputId": "066c8c51-018a-4100-a1ba-b9ccfac254bd"
      },
      "outputs": [
        {
          "output_type": "display_data",
          "data": {
            "text/plain": [
              "<Figure size 432x288 with 1 Axes>"
            ],
            "image/png": "[encoded data removed]"
          },
          "metadata": {
            "needs_background": "light"
          }
        }
      ],
      "source": [
        "history_dict = history_NNBest_40.history\n",
        "history_dict.keys()\n",
        "acc = history_dict['binary_accuracy']\n",
        "val_acc = history_dict['val_binary_accuracy']\n",
        "loss = history_dict['loss']\n",
        "val_loss = history_dict['val_loss']\n",
        "\n",
        "epochs = range(1, len(acc) + 1)\n",
        "\n",
        "plt.plot(epochs, acc, 'bo', label='Training acc')\n",
        "plt.plot(epochs, val_acc, 'b', label='Validation acc')\n",
        "plt.title('Training and validation accuracy')\n",
        "plt.xlabel('Epochs')\n",
        "plt.ylabel('Accuracy')\n",
        "plt.legend(loc='lower right')\n",
        "\n",
        "plt.show()"
      ]
    },
    {
      "cell_type": "markdown",
      "metadata": {
        "id": "WLpMFzOP0q_L"
      },
      "source": [
        "#### 3. 60%"
      ]
    },
    {
      "cell_type": "code",
      "execution_count": 74,
      "metadata": {
        "id": "RD4J-yrG7w1y",
        "colab": {
          "base_uri": "https://localhost:8080/"
        },
        "outputId": "d2cef010-1983-471d-b276-4c1b25ad54d4"
      },
      "outputs": [
        {
          "output_type": "stream",
          "name": "stdout",
          "text": [
            "Found 25000 files belonging to 2 classes.\n",
            "Using 12000 files for training.\n",
            "Found 25000 files belonging to 2 classes.\n",
            "Using 5000 files for validation.\n",
            "Found 25000 files belonging to 2 classes.\n"
          ]
        }
      ],
      "source": [
        "raw_train_ds = tf.keras.utils.text_dataset_from_directory(\n",
        "    'aclImdb/train', \n",
        "    batch_size=batch_size, \n",
        "    validation_split=0.52, \n",
        "    subset='training',\n",
        "    seed=seed)\n",
        "\n",
        "raw_val_ds = tf.keras.utils.text_dataset_from_directory(\n",
        "    'aclImdb/train', \n",
        "    batch_size=batch_size, \n",
        "    validation_split=0.2, \n",
        "    subset='validation', \n",
        "    seed=seed)\n",
        "\n",
        "\n",
        "raw_test_ds = tf.keras.utils.text_dataset_from_directory(\n",
        "    'aclImdb/test', \n",
        "    batch_size=batch_size)\n",
        "\n",
        "max_features = 10000\n",
        "sequence_length = 250\n",
        "\n",
        "vectorize_layer = layers.TextVectorization(\n",
        "    standardize=custom_standardization,\n",
        "    max_tokens=max_features,\n",
        "    output_mode='int',\n",
        "    output_sequence_length=sequence_length)\n",
        "\n",
        "train_text = raw_train_ds.map(lambda x, y: x)\n",
        "vectorize_layer.adapt(train_text)\n",
        "\n",
        "train_ds = raw_train_ds.map(vectorize_text)\n",
        "val_ds = raw_val_ds.map(vectorize_text)\n",
        "test_ds = raw_test_ds.map(vectorize_text)\n",
        "\n",
        "AUTOTUNE = tf.data.AUTOTUNE\n",
        "\n",
        "train_ds = train_ds.cache().prefetch(buffer_size=AUTOTUNE)\n",
        "val_ds = val_ds.cache().prefetch(buffer_size=AUTOTUNE)\n",
        "test_ds = test_ds.cache().prefetch(buffer_size=AUTOTUNE)"
      ]
    },
    {
      "cell_type": "code",
      "execution_count": 75,
      "metadata": {
        "id": "3py1HKIC7w1z",
        "colab": {
          "base_uri": "https://localhost:8080/"
        },
        "outputId": "425b74fd-1ee8-435b-8e5b-21c00d1e8391"
      },
      "outputs": [
        {
          "output_type": "stream",
          "name": "stdout",
          "text": [
            "Epoch 1/10\n",
            "375/375 [==============================] - 3s 7ms/step - loss: 0.6440 - binary_accuracy: 0.6482 - val_loss: 0.6036 - val_binary_accuracy: 0.6816\n",
            "Epoch 2/10\n",
            "375/375 [==============================] - 1s 4ms/step - loss: 0.5671 - binary_accuracy: 0.7126 - val_loss: 0.5496 - val_binary_accuracy: 0.7242\n",
            "Epoch 3/10\n",
            "375/375 [==============================] - 1s 4ms/step - loss: 0.5127 - binary_accuracy: 0.7583 - val_loss: 0.5084 - val_binary_accuracy: 0.7570\n",
            "Epoch 4/10\n",
            "375/375 [==============================] - 1s 4ms/step - loss: 0.4658 - binary_accuracy: 0.7894 - val_loss: 0.4752 - val_binary_accuracy: 0.7834\n",
            "Epoch 5/10\n",
            "375/375 [==============================] - 1s 4ms/step - loss: 0.4283 - binary_accuracy: 0.8135 - val_loss: 0.4475 - val_binary_accuracy: 0.7978\n",
            "Epoch 6/10\n",
            "375/375 [==============================] - 1s 4ms/step - loss: 0.3949 - binary_accuracy: 0.8335 - val_loss: 0.4253 - val_binary_accuracy: 0.8068\n",
            "Epoch 7/10\n",
            "375/375 [==============================] - 1s 4ms/step - loss: 0.3656 - binary_accuracy: 0.8513 - val_loss: 0.4068 - val_binary_accuracy: 0.8194\n",
            "Epoch 8/10\n",
            "375/375 [==============================] - 1s 4ms/step - loss: 0.3388 - binary_accuracy: 0.8646 - val_loss: 0.3910 - val_binary_accuracy: 0.8282\n",
            "Epoch 9/10\n",
            "375/375 [==============================] - 1s 4ms/step - loss: 0.3177 - binary_accuracy: 0.8747 - val_loss: 0.3787 - val_binary_accuracy: 0.8326\n",
            "Epoch 10/10\n",
            "375/375 [==============================] - 1s 4ms/step - loss: 0.2976 - binary_accuracy: 0.8840 - val_loss: 0.3679 - val_binary_accuracy: 0.8388\n"
          ]
        }
      ],
      "source": [
        "NNBest.compile(loss=losses.BinaryCrossentropy(from_logits=True),\n",
        "              optimizer='adam',\n",
        "              metrics=tf.metrics.BinaryAccuracy(threshold=0.0))\n",
        "\n",
        "epochs = 10\n",
        "history_NNBest_60 = NNBest.fit(\n",
        "    train_ds,\n",
        "    validation_data=val_ds,\n",
        "    epochs=epochs)"
      ]
    },
    {
      "cell_type": "code",
      "execution_count": 76,
      "metadata": {
        "id": "JaJsuqVa7w1z",
        "colab": {
          "base_uri": "https://localhost:8080/",
          "height": 295
        },
        "outputId": "213330c4-d2ef-47e0-f22c-19e9b064be40"
      },
      "outputs": [
        {
          "output_type": "display_data",
          "data": {
            "text/plain": [
              "<Figure size 432x288 with 1 Axes>"
            ],
            "image/png": "[encoded data removed]"
          },
          "metadata": {
            "needs_background": "light"
          }
        }
      ],
      "source": [
        "history_dict = history_NNBest_60.history\n",
        "history_dict.keys()\n",
        "acc = history_dict['binary_accuracy']\n",
        "val_acc = history_dict['val_binary_accuracy']\n",
        "loss = history_dict['loss']\n",
        "val_loss = history_dict['val_loss']\n",
        "\n",
        "epochs = range(1, len(acc) + 1)\n",
        "\n",
        "plt.plot(epochs, acc, 'bo', label='Training acc')\n",
        "plt.plot(epochs, val_acc, 'b', label='Validation acc')\n",
        "plt.title('Training and validation accuracy')\n",
        "plt.xlabel('Epochs')\n",
        "plt.ylabel('Accuracy')\n",
        "plt.legend(loc='lower right')\n",
        "\n",
        "plt.show()"
      ]
    },
    {
      "cell_type": "markdown",
      "metadata": {
        "id": "DJ5GioVM0q_O"
      },
      "source": [
        "#### 4. 80%"
      ]
    },
    {
      "cell_type": "code",
      "execution_count": 77,
      "metadata": {
        "id": "iKksda0p7xkw",
        "colab": {
          "base_uri": "https://localhost:8080/"
        },
        "outputId": "402fa506-abc4-4bff-96bf-b213655bb82b"
      },
      "outputs": [
        {
          "output_type": "stream",
          "name": "stdout",
          "text": [
            "Found 25000 files belonging to 2 classes.\n",
            "Using 16000 files for training.\n",
            "Found 25000 files belonging to 2 classes.\n",
            "Using 5000 files for validation.\n",
            "Found 25000 files belonging to 2 classes.\n"
          ]
        }
      ],
      "source": [
        "raw_train_ds = tf.keras.utils.text_dataset_from_directory(\n",
        "    'aclImdb/train', \n",
        "    batch_size=batch_size, \n",
        "    validation_split=0.36, \n",
        "    subset='training',\n",
        "    seed=seed)\n",
        "\n",
        "raw_val_ds = tf.keras.utils.text_dataset_from_directory(\n",
        "    'aclImdb/train', \n",
        "    batch_size=batch_size, \n",
        "    validation_split=0.2, \n",
        "    subset='validation', \n",
        "    seed=seed)\n",
        "\n",
        "\n",
        "raw_test_ds = tf.keras.utils.text_dataset_from_directory(\n",
        "    'aclImdb/test', \n",
        "    batch_size=batch_size)\n",
        "\n",
        "max_features = 10000\n",
        "sequence_length = 250\n",
        "\n",
        "vectorize_layer = layers.TextVectorization(\n",
        "    standardize=custom_standardization,\n",
        "    max_tokens=max_features,\n",
        "    output_mode='int',\n",
        "    output_sequence_length=sequence_length)\n",
        "\n",
        "train_text = raw_train_ds.map(lambda x, y: x)\n",
        "vectorize_layer.adapt(train_text)\n",
        "\n",
        "train_ds = raw_train_ds.map(vectorize_text)\n",
        "val_ds = raw_val_ds.map(vectorize_text)\n",
        "test_ds = raw_test_ds.map(vectorize_text)\n",
        "\n",
        "AUTOTUNE = tf.data.AUTOTUNE\n",
        "\n",
        "train_ds = train_ds.cache().prefetch(buffer_size=AUTOTUNE)\n",
        "val_ds = val_ds.cache().prefetch(buffer_size=AUTOTUNE)\n",
        "test_ds = test_ds.cache().prefetch(buffer_size=AUTOTUNE)"
      ]
    },
    {
      "cell_type": "code",
      "execution_count": 78,
      "metadata": {
        "id": "hjrinnNI7xkx",
        "colab": {
          "base_uri": "https://localhost:8080/"
        },
        "outputId": "a53ba2e8-15a2-4692-e01b-3fec43f2d517"
      },
      "outputs": [
        {
          "output_type": "stream",
          "name": "stdout",
          "text": [
            "Epoch 1/10\n",
            "500/500 [==============================] - 4s 6ms/step - loss: 0.7316 - binary_accuracy: 0.6179 - val_loss: 0.6531 - val_binary_accuracy: 0.6682\n",
            "Epoch 2/10\n",
            "500/500 [==============================] - 2s 4ms/step - loss: 0.5949 - binary_accuracy: 0.7009 - val_loss: 0.5655 - val_binary_accuracy: 0.7214\n",
            "Epoch 3/10\n",
            "500/500 [==============================] - 2s 4ms/step - loss: 0.5143 - binary_accuracy: 0.7527 - val_loss: 0.5093 - val_binary_accuracy: 0.7524\n",
            "Epoch 4/10\n",
            "500/500 [==============================] - 2s 4ms/step - loss: 0.4571 - binary_accuracy: 0.7911 - val_loss: 0.4684 - val_binary_accuracy: 0.7822\n",
            "Epoch 5/10\n",
            "500/500 [==============================] - 2s 4ms/step - loss: 0.4140 - binary_accuracy: 0.8194 - val_loss: 0.4373 - val_binary_accuracy: 0.7988\n",
            "Epoch 6/10\n",
            "500/500 [==============================] - 2s 4ms/step - loss: 0.3789 - binary_accuracy: 0.8411 - val_loss: 0.4120 - val_binary_accuracy: 0.8156\n",
            "Epoch 7/10\n",
            "500/500 [==============================] - 2s 4ms/step - loss: 0.3476 - binary_accuracy: 0.8574 - val_loss: 0.3921 - val_binary_accuracy: 0.8280\n",
            "Epoch 8/10\n",
            "500/500 [==============================] - 2s 4ms/step - loss: 0.3202 - binary_accuracy: 0.8720 - val_loss: 0.3756 - val_binary_accuracy: 0.8358\n",
            "Epoch 9/10\n",
            "500/500 [==============================] - 2s 4ms/step - loss: 0.2982 - binary_accuracy: 0.8824 - val_loss: 0.3627 - val_binary_accuracy: 0.8438\n",
            "Epoch 10/10\n",
            "500/500 [==============================] - 2s 4ms/step - loss: 0.2775 - binary_accuracy: 0.8916 - val_loss: 0.3522 - val_binary_accuracy: 0.8512\n"
          ]
        }
      ],
      "source": [
        "NNBest.compile(loss=losses.BinaryCrossentropy(from_logits=True),\n",
        "              optimizer='adam',\n",
        "              metrics=tf.metrics.BinaryAccuracy(threshold=0.0))\n",
        "\n",
        "epochs = 10\n",
        "history_NNBest_80 = NNBest.fit(\n",
        "    train_ds,\n",
        "    validation_data=val_ds,\n",
        "    epochs=epochs)"
      ]
    },
    {
      "cell_type": "code",
      "execution_count": 79,
      "metadata": {
        "id": "KCQZSFUR7xkx",
        "colab": {
          "base_uri": "https://localhost:8080/",
          "height": 295
        },
        "outputId": "a8cebe6b-a91f-47e9-b3c1-6cd310ab2704"
      },
      "outputs": [
        {
          "output_type": "display_data",
          "data": {
            "text/plain": [
              "<Figure size 432x288 with 1 Axes>"
            ],
            "image/png": "[encoded data removed]"
          },
          "metadata": {
            "needs_background": "light"
          }
        }
      ],
      "source": [
        "history_dict = history_NNBest_80.history\n",
        "history_dict.keys()\n",
        "acc = history_dict['binary_accuracy']\n",
        "val_acc = history_dict['val_binary_accuracy']\n",
        "loss = history_dict['loss']\n",
        "val_loss = history_dict['val_loss']\n",
        "\n",
        "epochs = range(1, len(acc) + 1)\n",
        "\n",
        "plt.plot(epochs, acc, 'bo', label='Training acc')\n",
        "plt.plot(epochs, val_acc, 'b', label='Validation acc')\n",
        "plt.title('Training and validation accuracy')\n",
        "plt.xlabel('Epochs')\n",
        "plt.ylabel('Accuracy')\n",
        "plt.legend(loc='lower right')\n",
        "\n",
        "plt.show()"
      ]
    },
    {
      "cell_type": "markdown",
      "metadata": {
        "id": "VcuKRH0A0q_Q"
      },
      "source": [
        "#### 5. 100%"
      ]
    },
    {
      "cell_type": "code",
      "execution_count": 80,
      "metadata": {
        "id": "zxy50uPI7yfz",
        "colab": {
          "base_uri": "https://localhost:8080/"
        },
        "outputId": "74e64240-d55a-453d-ca99-3f601d464856"
      },
      "outputs": [
        {
          "output_type": "stream",
          "name": "stdout",
          "text": [
            "Found 25000 files belonging to 2 classes.\n",
            "Using 20000 files for training.\n",
            "Found 25000 files belonging to 2 classes.\n",
            "Using 5000 files for validation.\n",
            "Found 25000 files belonging to 2 classes.\n"
          ]
        }
      ],
      "source": [
        "raw_train_ds = tf.keras.utils.text_dataset_from_directory(\n",
        "    'aclImdb/train', \n",
        "    batch_size=batch_size, \n",
        "    validation_split=0.2, \n",
        "    subset='training',\n",
        "    seed=seed)\n",
        "\n",
        "raw_val_ds = tf.keras.utils.text_dataset_from_directory(\n",
        "    'aclImdb/train', \n",
        "    batch_size=batch_size, \n",
        "    validation_split=0.2, \n",
        "    subset='validation', \n",
        "    seed=seed)\n",
        "\n",
        "\n",
        "raw_test_ds = tf.keras.utils.text_dataset_from_directory(\n",
        "    'aclImdb/test', \n",
        "    batch_size=batch_size)\n",
        "\n",
        "max_features = 10000\n",
        "sequence_length = 250\n",
        "\n",
        "vectorize_layer = layers.TextVectorization(\n",
        "    standardize=custom_standardization,\n",
        "    max_tokens=max_features,\n",
        "    output_mode='int',\n",
        "    output_sequence_length=sequence_length)\n",
        "\n",
        "train_text = raw_train_ds.map(lambda x, y: x)\n",
        "vectorize_layer.adapt(train_text)\n",
        "\n",
        "train_ds = raw_train_ds.map(vectorize_text)\n",
        "val_ds = raw_val_ds.map(vectorize_text)\n",
        "test_ds = raw_test_ds.map(vectorize_text)\n",
        "\n",
        "AUTOTUNE = tf.data.AUTOTUNE\n",
        "\n",
        "train_ds = train_ds.cache().prefetch(buffer_size=AUTOTUNE)\n",
        "val_ds = val_ds.cache().prefetch(buffer_size=AUTOTUNE)\n",
        "test_ds = test_ds.cache().prefetch(buffer_size=AUTOTUNE)"
      ]
    },
    {
      "cell_type": "code",
      "execution_count": 81,
      "metadata": {
        "id": "T8imQhvY7yf0",
        "colab": {
          "base_uri": "https://localhost:8080/"
        },
        "outputId": "e525163b-6513-42e3-866c-d99d7ff8207a"
      },
      "outputs": [
        {
          "output_type": "stream",
          "name": "stdout",
          "text": [
            "Epoch 1/10\n",
            "625/625 [==============================] - 4s 6ms/step - loss: 0.6400 - binary_accuracy: 0.6806 - val_loss: 0.5868 - val_binary_accuracy: 0.7124\n",
            "Epoch 2/10\n",
            "625/625 [==============================] - 2s 3ms/step - loss: 0.5281 - binary_accuracy: 0.7456 - val_loss: 0.5135 - val_binary_accuracy: 0.7536\n",
            "Epoch 3/10\n",
            "625/625 [==============================] - 2s 3ms/step - loss: 0.4609 - binary_accuracy: 0.7886 - val_loss: 0.4671 - val_binary_accuracy: 0.7796\n",
            "Epoch 4/10\n",
            "625/625 [==============================] - 2s 3ms/step - loss: 0.4136 - binary_accuracy: 0.8196 - val_loss: 0.4338 - val_binary_accuracy: 0.7984\n",
            "Epoch 5/10\n",
            "625/625 [==============================] - 2s 3ms/step - loss: 0.3800 - binary_accuracy: 0.8403 - val_loss: 0.4086 - val_binary_accuracy: 0.8124\n",
            "Epoch 6/10\n",
            "625/625 [==============================] - 2s 3ms/step - loss: 0.3501 - binary_accuracy: 0.8561 - val_loss: 0.3890 - val_binary_accuracy: 0.8268\n",
            "Epoch 7/10\n",
            "625/625 [==============================] - 2s 3ms/step - loss: 0.3263 - binary_accuracy: 0.8692 - val_loss: 0.3731 - val_binary_accuracy: 0.8336\n",
            "Epoch 8/10\n",
            "625/625 [==============================] - 2s 3ms/step - loss: 0.3041 - binary_accuracy: 0.8782 - val_loss: 0.3604 - val_binary_accuracy: 0.8428\n",
            "Epoch 9/10\n",
            "625/625 [==============================] - 2s 3ms/step - loss: 0.2846 - binary_accuracy: 0.8882 - val_loss: 0.3505 - val_binary_accuracy: 0.8494\n",
            "Epoch 10/10\n",
            "625/625 [==============================] - 2s 3ms/step - loss: 0.2678 - binary_accuracy: 0.8968 - val_loss: 0.3423 - val_binary_accuracy: 0.8534\n"
          ]
        }
      ],
      "source": [
        "NNBest.compile(loss=losses.BinaryCrossentropy(from_logits=True),\n",
        "              optimizer='adam',\n",
        "              metrics=tf.metrics.BinaryAccuracy(threshold=0.0))\n",
        "\n",
        "epochs = 10\n",
        "history_NNBest_100 = NNBest.fit(\n",
        "    train_ds,\n",
        "    validation_data=val_ds,\n",
        "    epochs=epochs)"
      ]
    },
    {
      "cell_type": "code",
      "execution_count": 82,
      "metadata": {
        "id": "Mdi_AL-s7yf0",
        "colab": {
          "base_uri": "https://localhost:8080/",
          "height": 295
        },
        "outputId": "b86a9f39-bfeb-4567-85da-e306731593bc"
      },
      "outputs": [
        {
          "output_type": "display_data",
          "data": {
            "text/plain": [
              "<Figure size 432x288 with 1 Axes>"
            ],
            "image/png": "[encoded data removed]"
          },
          "metadata": {
            "needs_background": "light"
          }
        }
      ],
      "source": [
        "history_dict = history_NNBest_100.history\n",
        "history_dict.keys()\n",
        "acc = history_dict['binary_accuracy']\n",
        "val_acc = history_dict['val_binary_accuracy']\n",
        "loss = history_dict['loss']\n",
        "val_loss = history_dict['val_loss']\n",
        "\n",
        "epochs = range(1, len(acc) + 1)\n",
        "\n",
        "plt.plot(epochs, acc, 'bo', label='Training acc')\n",
        "plt.plot(epochs, val_acc, 'b', label='Validation acc')\n",
        "plt.title('Training and validation accuracy')\n",
        "plt.xlabel('Epochs')\n",
        "plt.ylabel('Accuracy')\n",
        "plt.legend(loc='lower right')\n",
        "\n",
        "plt.show()"
      ]
    },
    {
      "cell_type": "markdown",
      "metadata": {
        "id": "VybkQSSM0q_T"
      },
      "source": [
        "* Accuracy of model when training with 100% data is highest."
      ]
    },
    {
      "cell_type": "markdown",
      "metadata": {
        "id": "VlEMrF-W1hLq"
      },
      "source": [
        "# Task 5"
      ]
    },
    {
      "cell_type": "markdown",
      "metadata": {
        "id": "oHDx4Aq20q_T"
      },
      "source": [
        "#### BERT model"
      ]
    },
    {
      "cell_type": "code",
      "execution_count": 83,
      "metadata": {
        "id": "6GQjV4OIXzBr",
        "colab": {
          "base_uri": "https://localhost:8080/"
        },
        "outputId": "b41bbc63-07e2-4ba0-87b1-812a0f185646"
      },
      "outputs": [
        {
          "output_type": "stream",
          "name": "stdout",
          "text": [
            "\u001b[K     |████████████████████████████████| 4.6 MB 4.7 MB/s \n",
            "\u001b[?25h"
          ]
        }
      ],
      "source": [
        "# A dependency of the preprocessing for BERT inputs\n",
        "!pip install -q -U \"tensorflow-text==2.9.0\""
      ]
    },
    {
      "cell_type": "code",
      "execution_count": 84,
      "metadata": {
        "id": "QqRA1wAQMQL-",
        "colab": {
          "base_uri": "https://localhost:8080/"
        },
        "outputId": "c0d9efe9-9317-4ba7-a67b-3227fc62c1fd"
      },
      "outputs": [
        {
          "output_type": "stream",
          "name": "stdout",
          "text": [
            "\u001b[K     |████████████████████████████████| 1.8 MB 4.6 MB/s \n",
            "\u001b[K     |████████████████████████████████| 1.3 MB 73.5 MB/s \n",
            "\u001b[K     |████████████████████████████████| 238 kB 88.1 MB/s \n",
            "\u001b[K     |████████████████████████████████| 43 kB 2.6 MB/s \n",
            "\u001b[K     |████████████████████████████████| 118 kB 65.2 MB/s \n",
            "\u001b[K     |████████████████████████████████| 352 kB 66.4 MB/s \n",
            "\u001b[K     |████████████████████████████████| 99 kB 11.2 MB/s \n",
            "\u001b[K     |████████████████████████████████| 1.1 MB 60.0 MB/s \n",
            "\u001b[?25h  Building wheel for py-cpuinfo (setup.py) ... \u001b[?25l\u001b[?25hdone\n",
            "  Building wheel for seqeval (setup.py) ... \u001b[?25l\u001b[?25hdone\n"
          ]
        }
      ],
      "source": [
        "!pip install -q tf-models-official==2.7.0"
      ]
    },
    {
      "cell_type": "code",
      "execution_count": 85,
      "metadata": {
        "id": "n-ZBAxRDD0EU"
      },
      "outputs": [],
      "source": [
        "import numpy as np"
      ]
    },
    {
      "cell_type": "code",
      "execution_count": 86,
      "metadata": {
        "id": "16ZGVxisKEOT"
      },
      "outputs": [],
      "source": [
        "import tensorflow_hub as hub\n",
        "import tensorflow_text as text"
      ]
    },
    {
      "cell_type": "code",
      "execution_count": 87,
      "metadata": {
        "id": "3PeO5_OhbfBj",
        "colab": {
          "base_uri": "https://localhost:8080/"
        },
        "outputId": "8270d8db-5d10-4d1f-d525-b598345eac7a"
      },
      "outputs": [
        {
          "output_type": "stream",
          "name": "stdout",
          "text": [
            "Found 25000 files belonging to 2 classes.\n",
            "Using 20000 files for training.\n",
            "Found 25000 files belonging to 2 classes.\n",
            "Using 5000 files for validation.\n",
            "Found 25000 files belonging to 2 classes.\n"
          ]
        }
      ],
      "source": [
        "AUTOTUNE = tf.data.AUTOTUNE\n",
        "batch_size = 32\n",
        "seed = 42\n",
        "\n",
        "raw_train_ds = tf.keras.utils.text_dataset_from_directory(\n",
        "    'aclImdb/train',\n",
        "    batch_size=batch_size,\n",
        "    validation_split=0.2,\n",
        "    subset='training',\n",
        "    seed=seed)\n",
        "\n",
        "class_names = raw_train_ds.class_names\n",
        "train_ds = raw_train_ds.cache().prefetch(buffer_size=AUTOTUNE)\n",
        "\n",
        "val_ds = tf.keras.utils.text_dataset_from_directory(\n",
        "    'aclImdb/train',\n",
        "    batch_size=batch_size,\n",
        "    validation_split=0.2,\n",
        "    subset='validation',\n",
        "    seed=seed)\n",
        "\n",
        "val_ds = val_ds.cache().prefetch(buffer_size=AUTOTUNE)\n",
        "\n",
        "test_ds = tf.keras.utils.text_dataset_from_directory(\n",
        "    'aclImdb/test',\n",
        "    batch_size=batch_size)\n",
        "\n",
        "test_ds_bert = test_ds.cache().prefetch(buffer_size=AUTOTUNE)"
      ]
    },
    {
      "cell_type": "code",
      "execution_count": 88,
      "metadata": {
        "id": "A7UxOqZzJ6r_"
      },
      "outputs": [],
      "source": [
        "bert_model_name = 'small_bert/bert_en_uncased_L-4_H-512_A-8' \n",
        "\n",
        "\n",
        "tfhub_handle_encoder = 'https://tfhub.dev/tensorflow/small_bert/bert_en_uncased_L-4_H-512_A-8/1'\n",
        "tfhub_handle_preprocess = 'https://tfhub.dev/tensorflow/bert_en_uncased_preprocess/3'"
      ]
    },
    {
      "cell_type": "code",
      "execution_count": 89,
      "metadata": {
        "id": "BKmJs-uKJMu4"
      },
      "outputs": [],
      "source": [
        "bert_preprocess_model = hub.KerasLayer(tfhub_handle_preprocess)\n",
        "bert_model = hub.KerasLayer(tfhub_handle_encoder)"
      ]
    },
    {
      "cell_type": "code",
      "execution_count": 90,
      "metadata": {
        "id": "23B7408JKZsh"
      },
      "outputs": [],
      "source": [
        "def build_classifier_model(dropout_value):\n",
        "  text_input = tf.keras.layers.Input(shape=(), dtype=tf.string, name='text')\n",
        "  preprocessing_layer = hub.KerasLayer(tfhub_handle_preprocess, name='preprocessing')\n",
        "  encoder_inputs = preprocessing_layer(text_input)\n",
        "  encoder = hub.KerasLayer(tfhub_handle_encoder, trainable=True, name='BERT_encoder')\n",
        "  outputs = encoder(encoder_inputs)\n",
        "  net = outputs['pooled_output']\n",
        "  net = tf.keras.layers.Dropout(dropout_value)(net)\n",
        "  net = tf.keras.layers.Dense(1, activation=None, name='classifier')(net)\n",
        "  return tf.keras.Model(text_input, net)"
      ]
    },
    {
      "cell_type": "code",
      "execution_count": 91,
      "metadata": {
        "id": "IPfYMM6hKjeb"
      },
      "outputs": [],
      "source": [
        "BERTi = build_classifier_model(dropout_value=0.1)\n",
        "BERTii = build_classifier_model(dropout_value=0.2)\n",
        "BERTiii = build_classifier_model(dropout_value=0.6)"
      ]
    },
    {
      "cell_type": "code",
      "execution_count": 92,
      "metadata": {
        "id": "90ReoffpMCML"
      },
      "outputs": [],
      "source": [
        "loss = tf.keras.losses.BinaryCrossentropy(from_logits=True)\n",
        "metrics = tf.metrics.BinaryAccuracy()"
      ]
    },
    {
      "cell_type": "code",
      "execution_count": 93,
      "metadata": {
        "id": "8M_IdQxfMCON"
      },
      "outputs": [],
      "source": [
        "from official.nlp import optimization\n",
        "\n",
        "epochs = 10\n",
        "steps_per_epoch = tf.data.experimental.cardinality(train_ds).numpy()\n",
        "num_train_steps = steps_per_epoch * epochs\n",
        "num_warmup_steps = int(0.1*num_train_steps)\n",
        "\n",
        "init_lr = 3e-5\n",
        "optimizer = optimization.create_optimizer(init_lr=init_lr,\n",
        "                                          num_train_steps=num_train_steps,\n",
        "                                          num_warmup_steps=num_warmup_steps,\n",
        "                                          optimizer_type='adamw')"
      ]
    },
    {
      "cell_type": "code",
      "execution_count": 94,
      "metadata": {
        "id": "DyJcPBR_MCRK"
      },
      "outputs": [],
      "source": [
        "BERTi.compile(optimizer=optimizer, loss=loss, metrics=metrics)\n",
        "BERTii.compile(optimizer=optimizer, loss=loss, metrics=metrics)\n",
        "BERTiii.compile(optimizer=optimizer, loss=loss, metrics=metrics)"
      ]
    },
    {
      "cell_type": "code",
      "execution_count": 95,
      "metadata": {
        "id": "ZUo9U4V6MCTK",
        "colab": {
          "base_uri": "https://localhost:8080/"
        },
        "outputId": "c1ee72b1-c863-42f0-bd23-8ed81a2e3f24"
      },
      "outputs": [
        {
          "output_type": "stream",
          "name": "stdout",
          "text": [
            "Epoch 1/10\n",
            "625/625 [==============================] - 66s 95ms/step - loss: 0.5060 - binary_accuracy: 0.7225 - val_loss: 0.3876 - val_binary_accuracy: 0.8144\n",
            "Epoch 2/10\n",
            "625/625 [==============================] - 57s 91ms/step - loss: 0.3488 - binary_accuracy: 0.8425 - val_loss: 0.4126 - val_binary_accuracy: 0.8184\n",
            "Epoch 3/10\n",
            "625/625 [==============================] - 57s 91ms/step - loss: 0.2575 - binary_accuracy: 0.8936 - val_loss: 0.4352 - val_binary_accuracy: 0.8354\n",
            "Epoch 4/10\n",
            "625/625 [==============================] - 57s 91ms/step - loss: 0.1915 - binary_accuracy: 0.9258 - val_loss: 0.4835 - val_binary_accuracy: 0.8466\n",
            "Epoch 5/10\n",
            "625/625 [==============================] - 57s 91ms/step - loss: 0.1409 - binary_accuracy: 0.9506 - val_loss: 0.6137 - val_binary_accuracy: 0.8440\n",
            "Epoch 6/10\n",
            "625/625 [==============================] - 57s 91ms/step - loss: 0.1054 - binary_accuracy: 0.9646 - val_loss: 0.6638 - val_binary_accuracy: 0.8496\n",
            "Epoch 7/10\n",
            "625/625 [==============================] - 57s 91ms/step - loss: 0.0806 - binary_accuracy: 0.9754 - val_loss: 0.7644 - val_binary_accuracy: 0.8496\n",
            "Epoch 8/10\n",
            "625/625 [==============================] - 57s 91ms/step - loss: 0.0608 - binary_accuracy: 0.9817 - val_loss: 0.8072 - val_binary_accuracy: 0.8548\n",
            "Epoch 9/10\n",
            "625/625 [==============================] - 57s 91ms/step - loss: 0.0470 - binary_accuracy: 0.9869 - val_loss: 0.8590 - val_binary_accuracy: 0.8526\n",
            "Epoch 10/10\n",
            "625/625 [==============================] - 57s 91ms/step - loss: 0.0438 - binary_accuracy: 0.9875 - val_loss: 0.8692 - val_binary_accuracy: 0.8556\n"
          ]
        }
      ],
      "source": [
        "history_BERTi = BERTi.fit(train_ds, validation_data=val_ds, epochs=epochs)"
      ]
    },
    {
      "cell_type": "code",
      "execution_count": 96,
      "metadata": {
        "id": "pmrpMr_tNrzo",
        "colab": {
          "base_uri": "https://localhost:8080/"
        },
        "outputId": "e2006efa-46b5-4cf5-d5fd-0d7053749ef7"
      },
      "outputs": [
        {
          "output_type": "stream",
          "name": "stdout",
          "text": [
            "Epoch 1/10\n",
            "625/625 [==============================] - 64s 93ms/step - loss: 0.7489 - binary_accuracy: 0.5751 - val_loss: 0.7120 - val_binary_accuracy: 0.5080\n",
            "Epoch 2/10\n",
            "625/625 [==============================] - 57s 91ms/step - loss: 0.7533 - binary_accuracy: 0.5035 - val_loss: 0.7120 - val_binary_accuracy: 0.5080\n",
            "Epoch 3/10\n",
            "625/625 [==============================] - 57s 91ms/step - loss: 0.7535 - binary_accuracy: 0.5056 - val_loss: 0.7120 - val_binary_accuracy: 0.5080\n",
            "Epoch 4/10\n",
            "625/625 [==============================] - 57s 91ms/step - loss: 0.7490 - binary_accuracy: 0.5082 - val_loss: 0.7120 - val_binary_accuracy: 0.5080\n",
            "Epoch 5/10\n",
            "625/625 [==============================] - 57s 91ms/step - loss: 0.7495 - binary_accuracy: 0.5093 - val_loss: 0.7120 - val_binary_accuracy: 0.5080\n",
            "Epoch 6/10\n",
            "625/625 [==============================] - 57s 91ms/step - loss: 0.7519 - binary_accuracy: 0.5023 - val_loss: 0.7120 - val_binary_accuracy: 0.5080\n",
            "Epoch 7/10\n",
            "625/625 [==============================] - 57s 91ms/step - loss: 0.7501 - binary_accuracy: 0.5027 - val_loss: 0.7120 - val_binary_accuracy: 0.5080\n",
            "Epoch 8/10\n",
            "625/625 [==============================] - 57s 92ms/step - loss: 0.7523 - binary_accuracy: 0.5014 - val_loss: 0.7120 - val_binary_accuracy: 0.5080\n",
            "Epoch 9/10\n",
            "625/625 [==============================] - 57s 91ms/step - loss: 0.7518 - binary_accuracy: 0.4992 - val_loss: 0.7120 - val_binary_accuracy: 0.5080\n",
            "Epoch 10/10\n",
            "625/625 [==============================] - 57s 91ms/step - loss: 0.7528 - binary_accuracy: 0.5035 - val_loss: 0.7120 - val_binary_accuracy: 0.5080\n"
          ]
        }
      ],
      "source": [
        "history_BERTii = BERTii.fit(x=train_ds, validation_data=val_ds, epochs=epochs)"
      ]
    },
    {
      "cell_type": "code",
      "execution_count": 97,
      "metadata": {
        "id": "zNcOb75zNtbQ",
        "colab": {
          "base_uri": "https://localhost:8080/"
        },
        "outputId": "c8b8a5b7-8b44-477e-9df0-b879b9e5a989"
      },
      "outputs": [
        {
          "output_type": "stream",
          "name": "stdout",
          "text": [
            "Epoch 1/10\n",
            "625/625 [==============================] - 57s 91ms/step - loss: 0.7479 - binary_accuracy: 0.5104 - val_loss: 0.7120 - val_binary_accuracy: 0.5080\n",
            "Epoch 2/10\n",
            "625/625 [==============================] - 57s 91ms/step - loss: 0.7515 - binary_accuracy: 0.5056 - val_loss: 0.7120 - val_binary_accuracy: 0.5080\n",
            "Epoch 3/10\n",
            "625/625 [==============================] - 57s 91ms/step - loss: 0.7482 - binary_accuracy: 0.5066 - val_loss: 0.7120 - val_binary_accuracy: 0.5080\n",
            "Epoch 4/10\n",
            "625/625 [==============================] - 57s 91ms/step - loss: 0.7545 - binary_accuracy: 0.5017 - val_loss: 0.7120 - val_binary_accuracy: 0.5080\n",
            "Epoch 5/10\n",
            "625/625 [==============================] - 57s 91ms/step - loss: 0.7542 - binary_accuracy: 0.4974 - val_loss: 0.7120 - val_binary_accuracy: 0.5080\n",
            "Epoch 6/10\n",
            "625/625 [==============================] - 57s 91ms/step - loss: 0.7549 - binary_accuracy: 0.4965 - val_loss: 0.7120 - val_binary_accuracy: 0.5080\n",
            "Epoch 7/10\n",
            "625/625 [==============================] - 57s 91ms/step - loss: 0.7529 - binary_accuracy: 0.5036 - val_loss: 0.7120 - val_binary_accuracy: 0.5080\n",
            "Epoch 8/10\n",
            "625/625 [==============================] - 57s 91ms/step - loss: 0.7503 - binary_accuracy: 0.5036 - val_loss: 0.7120 - val_binary_accuracy: 0.5080\n",
            "Epoch 9/10\n",
            "625/625 [==============================] - 57s 91ms/step - loss: 0.7518 - binary_accuracy: 0.5039 - val_loss: 0.7120 - val_binary_accuracy: 0.5080\n",
            "Epoch 10/10\n",
            "625/625 [==============================] - 57s 91ms/step - loss: 0.7521 - binary_accuracy: 0.5053 - val_loss: 0.7120 - val_binary_accuracy: 0.5080\n"
          ]
        }
      ],
      "source": [
        "history_BERTiii = BERTii.fit(x=train_ds, validation_data=val_ds, epochs=epochs)"
      ]
    },
    {
      "cell_type": "code",
      "execution_count": 98,
      "metadata": {
        "id": "_inJADMVMCWd",
        "colab": {
          "base_uri": "https://localhost:8080/"
        },
        "outputId": "a11dfd07-a233-4f95-cbef-db0cc80ed88d"
      },
      "outputs": [
        {
          "output_type": "stream",
          "name": "stdout",
          "text": [
            "782/782 [==============================] - 47s 61ms/step - loss: 0.8703 - binary_accuracy: 0.8546\n",
            "Loss: 0.8702930212020874\n",
            "Accuracy: 0.8545600175857544\n"
          ]
        }
      ],
      "source": [
        "loss, accuracy = BERTi.evaluate(test_ds_bert)\n",
        "\n",
        "print(f'Loss: {loss}')\n",
        "print(f'Accuracy: {accuracy}')"
      ]
    },
    {
      "cell_type": "code",
      "execution_count": 99,
      "metadata": {
        "id": "RnG_DZxdNo9g",
        "colab": {
          "base_uri": "https://localhost:8080/"
        },
        "outputId": "5dd1de65-0dce-4ac3-e4db-6cc49e36b7cc"
      },
      "outputs": [
        {
          "output_type": "stream",
          "name": "stdout",
          "text": [
            "782/782 [==============================] - 45s 58ms/step - loss: 0.7167 - binary_accuracy: 0.5099\n",
            "Loss: 0.7167344689369202\n",
            "Accuracy: 0.509880006313324\n"
          ]
        }
      ],
      "source": [
        "loss, accuracy = BERTii.evaluate(test_ds_bert)\n",
        "\n",
        "print(f'Loss: {loss}')\n",
        "print(f'Accuracy: {accuracy}')"
      ]
    },
    {
      "cell_type": "code",
      "execution_count": 100,
      "metadata": {
        "id": "wemJn4YKNppg",
        "colab": {
          "base_uri": "https://localhost:8080/"
        },
        "outputId": "fa5014ac-0b5b-49a0-b1af-92319147c833"
      },
      "outputs": [
        {
          "output_type": "stream",
          "name": "stdout",
          "text": [
            "782/782 [==============================] - 46s 58ms/step - loss: 0.7093 - binary_accuracy: 0.5055\n",
            "Loss: 0.7093488574028015\n",
            "Accuracy: 0.5055000185966492\n"
          ]
        }
      ],
      "source": [
        "loss, accuracy = BERTiii.evaluate(test_ds_bert)\n",
        "\n",
        "print(f'Loss: {loss}')\n",
        "print(f'Accuracy: {accuracy}')"
      ]
    },
    {
      "cell_type": "markdown",
      "metadata": {
        "id": "j2QwVWGZ88tW"
      },
      "source": [
        "* Model Berti's accuracy is about 0.85 but both Bertii and Bertiii accuracy are 0.77. So that Berti is best model.\n",
        "* NNBest accuracy start from 0.77 to 0.85 but Berti model has 0.85 as the first epoch, so that Berti model better than NNBest model"
      ]
    },
    {
      "cell_type": "markdown",
      "metadata": {
        "id": "Vk2jAUO61n1a"
      },
      "source": [
        "# Task 6"
      ]
    },
    {
      "cell_type": "markdown",
      "metadata": {
        "id": "ww8_Diwb0q_e"
      },
      "source": [
        "#### Change your NNBest model to apply dropout at test time"
      ]
    },
    {
      "cell_type": "code",
      "execution_count": 101,
      "metadata": {
        "id": "sX6m06Zs0q_e"
      },
      "outputs": [],
      "source": [
        "test_ds_bert = test_ds.cache().prefetch(buffer_size=AUTOTUNE)"
      ]
    },
    {
      "cell_type": "code",
      "execution_count": 102,
      "metadata": {
        "id": "m6yLHycO-lRw"
      },
      "outputs": [],
      "source": [
        "data_test_bert = [[example.numpy(), label.numpy()] for example, label in test_ds_bert]"
      ]
    },
    {
      "cell_type": "code",
      "execution_count": 103,
      "metadata": {
        "id": "h2AY6qnqCNa1",
        "colab": {
          "base_uri": "https://localhost:8080/"
        },
        "outputId": "49be4a81-8f5b-4940-e080-67ef0feda751"
      },
      "outputs": [
        {
          "output_type": "stream",
          "name": "stderr",
          "text": [
            "/usr/local/lib/python3.7/dist-packages/ipykernel_launcher.py:1: VisibleDeprecationWarning: Creating an ndarray from ragged nested sequences (which is a list-or-tuple of lists-or-tuples-or ndarrays with different lengths or shapes) is deprecated. If you meant to do this, you must specify 'dtype=object' when creating the ndarray.\n",
            "  \"\"\"Entry point for launching an IPython kernel.\n",
            "/usr/local/lib/python3.7/dist-packages/ipykernel_launcher.py:2: VisibleDeprecationWarning: Creating an ndarray from ragged nested sequences (which is a list-or-tuple of lists-or-tuples-or ndarrays with different lengths or shapes) is deprecated. If you meant to do this, you must specify 'dtype=object' when creating the ndarray.\n",
            "  \n"
          ]
        }
      ],
      "source": [
        "data_test_data = np.concatenate(np.array(data_test_bert)[:, 0])\n",
        "data_test_label = np.concatenate(np.array(data_test_bert)[:, 1])"
      ]
    },
    {
      "cell_type": "code",
      "execution_count": 105,
      "metadata": {
        "id": "5w38nimf_GGU"
      },
      "outputs": [],
      "source": [
        "pos_data_test = []\n",
        "neg_data_test = []\n",
        "for data, label in zip(data_test_data, data_test_label):\n",
        "  if label==0:\n",
        "    pos_data_test.append(data)\n",
        "  else:\n",
        "    neg_data_test.append(data)"
      ]
    },
    {
      "cell_type": "code",
      "execution_count": 106,
      "metadata": {
        "id": "twwdI6KcEtAT"
      },
      "outputs": [],
      "source": [
        "export_NNBest = tf.keras.Sequential([\n",
        "  vectorize_layer,\n",
        "  NNBest,\n",
        "  layers.Activation('sigmoid')\n",
        "])\n",
        "\n",
        "export_NNBest.compile(\n",
        "    loss=losses.BinaryCrossentropy(from_logits=False), optimizer=\"adam\", metrics=['accuracy']\n",
        ")"
      ]
    },
    {
      "cell_type": "code",
      "execution_count": 107,
      "metadata": {
        "id": "VJdQudZx6zEU"
      },
      "outputs": [],
      "source": [
        "y_probas = np.stack([export_NNBest.predict(pos_data_test[:5], verbose=0) for sample in range(10)])\n",
        "y_proba_pos_NNBestDrop = y_probas.mean(axis=0)\n",
        "\n",
        "y_probas = np.stack([export_NNBest.predict(neg_data_test[:5], verbose=0) for sample in range(10)])\n",
        "y_proba_neg_NNBestDrop = y_probas.mean(axis=0)"
      ]
    },
    {
      "cell_type": "code",
      "execution_count": 108,
      "metadata": {
        "id": "MzpXW8WItcGn"
      },
      "outputs": [],
      "source": [
        "y_probas_pos_NNBest = export_NNBest.predict(pos_data_test[:5], verbose=0)\n",
        "y_probas_neg_NNBest = export_NNBest.predict(neg_data_test[:5], verbose=0)"
      ]
    },
    {
      "cell_type": "markdown",
      "metadata": {
        "id": "zpEUWuYWFTIS"
      },
      "source": [
        "#### Comparison"
      ]
    },
    {
      "cell_type": "code",
      "execution_count": 109,
      "metadata": {
        "id": "ref83OtzTkcB",
        "colab": {
          "base_uri": "https://localhost:8080/"
        },
        "outputId": "4df8ce3d-c251-4ffd-b77a-c791aa1b5cc7"
      },
      "outputs": [
        {
          "output_type": "execute_result",
          "data": {
            "text/plain": [
              "array([[5.3819269e-01],\n",
              "       [9.7358748e-03],\n",
              "       [1.1174929e-03],\n",
              "       [4.4951950e-05],\n",
              "       [4.7954302e-02]], dtype=float32)"
            ]
          },
          "metadata": {},
          "execution_count": 109
        }
      ],
      "source": [
        "y_probas_pos_NNBest"
      ]
    },
    {
      "cell_type": "code",
      "execution_count": 110,
      "metadata": {
        "id": "WZCCIcaxTkfb",
        "colab": {
          "base_uri": "https://localhost:8080/"
        },
        "outputId": "873a6e42-5ad3-4bae-e686-276a7a66f332"
      },
      "outputs": [
        {
          "output_type": "execute_result",
          "data": {
            "text/plain": [
              "array([[5.3819269e-01],\n",
              "       [9.7358748e-03],\n",
              "       [1.1174929e-03],\n",
              "       [4.4951947e-05],\n",
              "       [4.7954299e-02]], dtype=float32)"
            ]
          },
          "metadata": {},
          "execution_count": 110
        }
      ],
      "source": [
        "y_proba_pos_NNBestDrop"
      ]
    },
    {
      "cell_type": "markdown",
      "metadata": {
        "id": "dfbyXAp8olU5"
      },
      "source": [
        "*Don*'t have different between NNBestDrop and NNBest on positive prediction"
      ]
    },
    {
      "cell_type": "code",
      "execution_count": 111,
      "metadata": {
        "id": "tNf9joXwFSyk",
        "colab": {
          "base_uri": "https://localhost:8080/"
        },
        "outputId": "616ea5a5-e422-47d7-9614-a6db33308564"
      },
      "outputs": [
        {
          "output_type": "execute_result",
          "data": {
            "text/plain": [
              "array([[0.9952009 ],\n",
              "       [0.93458116],\n",
              "       [0.8718079 ],\n",
              "       [0.9805588 ],\n",
              "       [0.27151003]], dtype=float32)"
            ]
          },
          "metadata": {},
          "execution_count": 111
        }
      ],
      "source": [
        "y_probas_neg_NNBest"
      ]
    },
    {
      "cell_type": "code",
      "execution_count": 112,
      "metadata": {
        "id": "LqCg70kpFYNh",
        "colab": {
          "base_uri": "https://localhost:8080/"
        },
        "outputId": "30bd57b3-e760-49b5-f437-9b9dd00873f5"
      },
      "outputs": [
        {
          "output_type": "execute_result",
          "data": {
            "text/plain": [
              "array([[0.995201  ],\n",
              "       [0.93458116],\n",
              "       [0.87180793],\n",
              "       [0.98055875],\n",
              "       [0.27151006]], dtype=float32)"
            ]
          },
          "metadata": {},
          "execution_count": 112
        }
      ],
      "source": [
        "y_proba_neg_NNBestDrop"
      ]
    },
    {
      "cell_type": "markdown",
      "metadata": {
        "id": "TlpHMNaroxGt"
      },
      "source": [
        "#### models predict wrong neg[0] and neg[1], so we will check these texts"
      ]
    },
    {
      "cell_type": "code",
      "execution_count": 113,
      "metadata": {
        "id": "PLMeBCAlVVGY",
        "colab": {
          "base_uri": "https://localhost:8080/"
        },
        "outputId": "f934f692-c24e-49c9-e62f-c4e6e66a3d89"
      },
      "outputs": [
        {
          "output_type": "execute_result",
          "data": {
            "text/plain": [
              "b\"My family truly enjoyed this movie. As far as what this movie will do for Rugby in the USA...well I am sure that will be debatable. But as for me and others around me, I know that we were more curious about the sport after seeing the movie and I personally gained more respect for the game. You may wonder how this possible, especially since the movie does not dive in and explain Rugby. But the simple fact is it drew you into the players and emotion of the game and life. The film was inspirational as well as entertaining. It made us laugh and cry. The chemistry between Sean Astin, Big Budah and Sean Faris worked well. Some may think the movie is a little clich\\xc3\\xa9, but I seriously wish Hollywood made more movies like this. I couldn't help drawing analogies of the game and life's struggles. At the end of it I found myself examining my own life to see what I needed to do better, in order to be the best person I could be. Honestly I was grateful this movie taught morals, values and teamwork, there is so much to the contrary. After watching this I really hope my kids are coached by someone who has a philosophy like Coach Gelwix.\""
            ]
          },
          "metadata": {},
          "execution_count": 113
        }
      ],
      "source": [
        "neg_data_test[0]"
      ]
    },
    {
      "cell_type": "code",
      "execution_count": 114,
      "metadata": {
        "id": "M86VTsHZVWfe",
        "colab": {
          "base_uri": "https://localhost:8080/"
        },
        "outputId": "868e20ba-59ec-4b8d-cee5-858222b8b2a8"
      },
      "outputs": [
        {
          "output_type": "execute_result",
          "data": {
            "text/plain": [
              "b\"I really liked this movie. If other people want to give it an average around 5.0/10 that's their choice. I would give it 10/10. Sutherland's performance as a private eye is totally awesome. The story is amazing, human, exciting, intelligent. The dialogue is good. The story might not be perfect but anyway - the mood of the movie is good enough to compensate for that. Moreover, the ending is incredibly cool and their the jig-saw puzzle really comes back to together. So anyway I liked it. I also thought the female lead actress performed very well. I'm not a big fan of detective movies but this one was really good, also because it doesn't give a damn about conventions of the supernatural.\""
            ]
          },
          "metadata": {},
          "execution_count": 114
        }
      ],
      "source": [
        "neg_data_test[3]"
      ]
    },
    {
      "cell_type": "markdown",
      "metadata": {
        "id": "z8isNpxB1s3b"
      },
      "source": [
        "# Task 7"
      ]
    },
    {
      "cell_type": "markdown",
      "metadata": {
        "id": "lt068u7s0q_n"
      },
      "source": [
        "Find the 20 most positive and 20 most negative reviews from the test set under the best model NNBest"
      ]
    },
    {
      "cell_type": "code",
      "execution_count": 115,
      "metadata": {
        "id": "NNOLjOCQ6zSs"
      },
      "outputs": [],
      "source": [
        "y_probas_pos_NNBest = export_NNBest.predict(pos_data_test, verbose=0)\n",
        "y_probas_neg_NNBest = export_NNBest.predict(neg_data_test, verbose=0)"
      ]
    },
    {
      "cell_type": "code",
      "execution_count": 116,
      "metadata": {
        "id": "X5BR2VEmFwfj"
      },
      "outputs": [],
      "source": [
        "y_probas_pos_NNBest_correctly, most_pos_data_test_correctly = zip(*sorted(zip(y_probas_pos_NNBest, pos_data_test))[:20])\n",
        "y_probas_neg_NNBest_correctly, most_neg_data_test_correctly = zip(*sorted(zip(y_probas_neg_NNBest, neg_data_test), reverse=True)[:20])"
      ]
    },
    {
      "cell_type": "code",
      "execution_count": 117,
      "metadata": {
        "id": "9XpoAyBhvF1K"
      },
      "outputs": [],
      "source": [
        "y_probas = np.stack([export_NNBest.predict(most_pos_data_test_correctly, verbose=0) for sample in range(10)])\n",
        "y_proba_pos_NNBestDrop_correctly = y_probas.mean(axis=0)\n",
        "\n",
        "y_probas = np.stack([export_NNBest.predict(most_neg_data_test_correctly, verbose=0) for sample in range(10)])\n",
        "y_proba_neg_NNBestDrop_correctly = y_probas.mean(axis=0)"
      ]
    },
    {
      "cell_type": "code",
      "execution_count": 118,
      "metadata": {
        "id": "H7qWSQ_DTRbi",
        "colab": {
          "base_uri": "https://localhost:8080/"
        },
        "outputId": "8768f630-5dfb-4f30-a33c-37e237d62740"
      },
      "outputs": [
        {
          "output_type": "execute_result",
          "data": {
            "text/plain": [
              "(array([2.8360216e-07], dtype=float32),\n",
              " array([3.0012404e-07], dtype=float32),\n",
              " array([8.116192e-07], dtype=float32),\n",
              " array([8.2804377e-07], dtype=float32),\n",
              " array([1.1238752e-06], dtype=float32),\n",
              " array([1.9456068e-06], dtype=float32),\n",
              " array([2.7330643e-06], dtype=float32),\n",
              " array([2.8251534e-06], dtype=float32),\n",
              " array([3.8191342e-06], dtype=float32),\n",
              " array([4.3541963e-06], dtype=float32),\n",
              " array([4.3626465e-06], dtype=float32),\n",
              " array([4.537027e-06], dtype=float32),\n",
              " array([4.537027e-06], dtype=float32),\n",
              " array([4.724149e-06], dtype=float32),\n",
              " array([5.0333633e-06], dtype=float32),\n",
              " array([5.236405e-06], dtype=float32),\n",
              " array([5.4132393e-06], dtype=float32),\n",
              " array([6.113862e-06], dtype=float32),\n",
              " array([6.4340043e-06], dtype=float32),\n",
              " array([6.8440363e-06], dtype=float32))"
            ]
          },
          "metadata": {},
          "execution_count": 118
        }
      ],
      "source": [
        "y_probas_pos_NNBest_correctly"
      ]
    },
    {
      "cell_type": "markdown",
      "metadata": {
        "id": "PVvRC1yApSsw"
      },
      "source": [
        "Don't have different between NNBestDrop and NNBest on top 20 most positive prediction"
      ]
    },
    {
      "cell_type": "code",
      "execution_count": 119,
      "metadata": {
        "id": "1SrfOcWuTRih",
        "colab": {
          "base_uri": "https://localhost:8080/"
        },
        "outputId": "c211eb37-702b-4053-8251-6c0a30a518f9"
      },
      "outputs": [
        {
          "output_type": "execute_result",
          "data": {
            "text/plain": [
              "array([[2.8360219e-07],\n",
              "       [3.0012407e-07],\n",
              "       [8.1161932e-07],\n",
              "       [8.2804388e-07],\n",
              "       [1.1238752e-06],\n",
              "       [1.9456070e-06],\n",
              "       [2.7330643e-06],\n",
              "       [2.8251532e-06],\n",
              "       [3.8191347e-06],\n",
              "       [4.3541959e-06],\n",
              "       [4.3626465e-06],\n",
              "       [4.5370266e-06],\n",
              "       [4.5370266e-06],\n",
              "       [4.7241488e-06],\n",
              "       [5.0333629e-06],\n",
              "       [5.2364048e-06],\n",
              "       [5.4132393e-06],\n",
              "       [6.1138626e-06],\n",
              "       [6.4340047e-06],\n",
              "       [6.8440359e-06]], dtype=float32)"
            ]
          },
          "metadata": {},
          "execution_count": 119
        }
      ],
      "source": [
        "y_proba_pos_NNBestDrop_correctly"
      ]
    },
    {
      "cell_type": "code",
      "execution_count": 120,
      "metadata": {
        "id": "EwZfn5CITKpS",
        "colab": {
          "base_uri": "https://localhost:8080/"
        },
        "outputId": "aeeee2e0-c219-4b5c-b9b6-4bdd31f82f0e"
      },
      "outputs": [
        {
          "output_type": "execute_result",
          "data": {
            "text/plain": [
              "array([[2.8360219e-07],\n",
              "       [3.0012407e-07],\n",
              "       [8.1161932e-07],\n",
              "       [8.2804388e-07],\n",
              "       [1.1238752e-06],\n",
              "       [1.9456070e-06],\n",
              "       [2.7330643e-06],\n",
              "       [2.8251532e-06],\n",
              "       [3.8191347e-06],\n",
              "       [4.3541959e-06],\n",
              "       [4.3626465e-06],\n",
              "       [4.5370266e-06],\n",
              "       [4.5370266e-06],\n",
              "       [4.7241488e-06],\n",
              "       [5.0333629e-06],\n",
              "       [5.2364048e-06],\n",
              "       [5.4132393e-06],\n",
              "       [6.1138626e-06],\n",
              "       [6.4340047e-06],\n",
              "       [6.8440359e-06]], dtype=float32)"
            ]
          },
          "metadata": {},
          "execution_count": 120
        }
      ],
      "source": [
        "y_proba_pos_NNBestDrop_correctly"
      ]
    },
    {
      "cell_type": "code",
      "execution_count": 121,
      "metadata": {
        "id": "5CVQ_G3wTHjW",
        "colab": {
          "base_uri": "https://localhost:8080/"
        },
        "outputId": "49e04fe7-120f-4544-dbc9-e38cc24a089d"
      },
      "outputs": [
        {
          "output_type": "execute_result",
          "data": {
            "text/plain": [
              "array([[0.9999999 ],\n",
              "       [0.99999845],\n",
              "       [0.9999975 ],\n",
              "       [0.9999887 ],\n",
              "       [0.99998844],\n",
              "       [0.99997914],\n",
              "       [0.99997675],\n",
              "       [0.99997485],\n",
              "       [0.9999676 ],\n",
              "       [0.9999572 ],\n",
              "       [0.9999417 ],\n",
              "       [0.9999405 ],\n",
              "       [0.9999355 ],\n",
              "       [0.9999281 ],\n",
              "       [0.9999279 ],\n",
              "       [0.99992526],\n",
              "       [0.9999161 ],\n",
              "       [0.9999145 ],\n",
              "       [0.9999119 ],\n",
              "       [0.99989617]], dtype=float32)"
            ]
          },
          "metadata": {},
          "execution_count": 121
        }
      ],
      "source": [
        "y_proba_neg_NNBestDrop_correctly"
      ]
    },
    {
      "cell_type": "markdown",
      "metadata": {
        "id": "4a1VbJt5piXR"
      },
      "source": [
        "* As we can see model NNBestDrop accurate than NNBest model."
      ]
    },
    {
      "cell_type": "markdown",
      "metadata": {
        "id": "euaZAwOVHABI"
      },
      "source": [
        "#### Repeat the above, but for the 20 most positive and 20 most negative reviews under the best model NNBest that are incorrectly classified.\n"
      ]
    },
    {
      "cell_type": "code",
      "execution_count": 122,
      "metadata": {
        "id": "hy-AsVpQHDkA"
      },
      "outputs": [],
      "source": [
        "y_probas_pos_NNBest_incorrectly, most_pos_data_test_incorrectly = zip(*sorted(zip(y_probas_pos_NNBest, pos_data_test), reverse=True)[:20])\n",
        "y_probas_neg_NNBest_incorrectly, most_neg_data_test_incorrectly = zip(*sorted(zip(y_probas_neg_NNBest, neg_data_test))[:20])"
      ]
    },
    {
      "cell_type": "code",
      "execution_count": 123,
      "metadata": {
        "id": "lgp-DCigHpYP"
      },
      "outputs": [],
      "source": [
        "y_probas = np.stack([export_NNBest.predict(most_pos_data_test_incorrectly, verbose=0) for sample in range(10)])\n",
        "y_proba_pos_NNBestDrop_incorrectly = y_probas.mean(axis=0)\n",
        "\n",
        "y_probas = np.stack([export_NNBest.predict(most_neg_data_test_incorrectly, verbose=0) for sample in range(10)])\n",
        "y_proba_neg_NNBestDrop_incorrectly = y_probas.mean(axis=0)"
      ]
    },
    {
      "cell_type": "code",
      "execution_count": null,
      "metadata": {
        "id": "AiawHcQrVggg"
      },
      "outputs": [],
      "source": [
        "most_pos_data_test_incorrectly[0]"
      ]
    },
    {
      "cell_type": "code",
      "execution_count": 125,
      "metadata": {
        "id": "Q_UBhW1MVhUR",
        "colab": {
          "base_uri": "https://localhost:8080/"
        },
        "outputId": "2cd648bc-fc63-4eb3-d2f7-64007dbd160f"
      },
      "outputs": [
        {
          "output_type": "execute_result",
          "data": {
            "text/plain": [
              "b'My buddies and I spent the majority of a Saturday afternoon watching a selection of \"bad\" movies. Among the flicks we watched, the strongest contender (for quality bad-movie fare) was easily Jack-O. It\\'s ludicrous that movies such as \"Gigli\", \"Glitter\" and \"You Got Served\" are listed in IMDBs bottom 100. While they\\'re certainly bad movies, they don\\'t belong in the bottom 100. They\\'re robbing \"Jack-O\", and \"Keeper of Time\", etc, of the Bad Movie Greatness they so richly deserve.<br /><br />So what makes Jack-O so great (in bad movie terms)? For starters, Steve Latshaw, the director, decided to cast his son, Ryan Latshaw, in the role of Sean Kelly. Unfortunately for Steve, Ryan Latshaw was dangerously close to being out-acted by a block of wood. The kid, seriously, has no ability to emote whatsoever. The end result: unintentional comic gold. The kid could be listening to a joke, or just moments away from getting his head smashed asunder, and his expression is one of stony \"emotionlessness\".<br /><br />The other aspect of the movie that we found awesome was the sheer number of \"double dreaming\" sequences. What is a double-dream? Well, it\\'s when a character wakes up from a nightmare, and then something equally nightmarish happens, and then the character wakes up again. Basically: they wake up after dreaming about waking up from a nightmare. Clever device, no? I believe the character of Sean Kelly experienced no less than 3 double-dreaming sequences.<br /><br />Let\\'s see... what else? Oh yeah! This movie has a veritable cast of thousands. It\\'s truly stunning to see how many speaking roles are introduced throughout the course of the movie. Best of all: almost none of the characters have anything to do with the story. They\\'re either killed by Jack-O, or they serve no purpose whatsoever.<br /><br />Jack-O himself was pretty sweet. Like most other B-movie monsters, Jack-O has the amazing ability to, seemingly, teleport over great distances. He\\'s invariably hanging-out, somewhere in the background, whenever you\\'re dealing with a major character. What\\'s puzzling, however, is that when he\\'s actually chasing someone he moves at a shambling/stumbling speed, and yet he\\'s able to keep up with people who are sprinting.<br /><br />That\\'s all for now. Closing remarks: if you\\'re looking for a unintentionally hilarious bad movie, you can\\'t go wrong by renting this beast.<br /><br />Bad Movie Score: 7/10 Good Movie Score: 3.5/10'"
            ]
          },
          "metadata": {},
          "execution_count": 125
        }
      ],
      "source": [
        "most_neg_data_test_incorrectly[0]"
      ]
    },
    {
      "cell_type": "code",
      "execution_count": 126,
      "metadata": {
        "id": "Gm0wxsDJTMMX",
        "colab": {
          "base_uri": "https://localhost:8080/"
        },
        "outputId": "df647bea-ab44-46fd-b58a-f9bef471e3d2"
      },
      "outputs": [
        {
          "output_type": "execute_result",
          "data": {
            "text/plain": [
              "(array([0.99980015], dtype=float32),\n",
              " array([0.99915445], dtype=float32),\n",
              " array([0.9989942], dtype=float32),\n",
              " array([0.9986444], dtype=float32),\n",
              " array([0.998204], dtype=float32),\n",
              " array([0.9980263], dtype=float32),\n",
              " array([0.99762887], dtype=float32),\n",
              " array([0.9971873], dtype=float32),\n",
              " array([0.9964637], dtype=float32),\n",
              " array([0.99644595], dtype=float32),\n",
              " array([0.9962094], dtype=float32),\n",
              " array([0.99589807], dtype=float32),\n",
              " array([0.9957795], dtype=float32),\n",
              " array([0.99467343], dtype=float32),\n",
              " array([0.9946601], dtype=float32),\n",
              " array([0.99456316], dtype=float32),\n",
              " array([0.9939586], dtype=float32),\n",
              " array([0.9939341], dtype=float32),\n",
              " array([0.9937542], dtype=float32),\n",
              " array([0.9937342], dtype=float32))"
            ]
          },
          "metadata": {},
          "execution_count": 126
        }
      ],
      "source": [
        "y_probas_pos_NNBest_incorrectly"
      ]
    },
    {
      "cell_type": "code",
      "execution_count": 127,
      "metadata": {
        "id": "jmtk9AXxTMPv",
        "colab": {
          "base_uri": "https://localhost:8080/"
        },
        "outputId": "03964031-ddfb-43e7-b6b7-ac4021e0fb8a"
      },
      "outputs": [
        {
          "output_type": "execute_result",
          "data": {
            "text/plain": [
              "(array([0.00020605], dtype=float32),\n",
              " array([0.00032619], dtype=float32),\n",
              " array([0.00032619], dtype=float32),\n",
              " array([0.00075081], dtype=float32),\n",
              " array([0.00076167], dtype=float32),\n",
              " array([0.00077957], dtype=float32),\n",
              " array([0.00203165], dtype=float32),\n",
              " array([0.00218548], dtype=float32),\n",
              " array([0.00242549], dtype=float32),\n",
              " array([0.00255104], dtype=float32),\n",
              " array([0.00256156], dtype=float32),\n",
              " array([0.00266402], dtype=float32),\n",
              " array([0.00266848], dtype=float32),\n",
              " array([0.00324451], dtype=float32),\n",
              " array([0.00368431], dtype=float32),\n",
              " array([0.00386061], dtype=float32),\n",
              " array([0.00387647], dtype=float32),\n",
              " array([0.00398598], dtype=float32),\n",
              " array([0.00422106], dtype=float32),\n",
              " array([0.0048343], dtype=float32))"
            ]
          },
          "metadata": {},
          "execution_count": 127
        }
      ],
      "source": [
        "y_probas_neg_NNBest_incorrectly"
      ]
    },
    {
      "cell_type": "code",
      "execution_count": 128,
      "metadata": {
        "id": "mLs_yQMjTRfB",
        "colab": {
          "base_uri": "https://localhost:8080/"
        },
        "outputId": "27e40900-97b7-4e55-ed9c-fec2cc3a7113"
      },
      "outputs": [
        {
          "output_type": "execute_result",
          "data": {
            "text/plain": [
              "(array([0.00020605], dtype=float32),\n",
              " array([0.00032619], dtype=float32),\n",
              " array([0.00032619], dtype=float32),\n",
              " array([0.00075081], dtype=float32),\n",
              " array([0.00076167], dtype=float32),\n",
              " array([0.00077957], dtype=float32),\n",
              " array([0.00203165], dtype=float32),\n",
              " array([0.00218548], dtype=float32),\n",
              " array([0.00242549], dtype=float32),\n",
              " array([0.00255104], dtype=float32),\n",
              " array([0.00256156], dtype=float32),\n",
              " array([0.00266402], dtype=float32),\n",
              " array([0.00266848], dtype=float32),\n",
              " array([0.00324451], dtype=float32),\n",
              " array([0.00368431], dtype=float32),\n",
              " array([0.00386061], dtype=float32),\n",
              " array([0.00387647], dtype=float32),\n",
              " array([0.00398598], dtype=float32),\n",
              " array([0.00422106], dtype=float32),\n",
              " array([0.0048343], dtype=float32))"
            ]
          },
          "metadata": {},
          "execution_count": 128
        }
      ],
      "source": [
        "y_probas_neg_NNBest_incorrectly"
      ]
    },
    {
      "cell_type": "code",
      "execution_count": 129,
      "metadata": {
        "id": "_ODKgfpoTRyM",
        "colab": {
          "base_uri": "https://localhost:8080/"
        },
        "outputId": "8f015284-b3d2-4d63-a3a7-4c4f2ceadc62"
      },
      "outputs": [
        {
          "output_type": "execute_result",
          "data": {
            "text/plain": [
              "array([[0.00020605],\n",
              "       [0.00032619],\n",
              "       [0.00032619],\n",
              "       [0.00075081],\n",
              "       [0.00076167],\n",
              "       [0.00077957],\n",
              "       [0.00203165],\n",
              "       [0.00218548],\n",
              "       [0.00242549],\n",
              "       [0.00255104],\n",
              "       [0.00256156],\n",
              "       [0.00266403],\n",
              "       [0.00266848],\n",
              "       [0.00324451],\n",
              "       [0.00368431],\n",
              "       [0.00386061],\n",
              "       [0.00387647],\n",
              "       [0.00398598],\n",
              "       [0.00422106],\n",
              "       [0.0048343 ]], dtype=float32)"
            ]
          },
          "metadata": {},
          "execution_count": 129
        }
      ],
      "source": [
        "y_proba_neg_NNBestDrop_incorrectly"
      ]
    },
    {
      "cell_type": "markdown",
      "metadata": {
        "id": "24T336qwpoG3"
      },
      "source": [
        "* Both models don't have much different between wrong prediction on positive and negative"
      ]
    }
  ],
  "metadata": {
    "accelerator": "GPU",
    "colab": {
      "collapsed_sections": [],
      "provenance": []
    },
    "kernelspec": {
      "display_name": "Python 3 (ipykernel)",
      "language": "python",
      "name": "python3"
    },
    "language_info": {
      "codemirror_mode": {
        "name": "ipython",
        "version": 3
      },
      "file_extension": ".py",
      "mimetype": "text/x-python",
      "name": "python",
      "nbconvert_exporter": "python",
      "pygments_lexer": "ipython3",
      "version": "3.7.8"
    },
    "gpuClass": "premium"
  },
  "nbformat": 4,
  "nbformat_minor": 0
}